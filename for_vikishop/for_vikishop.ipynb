{
 "cells": [
  {
   "cell_type": "markdown",
   "metadata": {},
   "source": [
    "# Проект для «Викишоп»"
   ]
  },
  {
   "cell_type": "markdown",
   "metadata": {},
   "source": [
    "Интернет-магазин «Викишоп» запускает новый сервис. Теперь пользователи могут редактировать и дополнять описания товаров, как в вики-сообществах. То есть клиенты предлагают свои правки и комментируют изменения других. Магазину нужен инструмент, который будет искать токсичные комментарии и отправлять их на модерацию. \n",
    "\n",
    "Обучите модель классифицировать комментарии на позитивные и негативные. В вашем распоряжении набор данных с разметкой о токсичности правок.\n",
    "\n",
    "Постройте модель со значением метрики качества *F1* не меньше 0.75. \n",
    "\n",
    "**Инструкция по выполнению проекта**\n",
    "\n",
    "1. Загрузите и подготовьте данные.\n",
    "2. Обучите разные модели. \n",
    "3. Сделайте выводы.\n",
    "\n",
    "Для выполнения проекта применять *BERT* необязательно, но вы можете попробовать.\n",
    "\n",
    "**Описание данных**\n",
    "\n",
    "Данные находятся в файле `toxic_comments.csv`. Столбец *text* в нём содержит текст комментария, а *toxic* — целевой признак."
   ]
  },
  {
   "cell_type": "markdown",
   "metadata": {},
   "source": [
    "## Подготовка"
   ]
  },
  {
   "cell_type": "code",
   "execution_count": 1,
   "metadata": {},
   "outputs": [
    {
     "name": "stderr",
     "output_type": "stream",
     "text": [
      "[nltk_data] Downloading package stopwords to\n",
      "[nltk_data]     C:\\Users\\кирилл\\AppData\\Roaming\\nltk_data...\n",
      "[nltk_data]   Package stopwords is already up-to-date!\n"
     ]
    }
   ],
   "source": [
    "import os\n",
    "import pandas as pd\n",
    "import numpy as np\n",
    "import matplotlib.pyplot as plt\n",
    "import transformers\n",
    "import torch\n",
    "from tqdm import notebook\n",
    "import re\n",
    "from sklearn.model_selection import KFold\n",
    "from sklearn.model_selection import train_test_split, GridSearchCV\n",
    "from sklearn.utils import shuffle\n",
    "from sklearn.feature_extraction.text import TfidfVectorizer\n",
    "from sklearn.utils import resample\n",
    "\n",
    "import nltk\n",
    "from nltk.corpus import stopwords\n",
    "from nltk.stem import WordNetLemmatizer\n",
    "nltk.download('stopwords')\n",
    "#nltk.download('wordnet')\n",
    "#nltk.download('punkt')\n",
    "\n",
    "from sklearn.linear_model import LogisticRegression\n",
    "from sklearn.ensemble import RandomForestClassifier\n",
    "from lightgbm import LGBMClassifier\n",
    "from catboost import CatBoostClassifier\n",
    "\n",
    "from sklearn.metrics import f1_score\n",
    "import time\n",
    "\n",
    "from imblearn.pipeline import Pipeline, make_pipeline\n",
    "from imblearn.over_sampling import SMOTE"
   ]
  },
  {
   "cell_type": "code",
   "execution_count": 3,
   "metadata": {},
   "outputs": [],
   "source": [
    "path1_data = '/datasets/toxic_comments.csv'\n",
    "path2_data = 'toxic_comments.csv'\n",
    "\n",
    "if os.path.exists(path1_data):\n",
    "    data = pd.read_csv(path1_data)\n",
    "elif os.path.exists(path2_data):\n",
    "    data = pd.read_csv(path2_data)\n",
    "else : \n",
    "    print('Something is Wrong')"
   ]
  },
  {
   "cell_type": "code",
   "execution_count": 4,
   "metadata": {
    "scrolled": true
   },
   "outputs": [
    {
     "name": "stdout",
     "output_type": "stream",
     "text": [
      "<class 'pandas.core.frame.DataFrame'>\n",
      "RangeIndex: 159292 entries, 0 to 159291\n",
      "Data columns (total 3 columns):\n",
      " #   Column      Non-Null Count   Dtype \n",
      "---  ------      --------------   ----- \n",
      " 0   Unnamed: 0  159292 non-null  int64 \n",
      " 1   text        159292 non-null  object\n",
      " 2   toxic       159292 non-null  int64 \n",
      "dtypes: int64(2), object(1)\n",
      "memory usage: 3.6+ MB\n"
     ]
    }
   ],
   "source": [
    "data.info()"
   ]
  },
  {
   "cell_type": "code",
   "execution_count": 4,
   "metadata": {},
   "outputs": [
    {
     "data": {
      "text/html": [
       "<div>\n",
       "<style scoped>\n",
       "    .dataframe tbody tr th:only-of-type {\n",
       "        vertical-align: middle;\n",
       "    }\n",
       "\n",
       "    .dataframe tbody tr th {\n",
       "        vertical-align: top;\n",
       "    }\n",
       "\n",
       "    .dataframe thead th {\n",
       "        text-align: right;\n",
       "    }\n",
       "</style>\n",
       "<table border=\"1\" class=\"dataframe\">\n",
       "  <thead>\n",
       "    <tr style=\"text-align: right;\">\n",
       "      <th></th>\n",
       "      <th>Unnamed: 0</th>\n",
       "      <th>text</th>\n",
       "      <th>toxic</th>\n",
       "    </tr>\n",
       "  </thead>\n",
       "  <tbody>\n",
       "    <tr>\n",
       "      <th>0</th>\n",
       "      <td>0</td>\n",
       "      <td>Explanation\\nWhy the edits made under my usern...</td>\n",
       "      <td>0</td>\n",
       "    </tr>\n",
       "    <tr>\n",
       "      <th>1</th>\n",
       "      <td>1</td>\n",
       "      <td>D'aww! He matches this background colour I'm s...</td>\n",
       "      <td>0</td>\n",
       "    </tr>\n",
       "    <tr>\n",
       "      <th>2</th>\n",
       "      <td>2</td>\n",
       "      <td>Hey man, I'm really not trying to edit war. It...</td>\n",
       "      <td>0</td>\n",
       "    </tr>\n",
       "    <tr>\n",
       "      <th>3</th>\n",
       "      <td>3</td>\n",
       "      <td>\"\\nMore\\nI can't make any real suggestions on ...</td>\n",
       "      <td>0</td>\n",
       "    </tr>\n",
       "    <tr>\n",
       "      <th>4</th>\n",
       "      <td>4</td>\n",
       "      <td>You, sir, are my hero. Any chance you remember...</td>\n",
       "      <td>0</td>\n",
       "    </tr>\n",
       "  </tbody>\n",
       "</table>\n",
       "</div>"
      ],
      "text/plain": [
       "   Unnamed: 0                                               text  toxic\n",
       "0           0  Explanation\\nWhy the edits made under my usern...      0\n",
       "1           1  D'aww! He matches this background colour I'm s...      0\n",
       "2           2  Hey man, I'm really not trying to edit war. It...      0\n",
       "3           3  \"\\nMore\\nI can't make any real suggestions on ...      0\n",
       "4           4  You, sir, are my hero. Any chance you remember...      0"
      ]
     },
     "execution_count": 4,
     "metadata": {},
     "output_type": "execute_result"
    }
   ],
   "source": [
    "data.head()"
   ]
  },
  {
   "cell_type": "code",
   "execution_count": 5,
   "metadata": {},
   "outputs": [],
   "source": [
    "data = data.drop('Unnamed: 0', axis=1)\n",
    "data = data.dropna()"
   ]
  },
  {
   "cell_type": "code",
   "execution_count": 6,
   "metadata": {},
   "outputs": [
    {
     "name": "stdout",
     "output_type": "stream",
     "text": [
      "<class 'pandas.core.frame.DataFrame'>\n",
      "Int64Index: 159292 entries, 0 to 159291\n",
      "Data columns (total 2 columns):\n",
      " #   Column  Non-Null Count   Dtype \n",
      "---  ------  --------------   ----- \n",
      " 0   text    159292 non-null  object\n",
      " 1   toxic   159292 non-null  int64 \n",
      "dtypes: int64(1), object(1)\n",
      "memory usage: 3.6+ MB\n"
     ]
    }
   ],
   "source": [
    "data.info()"
   ]
  },
  {
   "cell_type": "code",
   "execution_count": 7,
   "metadata": {
    "scrolled": true
   },
   "outputs": [
    {
     "data": {
      "text/plain": [
       "0    143106\n",
       "1     16186\n",
       "Name: toxic, dtype: int64"
      ]
     },
     "metadata": {},
     "output_type": "display_data"
    }
   ],
   "source": [
    "display(data['toxic'].value_counts())"
   ]
  },
  {
   "cell_type": "code",
   "execution_count": 8,
   "metadata": {
    "scrolled": true
   },
   "outputs": [
    {
     "data": {
      "image/png": "[encoded data removed]",
      "text/plain": [
       "<Figure size 432x288 with 1 Axes>"
      ]
     },
     "metadata": {
      "needs_background": "light"
     },
     "output_type": "display_data"
    }
   ],
   "source": [
    "h = data['toxic'].hist(bins=3, alpha=0.6, color='Green', grid=False)\n",
    "fig = h.get_figure()"
   ]
  },
  {
   "cell_type": "code",
   "execution_count": 9,
   "metadata": {},
   "outputs": [],
   "source": [
    "m = WordNetLemmatizer()\n",
    "def lemmatize(text):\n",
    "    \n",
    "    #lemm_list = m.lemmatize(text)\n",
    "    #lemm_text = \" \".join(lemm_list)  \n",
    "    word_list = nltk.word_tokenize(text)\n",
    "    lemm_text = ' '.join([m.lemmatize(w) for w in word_list])\n",
    "    return lemm_text\n",
    "\n",
    "def clear_text(text):\n",
    "    text = re.sub(r'[^a-zA-Z]',' ', text)\n",
    "    text = \" \".join(text.split())\n",
    "    return text\n",
    "\n",
    "data['text'] = data['text'].apply(clear_text)\n",
    "data['lemmatize'] = data['text'].apply(lemmatize)"
   ]
  },
  {
   "cell_type": "code",
   "execution_count": 10,
   "metadata": {},
   "outputs": [
    {
     "name": "stdout",
     "output_type": "stream",
     "text": [
      "(119469, 2)\n",
      "(31859, 2)\n",
      "(39823, 2)\n"
     ]
    }
   ],
   "source": [
    "data = data.drop(['text'], axis = 1)\n",
    "data_train, data_valid = train_test_split(data , test_size = 0.2, random_state = 12345)\n",
    "data_train, data_test = train_test_split(data , test_size = 0.25, random_state = 12345)\n",
    "print(data_train.shape)\n",
    "print(data_valid.shape)\n",
    "print(data_test.shape)"
   ]
  },
  {
   "cell_type": "code",
   "execution_count": 11,
   "metadata": {},
   "outputs": [],
   "source": [
    "features_train_full = data_train.drop('toxic', axis=1)\n",
    "target_train_full = data_train['toxic']"
   ]
  },
  {
   "cell_type": "code",
   "execution_count": 12,
   "metadata": {},
   "outputs": [
    {
     "name": "stdout",
     "output_type": "stream",
     "text": [
      "(12142, 2)\n",
      "(107327, 2)\n",
      "(12142, 2)\n",
      "0    12142\n",
      "1    12142\n",
      "Name: toxic, dtype: int64\n"
     ]
    }
   ],
   "source": [
    "#downsemple\n",
    "tox_messages = data_train[data_train[\"toxic\"] == 1]\n",
    "untox_messages  = data_train[data_train[\"toxic\"] == 0]\n",
    "print(tox_messages.shape)\n",
    "print(untox_messages.shape)\n",
    "\n",
    "ham_downsample = resample(untox_messages,\n",
    "             replace=True,\n",
    "             n_samples=len(tox_messages),\n",
    "             random_state=42)\n",
    "\n",
    "print(ham_downsample.shape)\n",
    "\n",
    "data_train_downsampled = pd.concat([ham_downsample, tox_messages])\n",
    "\n",
    "print(data_train_downsampled[\"toxic\"].value_counts())"
   ]
  },
  {
   "cell_type": "code",
   "execution_count": 13,
   "metadata": {},
   "outputs": [],
   "source": [
    "features_train = data_train_downsampled.drop('toxic', axis=1)\n",
    "target_train = data_train_downsampled['toxic']\n",
    "\n",
    "features_valid = data_valid.drop('toxic', axis=1)\n",
    "target_valid = data_valid['toxic']\n",
    "\n",
    "features_test = data_test.drop('toxic', axis=1)\n",
    "target_test = data_test['toxic']"
   ]
  },
  {
   "cell_type": "code",
   "execution_count": 14,
   "metadata": {},
   "outputs": [
    {
     "name": "stdout",
     "output_type": "stream",
     "text": [
      "(24284, 1)\n",
      "(24284,)\n",
      "(31859, 1)\n",
      "(31859,)\n",
      "(39823, 1)\n",
      "(39823,)\n"
     ]
    }
   ],
   "source": [
    "print(features_train.shape)\n",
    "print(target_train.shape)\n",
    "\n",
    "\n",
    "print(features_valid.shape)\n",
    "print(target_valid.shape)\n",
    "\n",
    "\n",
    "print(features_test.shape)\n",
    "print(target_test.shape)"
   ]
  },
  {
   "cell_type": "code",
   "execution_count": 15,
   "metadata": {},
   "outputs": [],
   "source": [
    "corpus_train = features_train['lemmatize'].values\n",
    "corpus_valid = features_valid['lemmatize'].values\n",
    "corpus_test = features_test['lemmatize'].values\n",
    "corpus_train_full = features_train_full['lemmatize'].values"
   ]
  },
  {
   "cell_type": "code",
   "execution_count": 16,
   "metadata": {},
   "outputs": [],
   "source": [
    "stopwords = set(stopwords.words('english'))\n",
    "count_tf_idf = TfidfVectorizer(stop_words=list(stopwords))"
   ]
  },
  {
   "cell_type": "code",
   "execution_count": 17,
   "metadata": {},
   "outputs": [],
   "source": [
    "features_train_full = count_tf_idf.fit_transform(corpus_train_full)\n",
    "tf_idf_valid = count_tf_idf.transform(corpus_valid)\n",
    "tf_idf_test = count_tf_idf.transform(corpus_test)\n",
    "tf_idf_train = count_tf_idf.transform(corpus_train)"
   ]
  },
  {
   "cell_type": "code",
   "execution_count": 18,
   "metadata": {},
   "outputs": [
    {
     "name": "stdout",
     "output_type": "stream",
     "text": [
      "(24284, 137912)\n",
      "(24284,)\n",
      "(31859, 137912)\n",
      "(31859,)\n",
      "(39823, 137912)\n",
      "(39823,)\n"
     ]
    }
   ],
   "source": [
    "print(tf_idf_train.shape)\n",
    "print(target_train.shape)\n",
    "print(tf_idf_valid.shape)\n",
    "print(target_valid.shape)\n",
    "print(tf_idf_test.shape)\n",
    "print(target_test.shape)"
   ]
  },
  {
   "cell_type": "code",
   "execution_count": 19,
   "metadata": {},
   "outputs": [],
   "source": [
    "kf = KFold(n_splits=3, shuffle=False)"
   ]
  },
  {
   "cell_type": "markdown",
   "metadata": {},
   "source": [
    "- Импортировал библиотеки\n",
    "- Открыд файл\n",
    "- Ознакомился с жанными \n",
    "- Сделал леммитизацию\n",
    "- Сбалансировал классы\n",
    "- Расчитал TF-IDF"
   ]
  },
  {
   "cell_type": "markdown",
   "metadata": {},
   "source": [
    "## Обучение"
   ]
  },
  {
   "cell_type": "code",
   "execution_count": 21,
   "metadata": {
    "scrolled": true
   },
   "outputs": [
    {
     "name": "stdout",
     "output_type": "stream",
     "text": [
      "Fitting 3 folds for each of 7 candidates, totalling 21 fits\n",
      "[CV 1/3; 1/7] START C=1.2589254117941673........................................\n",
      "[CV 1/3; 1/7] END .........C=1.2589254117941673;, score=0.746 total time=  50.2s\n",
      "[CV 2/3; 1/7] START C=1.2589254117941673........................................\n"
     ]
    },
    {
     "name": "stderr",
     "output_type": "stream",
     "text": [
      "/opt/conda/lib/python3.9/site-packages/sklearn/linear_model/_logistic.py:458: ConvergenceWarning: lbfgs failed to converge (status=1):\n",
      "STOP: TOTAL NO. of ITERATIONS REACHED LIMIT.\n",
      "\n",
      "Increase the number of iterations (max_iter) or scale the data as shown in:\n",
      "    https://scikit-learn.org/stable/modules/preprocessing.html\n",
      "Please also refer to the documentation for alternative solver options:\n",
      "    https://scikit-learn.org/stable/modules/linear_model.html#logistic-regression\n",
      "  n_iter_i = _check_optimize_result(\n"
     ]
    },
    {
     "name": "stdout",
     "output_type": "stream",
     "text": [
      "[CV 2/3; 1/7] END .........C=1.2589254117941673;, score=0.746 total time=  49.8s\n",
      "[CV 3/3; 1/7] START C=1.2589254117941673........................................\n",
      "[CV 3/3; 1/7] END .........C=1.2589254117941673;, score=0.749 total time=  48.6s\n",
      "[CV 1/3; 2/7] START C=56.23413251903494.........................................\n"
     ]
    },
    {
     "name": "stderr",
     "output_type": "stream",
     "text": [
      "/opt/conda/lib/python3.9/site-packages/sklearn/linear_model/_logistic.py:458: ConvergenceWarning: lbfgs failed to converge (status=1):\n",
      "STOP: TOTAL NO. of ITERATIONS REACHED LIMIT.\n",
      "\n",
      "Increase the number of iterations (max_iter) or scale the data as shown in:\n",
      "    https://scikit-learn.org/stable/modules/preprocessing.html\n",
      "Please also refer to the documentation for alternative solver options:\n",
      "    https://scikit-learn.org/stable/modules/linear_model.html#logistic-regression\n",
      "  n_iter_i = _check_optimize_result(\n"
     ]
    },
    {
     "name": "stdout",
     "output_type": "stream",
     "text": [
      "[CV 1/3; 2/7] END ..........C=56.23413251903494;, score=0.741 total time=  50.7s\n",
      "[CV 2/3; 2/7] START C=56.23413251903494.........................................\n"
     ]
    },
    {
     "name": "stderr",
     "output_type": "stream",
     "text": [
      "/opt/conda/lib/python3.9/site-packages/sklearn/linear_model/_logistic.py:458: ConvergenceWarning: lbfgs failed to converge (status=1):\n",
      "STOP: TOTAL NO. of ITERATIONS REACHED LIMIT.\n",
      "\n",
      "Increase the number of iterations (max_iter) or scale the data as shown in:\n",
      "    https://scikit-learn.org/stable/modules/preprocessing.html\n",
      "Please also refer to the documentation for alternative solver options:\n",
      "    https://scikit-learn.org/stable/modules/linear_model.html#logistic-regression\n",
      "  n_iter_i = _check_optimize_result(\n"
     ]
    },
    {
     "name": "stdout",
     "output_type": "stream",
     "text": [
      "[CV 2/3; 2/7] END ..........C=56.23413251903494;, score=0.750 total time=  50.2s\n",
      "[CV 3/3; 2/7] START C=56.23413251903494.........................................\n"
     ]
    },
    {
     "name": "stderr",
     "output_type": "stream",
     "text": [
      "/opt/conda/lib/python3.9/site-packages/sklearn/linear_model/_logistic.py:458: ConvergenceWarning: lbfgs failed to converge (status=1):\n",
      "STOP: TOTAL NO. of ITERATIONS REACHED LIMIT.\n",
      "\n",
      "Increase the number of iterations (max_iter) or scale the data as shown in:\n",
      "    https://scikit-learn.org/stable/modules/preprocessing.html\n",
      "Please also refer to the documentation for alternative solver options:\n",
      "    https://scikit-learn.org/stable/modules/linear_model.html#logistic-regression\n",
      "  n_iter_i = _check_optimize_result(\n"
     ]
    },
    {
     "name": "stdout",
     "output_type": "stream",
     "text": [
      "[CV 3/3; 2/7] END ..........C=56.23413251903494;, score=0.753 total time=  51.2s\n",
      "[CV 1/3; 3/7] START C=2511.886431509582.........................................\n"
     ]
    },
    {
     "name": "stderr",
     "output_type": "stream",
     "text": [
      "/opt/conda/lib/python3.9/site-packages/sklearn/linear_model/_logistic.py:458: ConvergenceWarning: lbfgs failed to converge (status=1):\n",
      "STOP: TOTAL NO. of ITERATIONS REACHED LIMIT.\n",
      "\n",
      "Increase the number of iterations (max_iter) or scale the data as shown in:\n",
      "    https://scikit-learn.org/stable/modules/preprocessing.html\n",
      "Please also refer to the documentation for alternative solver options:\n",
      "    https://scikit-learn.org/stable/modules/linear_model.html#logistic-regression\n",
      "  n_iter_i = _check_optimize_result(\n"
     ]
    },
    {
     "name": "stdout",
     "output_type": "stream",
     "text": [
      "[CV 1/3; 3/7] END ..........C=2511.886431509582;, score=0.721 total time=  48.2s\n",
      "[CV 2/3; 3/7] START C=2511.886431509582.........................................\n"
     ]
    },
    {
     "name": "stderr",
     "output_type": "stream",
     "text": [
      "/opt/conda/lib/python3.9/site-packages/sklearn/linear_model/_logistic.py:458: ConvergenceWarning: lbfgs failed to converge (status=1):\n",
      "STOP: TOTAL NO. of ITERATIONS REACHED LIMIT.\n",
      "\n",
      "Increase the number of iterations (max_iter) or scale the data as shown in:\n",
      "    https://scikit-learn.org/stable/modules/preprocessing.html\n",
      "Please also refer to the documentation for alternative solver options:\n",
      "    https://scikit-learn.org/stable/modules/linear_model.html#logistic-regression\n",
      "  n_iter_i = _check_optimize_result(\n"
     ]
    },
    {
     "name": "stdout",
     "output_type": "stream",
     "text": [
      "[CV 2/3; 3/7] END ..........C=2511.886431509582;, score=0.721 total time=  51.6s\n",
      "[CV 3/3; 3/7] START C=2511.886431509582.........................................\n"
     ]
    },
    {
     "name": "stderr",
     "output_type": "stream",
     "text": [
      "/opt/conda/lib/python3.9/site-packages/sklearn/linear_model/_logistic.py:458: ConvergenceWarning: lbfgs failed to converge (status=1):\n",
      "STOP: TOTAL NO. of ITERATIONS REACHED LIMIT.\n",
      "\n",
      "Increase the number of iterations (max_iter) or scale the data as shown in:\n",
      "    https://scikit-learn.org/stable/modules/preprocessing.html\n",
      "Please also refer to the documentation for alternative solver options:\n",
      "    https://scikit-learn.org/stable/modules/linear_model.html#logistic-regression\n",
      "  n_iter_i = _check_optimize_result(\n"
     ]
    },
    {
     "name": "stdout",
     "output_type": "stream",
     "text": [
      "[CV 3/3; 3/7] END ..........C=2511.886431509582;, score=0.731 total time=  49.7s\n",
      "[CV 1/3; 4/7] START C=112201.84543019629........................................\n"
     ]
    },
    {
     "name": "stderr",
     "output_type": "stream",
     "text": [
      "/opt/conda/lib/python3.9/site-packages/sklearn/linear_model/_logistic.py:458: ConvergenceWarning: lbfgs failed to converge (status=1):\n",
      "STOP: TOTAL NO. of ITERATIONS REACHED LIMIT.\n",
      "\n",
      "Increase the number of iterations (max_iter) or scale the data as shown in:\n",
      "    https://scikit-learn.org/stable/modules/preprocessing.html\n",
      "Please also refer to the documentation for alternative solver options:\n",
      "    https://scikit-learn.org/stable/modules/linear_model.html#logistic-regression\n",
      "  n_iter_i = _check_optimize_result(\n"
     ]
    },
    {
     "name": "stdout",
     "output_type": "stream",
     "text": [
      "[CV 1/3; 4/7] END .........C=112201.84543019629;, score=0.707 total time=  48.6s\n",
      "[CV 2/3; 4/7] START C=112201.84543019629........................................\n"
     ]
    },
    {
     "name": "stderr",
     "output_type": "stream",
     "text": [
      "/opt/conda/lib/python3.9/site-packages/sklearn/linear_model/_logistic.py:458: ConvergenceWarning: lbfgs failed to converge (status=1):\n",
      "STOP: TOTAL NO. of ITERATIONS REACHED LIMIT.\n",
      "\n",
      "Increase the number of iterations (max_iter) or scale the data as shown in:\n",
      "    https://scikit-learn.org/stable/modules/preprocessing.html\n",
      "Please also refer to the documentation for alternative solver options:\n",
      "    https://scikit-learn.org/stable/modules/linear_model.html#logistic-regression\n",
      "  n_iter_i = _check_optimize_result(\n"
     ]
    },
    {
     "name": "stdout",
     "output_type": "stream",
     "text": [
      "[CV 2/3; 4/7] END .........C=112201.84543019629;, score=0.719 total time=  50.0s\n",
      "[CV 3/3; 4/7] START C=112201.84543019629........................................\n"
     ]
    },
    {
     "name": "stderr",
     "output_type": "stream",
     "text": [
      "/opt/conda/lib/python3.9/site-packages/sklearn/linear_model/_logistic.py:458: ConvergenceWarning: lbfgs failed to converge (status=1):\n",
      "STOP: TOTAL NO. of ITERATIONS REACHED LIMIT.\n",
      "\n",
      "Increase the number of iterations (max_iter) or scale the data as shown in:\n",
      "    https://scikit-learn.org/stable/modules/preprocessing.html\n",
      "Please also refer to the documentation for alternative solver options:\n",
      "    https://scikit-learn.org/stable/modules/linear_model.html#logistic-regression\n",
      "  n_iter_i = _check_optimize_result(\n"
     ]
    },
    {
     "name": "stdout",
     "output_type": "stream",
     "text": [
      "[CV 3/3; 4/7] END .........C=112201.84543019629;, score=0.721 total time=  47.7s\n",
      "[CV 1/3; 5/7] START C=5011872.336272725.........................................\n"
     ]
    },
    {
     "name": "stderr",
     "output_type": "stream",
     "text": [
      "/opt/conda/lib/python3.9/site-packages/sklearn/linear_model/_logistic.py:458: ConvergenceWarning: lbfgs failed to converge (status=1):\n",
      "STOP: TOTAL NO. of ITERATIONS REACHED LIMIT.\n",
      "\n",
      "Increase the number of iterations (max_iter) or scale the data as shown in:\n",
      "    https://scikit-learn.org/stable/modules/preprocessing.html\n",
      "Please also refer to the documentation for alternative solver options:\n",
      "    https://scikit-learn.org/stable/modules/linear_model.html#logistic-regression\n",
      "  n_iter_i = _check_optimize_result(\n"
     ]
    },
    {
     "name": "stdout",
     "output_type": "stream",
     "text": [
      "[CV 1/3; 5/7] END ..........C=5011872.336272725;, score=0.713 total time=  48.7s\n",
      "[CV 2/3; 5/7] START C=5011872.336272725.........................................\n"
     ]
    },
    {
     "name": "stderr",
     "output_type": "stream",
     "text": [
      "/opt/conda/lib/python3.9/site-packages/sklearn/linear_model/_logistic.py:458: ConvergenceWarning: lbfgs failed to converge (status=1):\n",
      "STOP: TOTAL NO. of ITERATIONS REACHED LIMIT.\n",
      "\n",
      "Increase the number of iterations (max_iter) or scale the data as shown in:\n",
      "    https://scikit-learn.org/stable/modules/preprocessing.html\n",
      "Please also refer to the documentation for alternative solver options:\n",
      "    https://scikit-learn.org/stable/modules/linear_model.html#logistic-regression\n",
      "  n_iter_i = _check_optimize_result(\n"
     ]
    },
    {
     "name": "stdout",
     "output_type": "stream",
     "text": [
      "[CV 2/3; 5/7] END ..........C=5011872.336272725;, score=0.714 total time=  49.6s\n",
      "[CV 3/3; 5/7] START C=5011872.336272725.........................................\n"
     ]
    },
    {
     "name": "stderr",
     "output_type": "stream",
     "text": [
      "/opt/conda/lib/python3.9/site-packages/sklearn/linear_model/_logistic.py:458: ConvergenceWarning: lbfgs failed to converge (status=1):\n",
      "STOP: TOTAL NO. of ITERATIONS REACHED LIMIT.\n",
      "\n",
      "Increase the number of iterations (max_iter) or scale the data as shown in:\n",
      "    https://scikit-learn.org/stable/modules/preprocessing.html\n",
      "Please also refer to the documentation for alternative solver options:\n",
      "    https://scikit-learn.org/stable/modules/linear_model.html#logistic-regression\n",
      "  n_iter_i = _check_optimize_result(\n"
     ]
    },
    {
     "name": "stdout",
     "output_type": "stream",
     "text": [
      "[CV 3/3; 5/7] END ..........C=5011872.336272725;, score=0.717 total time=  52.2s\n",
      "[CV 1/3; 6/7] START C=223872113.8568338.........................................\n"
     ]
    },
    {
     "name": "stderr",
     "output_type": "stream",
     "text": [
      "/opt/conda/lib/python3.9/site-packages/sklearn/linear_model/_logistic.py:458: ConvergenceWarning: lbfgs failed to converge (status=1):\n",
      "STOP: TOTAL NO. of ITERATIONS REACHED LIMIT.\n",
      "\n",
      "Increase the number of iterations (max_iter) or scale the data as shown in:\n",
      "    https://scikit-learn.org/stable/modules/preprocessing.html\n",
      "Please also refer to the documentation for alternative solver options:\n",
      "    https://scikit-learn.org/stable/modules/linear_model.html#logistic-regression\n",
      "  n_iter_i = _check_optimize_result(\n"
     ]
    },
    {
     "name": "stdout",
     "output_type": "stream",
     "text": [
      "[CV 1/3; 6/7] END ..........C=223872113.8568338;, score=0.713 total time=  48.8s\n",
      "[CV 2/3; 6/7] START C=223872113.8568338.........................................\n"
     ]
    },
    {
     "name": "stderr",
     "output_type": "stream",
     "text": [
      "/opt/conda/lib/python3.9/site-packages/sklearn/linear_model/_logistic.py:458: ConvergenceWarning: lbfgs failed to converge (status=1):\n",
      "STOP: TOTAL NO. of ITERATIONS REACHED LIMIT.\n",
      "\n",
      "Increase the number of iterations (max_iter) or scale the data as shown in:\n",
      "    https://scikit-learn.org/stable/modules/preprocessing.html\n",
      "Please also refer to the documentation for alternative solver options:\n",
      "    https://scikit-learn.org/stable/modules/linear_model.html#logistic-regression\n",
      "  n_iter_i = _check_optimize_result(\n"
     ]
    },
    {
     "name": "stdout",
     "output_type": "stream",
     "text": [
      "[CV 2/3; 6/7] END ..........C=223872113.8568338;, score=0.715 total time=  50.5s\n",
      "[CV 3/3; 6/7] START C=223872113.8568338.........................................\n"
     ]
    },
    {
     "name": "stderr",
     "output_type": "stream",
     "text": [
      "/opt/conda/lib/python3.9/site-packages/sklearn/linear_model/_logistic.py:458: ConvergenceWarning: lbfgs failed to converge (status=1):\n",
      "STOP: TOTAL NO. of ITERATIONS REACHED LIMIT.\n",
      "\n",
      "Increase the number of iterations (max_iter) or scale the data as shown in:\n",
      "    https://scikit-learn.org/stable/modules/preprocessing.html\n",
      "Please also refer to the documentation for alternative solver options:\n",
      "    https://scikit-learn.org/stable/modules/linear_model.html#logistic-regression\n",
      "  n_iter_i = _check_optimize_result(\n"
     ]
    },
    {
     "name": "stdout",
     "output_type": "stream",
     "text": [
      "[CV 3/3; 6/7] END ..........C=223872113.8568338;, score=0.723 total time=  49.7s\n",
      "[CV 1/3; 7/7] START C=10000000000.0.............................................\n"
     ]
    },
    {
     "name": "stderr",
     "output_type": "stream",
     "text": [
      "/opt/conda/lib/python3.9/site-packages/sklearn/linear_model/_logistic.py:458: ConvergenceWarning: lbfgs failed to converge (status=1):\n",
      "STOP: TOTAL NO. of ITERATIONS REACHED LIMIT.\n",
      "\n",
      "Increase the number of iterations (max_iter) or scale the data as shown in:\n",
      "    https://scikit-learn.org/stable/modules/preprocessing.html\n",
      "Please also refer to the documentation for alternative solver options:\n",
      "    https://scikit-learn.org/stable/modules/linear_model.html#logistic-regression\n",
      "  n_iter_i = _check_optimize_result(\n"
     ]
    },
    {
     "name": "stdout",
     "output_type": "stream",
     "text": [
      "[CV 1/3; 7/7] END ..............C=10000000000.0;, score=0.715 total time=  49.9s\n",
      "[CV 2/3; 7/7] START C=10000000000.0.............................................\n"
     ]
    },
    {
     "name": "stderr",
     "output_type": "stream",
     "text": [
      "/opt/conda/lib/python3.9/site-packages/sklearn/linear_model/_logistic.py:458: ConvergenceWarning: lbfgs failed to converge (status=1):\n",
      "STOP: TOTAL NO. of ITERATIONS REACHED LIMIT.\n",
      "\n",
      "Increase the number of iterations (max_iter) or scale the data as shown in:\n",
      "    https://scikit-learn.org/stable/modules/preprocessing.html\n",
      "Please also refer to the documentation for alternative solver options:\n",
      "    https://scikit-learn.org/stable/modules/linear_model.html#logistic-regression\n",
      "  n_iter_i = _check_optimize_result(\n"
     ]
    },
    {
     "name": "stdout",
     "output_type": "stream",
     "text": [
      "[CV 2/3; 7/7] END ..............C=10000000000.0;, score=0.717 total time=  49.0s\n",
      "[CV 3/3; 7/7] START C=10000000000.0.............................................\n"
     ]
    },
    {
     "name": "stderr",
     "output_type": "stream",
     "text": [
      "/opt/conda/lib/python3.9/site-packages/sklearn/linear_model/_logistic.py:458: ConvergenceWarning: lbfgs failed to converge (status=1):\n",
      "STOP: TOTAL NO. of ITERATIONS REACHED LIMIT.\n",
      "\n",
      "Increase the number of iterations (max_iter) or scale the data as shown in:\n",
      "    https://scikit-learn.org/stable/modules/preprocessing.html\n",
      "Please also refer to the documentation for alternative solver options:\n",
      "    https://scikit-learn.org/stable/modules/linear_model.html#logistic-regression\n",
      "  n_iter_i = _check_optimize_result(\n"
     ]
    },
    {
     "name": "stdout",
     "output_type": "stream",
     "text": [
      "[CV 3/3; 7/7] END ..............C=10000000000.0;, score=0.723 total time=  48.7s\n",
      "0.748103598474827\n"
     ]
    },
    {
     "name": "stderr",
     "output_type": "stream",
     "text": [
      "/opt/conda/lib/python3.9/site-packages/sklearn/linear_model/_logistic.py:458: ConvergenceWarning: lbfgs failed to converge (status=1):\n",
      "STOP: TOTAL NO. of ITERATIONS REACHED LIMIT.\n",
      "\n",
      "Increase the number of iterations (max_iter) or scale the data as shown in:\n",
      "    https://scikit-learn.org/stable/modules/preprocessing.html\n",
      "Please also refer to the documentation for alternative solver options:\n",
      "    https://scikit-learn.org/stable/modules/linear_model.html#logistic-regression\n",
      "  n_iter_i = _check_optimize_result(\n"
     ]
    }
   ],
   "source": [
    "param = {\"C\":np.logspace(0.1 , 10, 7)}\n",
    "grid_lr = GridSearchCV(LogisticRegression(class_weight='balanced'),\n",
    "                      param,\n",
    "                      cv=kf,\n",
    "                      scoring='f1',\n",
    "                      n_jobs=-1,\n",
    "                      verbose=10\n",
    "                      )\n",
    "\n",
    "grid_lr.fit(features_train_full, target_train_full) #(upsample score = 0.65  , downsample score = 0.55 , balanced score = 74.5)\n",
    "print(grid_lr.best_score_)"
   ]
  },
  {
   "cell_type": "code",
   "execution_count": 22,
   "metadata": {},
   "outputs": [],
   "source": [
    "start = time.time()\n",
    "predictions = grid_lr.best_estimator_.predict(tf_idf_train)\n",
    "end = time.time()\n",
    "pred_lr_time = end-start "
   ]
  },
  {
   "cell_type": "code",
   "execution_count": 24,
   "metadata": {
    "scrolled": true
   },
   "outputs": [
    {
     "name": "stdout",
     "output_type": "stream",
     "text": [
      "Fitting 3 folds for each of 65 candidates, totalling 195 fits\n",
      "[CV 1/3; 1/65] START max_depth=2, n_estimators=10...............................\n",
      "[CV 1/3; 1/65] END max_depth=2, n_estimators=10;, score=0.221 total time=   0.7s\n",
      "[CV 2/3; 1/65] START max_depth=2, n_estimators=10...............................\n",
      "[CV 2/3; 1/65] END max_depth=2, n_estimators=10;, score=0.220 total time=   0.6s\n",
      "[CV 3/3; 1/65] START max_depth=2, n_estimators=10...............................\n",
      "[CV 3/3; 1/65] END max_depth=2, n_estimators=10;, score=0.237 total time=   0.6s\n",
      "[CV 1/3; 2/65] START max_depth=2, n_estimators=20...............................\n",
      "[CV 1/3; 2/65] END max_depth=2, n_estimators=20;, score=0.241 total time=   1.2s\n",
      "[CV 2/3; 2/65] START max_depth=2, n_estimators=20...............................\n",
      "[CV 2/3; 2/65] END max_depth=2, n_estimators=20;, score=0.241 total time=   1.2s\n",
      "[CV 3/3; 2/65] START max_depth=2, n_estimators=20...............................\n",
      "[CV 3/3; 2/65] END max_depth=2, n_estimators=20;, score=0.240 total time=   1.2s\n",
      "[CV 1/3; 3/65] START max_depth=2, n_estimators=30...............................\n",
      "[CV 1/3; 3/65] END max_depth=2, n_estimators=30;, score=0.257 total time=   1.6s\n",
      "[CV 2/3; 3/65] START max_depth=2, n_estimators=30...............................\n",
      "[CV 2/3; 3/65] END max_depth=2, n_estimators=30;, score=0.248 total time=   1.6s\n",
      "[CV 3/3; 3/65] START max_depth=2, n_estimators=30...............................\n",
      "[CV 3/3; 3/65] END max_depth=2, n_estimators=30;, score=0.251 total time=   1.5s\n",
      "[CV 1/3; 4/65] START max_depth=2, n_estimators=40...............................\n",
      "[CV 1/3; 4/65] END max_depth=2, n_estimators=40;, score=0.279 total time=   2.2s\n",
      "[CV 2/3; 4/65] START max_depth=2, n_estimators=40...............................\n",
      "[CV 2/3; 4/65] END max_depth=2, n_estimators=40;, score=0.272 total time=   2.2s\n",
      "[CV 3/3; 4/65] START max_depth=2, n_estimators=40...............................\n",
      "[CV 3/3; 4/65] END max_depth=2, n_estimators=40;, score=0.303 total time=   2.0s\n",
      "[CV 1/3; 5/65] START max_depth=2, n_estimators=50...............................\n",
      "[CV 1/3; 5/65] END max_depth=2, n_estimators=50;, score=0.279 total time=   2.6s\n",
      "[CV 2/3; 5/65] START max_depth=2, n_estimators=50...............................\n",
      "[CV 2/3; 5/65] END max_depth=2, n_estimators=50;, score=0.275 total time=   2.6s\n",
      "[CV 3/3; 5/65] START max_depth=2, n_estimators=50...............................\n",
      "[CV 3/3; 5/65] END max_depth=2, n_estimators=50;, score=0.293 total time=   2.7s\n",
      "[CV 1/3; 6/65] START max_depth=3, n_estimators=10...............................\n",
      "[CV 1/3; 6/65] END max_depth=3, n_estimators=10;, score=0.219 total time=   0.8s\n",
      "[CV 2/3; 6/65] START max_depth=3, n_estimators=10...............................\n",
      "[CV 2/3; 6/65] END max_depth=3, n_estimators=10;, score=0.228 total time=   0.8s\n",
      "[CV 3/3; 6/65] START max_depth=3, n_estimators=10...............................\n",
      "[CV 3/3; 6/65] END max_depth=3, n_estimators=10;, score=0.237 total time=   0.9s\n",
      "[CV 1/3; 7/65] START max_depth=3, n_estimators=20...............................\n",
      "[CV 1/3; 7/65] END max_depth=3, n_estimators=20;, score=0.248 total time=   1.6s\n",
      "[CV 2/3; 7/65] START max_depth=3, n_estimators=20...............................\n",
      "[CV 2/3; 7/65] END max_depth=3, n_estimators=20;, score=0.251 total time=   1.4s\n",
      "[CV 3/3; 7/65] START max_depth=3, n_estimators=20...............................\n",
      "[CV 3/3; 7/65] END max_depth=3, n_estimators=20;, score=0.369 total time=   1.6s\n",
      "[CV 1/3; 8/65] START max_depth=3, n_estimators=30...............................\n",
      "[CV 1/3; 8/65] END max_depth=3, n_estimators=30;, score=0.289 total time=   2.2s\n",
      "[CV 2/3; 8/65] START max_depth=3, n_estimators=30...............................\n",
      "[CV 2/3; 8/65] END max_depth=3, n_estimators=30;, score=0.266 total time=   2.2s\n",
      "[CV 3/3; 8/65] START max_depth=3, n_estimators=30...............................\n",
      "[CV 3/3; 8/65] END max_depth=3, n_estimators=30;, score=0.266 total time=   2.1s\n",
      "[CV 1/3; 9/65] START max_depth=3, n_estimators=40...............................\n",
      "[CV 1/3; 9/65] END max_depth=3, n_estimators=40;, score=0.272 total time=   2.9s\n",
      "[CV 2/3; 9/65] START max_depth=3, n_estimators=40...............................\n",
      "[CV 2/3; 9/65] END max_depth=3, n_estimators=40;, score=0.302 total time=   3.0s\n",
      "[CV 3/3; 9/65] START max_depth=3, n_estimators=40...............................\n",
      "[CV 3/3; 9/65] END max_depth=3, n_estimators=40;, score=0.294 total time=   2.8s\n",
      "[CV 1/3; 10/65] START max_depth=3, n_estimators=50..............................\n",
      "[CV 1/3; 10/65] END max_depth=3, n_estimators=50;, score=0.300 total time=   3.4s\n",
      "[CV 2/3; 10/65] START max_depth=3, n_estimators=50..............................\n",
      "[CV 2/3; 10/65] END max_depth=3, n_estimators=50;, score=0.286 total time=   3.4s\n",
      "[CV 3/3; 10/65] START max_depth=3, n_estimators=50..............................\n",
      "[CV 3/3; 10/65] END max_depth=3, n_estimators=50;, score=0.304 total time=   3.5s\n",
      "[CV 1/3; 11/65] START max_depth=4, n_estimators=10..............................\n",
      "[CV 1/3; 11/65] END max_depth=4, n_estimators=10;, score=0.238 total time=   1.0s\n",
      "[CV 2/3; 11/65] START max_depth=4, n_estimators=10..............................\n",
      "[CV 2/3; 11/65] END max_depth=4, n_estimators=10;, score=0.217 total time=   0.9s\n",
      "[CV 3/3; 11/65] START max_depth=4, n_estimators=10..............................\n",
      "[CV 3/3; 11/65] END max_depth=4, n_estimators=10;, score=0.246 total time=   1.0s\n",
      "[CV 1/3; 12/65] START max_depth=4, n_estimators=20..............................\n",
      "[CV 1/3; 12/65] END max_depth=4, n_estimators=20;, score=0.275 total time=   1.9s\n",
      "[CV 2/3; 12/65] START max_depth=4, n_estimators=20..............................\n",
      "[CV 2/3; 12/65] END max_depth=4, n_estimators=20;, score=0.258 total time=   2.0s\n",
      "[CV 3/3; 12/65] START max_depth=4, n_estimators=20..............................\n",
      "[CV 3/3; 12/65] END max_depth=4, n_estimators=20;, score=0.276 total time=   1.8s\n",
      "[CV 1/3; 13/65] START max_depth=4, n_estimators=30..............................\n",
      "[CV 1/3; 13/65] END max_depth=4, n_estimators=30;, score=0.300 total time=   2.9s\n",
      "[CV 2/3; 13/65] START max_depth=4, n_estimators=30..............................\n",
      "[CV 2/3; 13/65] END max_depth=4, n_estimators=30;, score=0.296 total time=   2.6s\n",
      "[CV 3/3; 13/65] START max_depth=4, n_estimators=30..............................\n",
      "[CV 3/3; 13/65] END max_depth=4, n_estimators=30;, score=0.324 total time=   2.7s\n",
      "[CV 1/3; 14/65] START max_depth=4, n_estimators=40..............................\n",
      "[CV 1/3; 14/65] END max_depth=4, n_estimators=40;, score=0.314 total time=   3.5s\n",
      "[CV 2/3; 14/65] START max_depth=4, n_estimators=40..............................\n",
      "[CV 2/3; 14/65] END max_depth=4, n_estimators=40;, score=0.349 total time=   3.7s\n",
      "[CV 3/3; 14/65] START max_depth=4, n_estimators=40..............................\n",
      "[CV 3/3; 14/65] END max_depth=4, n_estimators=40;, score=0.312 total time=   3.8s\n",
      "[CV 1/3; 15/65] START max_depth=4, n_estimators=50..............................\n",
      "[CV 1/3; 15/65] END max_depth=4, n_estimators=50;, score=0.304 total time=   4.3s\n",
      "[CV 2/3; 15/65] START max_depth=4, n_estimators=50..............................\n",
      "[CV 2/3; 15/65] END max_depth=4, n_estimators=50;, score=0.277 total time=   4.4s\n",
      "[CV 3/3; 15/65] START max_depth=4, n_estimators=50..............................\n",
      "[CV 3/3; 15/65] END max_depth=4, n_estimators=50;, score=0.311 total time=   4.3s\n",
      "[CV 1/3; 16/65] START max_depth=5, n_estimators=10..............................\n",
      "[CV 1/3; 16/65] END max_depth=5, n_estimators=10;, score=0.261 total time=   1.1s\n",
      "[CV 2/3; 16/65] START max_depth=5, n_estimators=10..............................\n",
      "[CV 2/3; 16/65] END max_depth=5, n_estimators=10;, score=0.239 total time=   1.1s\n",
      "[CV 3/3; 16/65] START max_depth=5, n_estimators=10..............................\n",
      "[CV 3/3; 16/65] END max_depth=5, n_estimators=10;, score=0.275 total time=   1.2s\n",
      "[CV 1/3; 17/65] START max_depth=5, n_estimators=20..............................\n",
      "[CV 1/3; 17/65] END max_depth=5, n_estimators=20;, score=0.270 total time=   2.2s\n",
      "[CV 2/3; 17/65] START max_depth=5, n_estimators=20..............................\n",
      "[CV 2/3; 17/65] END max_depth=5, n_estimators=20;, score=0.274 total time=   2.2s\n",
      "[CV 3/3; 17/65] START max_depth=5, n_estimators=20..............................\n",
      "[CV 3/3; 17/65] END max_depth=5, n_estimators=20;, score=0.269 total time=   2.2s\n",
      "[CV 1/3; 18/65] START max_depth=5, n_estimators=30..............................\n",
      "[CV 1/3; 18/65] END max_depth=5, n_estimators=30;, score=0.294 total time=   3.2s\n",
      "[CV 2/3; 18/65] START max_depth=5, n_estimators=30..............................\n",
      "[CV 2/3; 18/65] END max_depth=5, n_estimators=30;, score=0.290 total time=   3.5s\n",
      "[CV 3/3; 18/65] START max_depth=5, n_estimators=30..............................\n",
      "[CV 3/3; 18/65] END max_depth=5, n_estimators=30;, score=0.330 total time=   3.1s\n",
      "[CV 1/3; 19/65] START max_depth=5, n_estimators=40..............................\n",
      "[CV 1/3; 19/65] END max_depth=5, n_estimators=40;, score=0.293 total time=   4.0s\n",
      "[CV 2/3; 19/65] START max_depth=5, n_estimators=40..............................\n",
      "[CV 2/3; 19/65] END max_depth=5, n_estimators=40;, score=0.318 total time=   4.2s\n",
      "[CV 3/3; 19/65] START max_depth=5, n_estimators=40..............................\n",
      "[CV 3/3; 19/65] END max_depth=5, n_estimators=40;, score=0.310 total time=   4.3s\n",
      "[CV 1/3; 20/65] START max_depth=5, n_estimators=50..............................\n",
      "[CV 1/3; 20/65] END max_depth=5, n_estimators=50;, score=0.319 total time=   5.3s\n",
      "[CV 2/3; 20/65] START max_depth=5, n_estimators=50..............................\n",
      "[CV 2/3; 20/65] END max_depth=5, n_estimators=50;, score=0.309 total time=   5.2s\n",
      "[CV 3/3; 20/65] START max_depth=5, n_estimators=50..............................\n",
      "[CV 3/3; 20/65] END max_depth=5, n_estimators=50;, score=0.376 total time=   5.2s\n",
      "[CV 1/3; 21/65] START max_depth=6, n_estimators=10..............................\n",
      "[CV 1/3; 21/65] END max_depth=6, n_estimators=10;, score=0.247 total time=   1.4s\n",
      "[CV 2/3; 21/65] START max_depth=6, n_estimators=10..............................\n",
      "[CV 2/3; 21/65] END max_depth=6, n_estimators=10;, score=0.232 total time=   1.4s\n",
      "[CV 3/3; 21/65] START max_depth=6, n_estimators=10..............................\n",
      "[CV 3/3; 21/65] END max_depth=6, n_estimators=10;, score=0.256 total time=   1.5s\n",
      "[CV 1/3; 22/65] START max_depth=6, n_estimators=20..............................\n",
      "[CV 1/3; 22/65] END max_depth=6, n_estimators=20;, score=0.294 total time=   2.7s\n",
      "[CV 2/3; 22/65] START max_depth=6, n_estimators=20..............................\n",
      "[CV 2/3; 22/65] END max_depth=6, n_estimators=20;, score=0.299 total time=   2.6s\n",
      "[CV 3/3; 22/65] START max_depth=6, n_estimators=20..............................\n",
      "[CV 3/3; 22/65] END max_depth=6, n_estimators=20;, score=0.319 total time=   2.5s\n",
      "[CV 1/3; 23/65] START max_depth=6, n_estimators=30..............................\n",
      "[CV 1/3; 23/65] END max_depth=6, n_estimators=30;, score=0.317 total time=   3.6s\n",
      "[CV 2/3; 23/65] START max_depth=6, n_estimators=30..............................\n",
      "[CV 2/3; 23/65] END max_depth=6, n_estimators=30;, score=0.304 total time=   3.8s\n",
      "[CV 3/3; 23/65] START max_depth=6, n_estimators=30..............................\n",
      "[CV 3/3; 23/65] END max_depth=6, n_estimators=30;, score=0.363 total time=   3.9s\n",
      "[CV 1/3; 24/65] START max_depth=6, n_estimators=40..............................\n",
      "[CV 1/3; 24/65] END max_depth=6, n_estimators=40;, score=0.325 total time=   4.9s\n",
      "[CV 2/3; 24/65] START max_depth=6, n_estimators=40..............................\n",
      "[CV 2/3; 24/65] END max_depth=6, n_estimators=40;, score=0.308 total time=   5.0s\n",
      "[CV 3/3; 24/65] START max_depth=6, n_estimators=40..............................\n",
      "[CV 3/3; 24/65] END max_depth=6, n_estimators=40;, score=0.317 total time=   5.3s\n",
      "[CV 1/3; 25/65] START max_depth=6, n_estimators=50..............................\n",
      "[CV 1/3; 25/65] END max_depth=6, n_estimators=50;, score=0.326 total time=   6.5s\n",
      "[CV 2/3; 25/65] START max_depth=6, n_estimators=50..............................\n",
      "[CV 2/3; 25/65] END max_depth=6, n_estimators=50;, score=0.320 total time=   6.2s\n",
      "[CV 3/3; 25/65] START max_depth=6, n_estimators=50..............................\n",
      "[CV 3/3; 25/65] END max_depth=6, n_estimators=50;, score=0.327 total time=   6.3s\n",
      "[CV 1/3; 26/65] START max_depth=7, n_estimators=10..............................\n",
      "[CV 1/3; 26/65] END max_depth=7, n_estimators=10;, score=0.252 total time=   1.6s\n",
      "[CV 2/3; 26/65] START max_depth=7, n_estimators=10..............................\n",
      "[CV 2/3; 26/65] END max_depth=7, n_estimators=10;, score=0.279 total time=   1.7s\n",
      "[CV 3/3; 26/65] START max_depth=7, n_estimators=10..............................\n",
      "[CV 3/3; 26/65] END max_depth=7, n_estimators=10;, score=0.256 total time=   1.7s\n",
      "[CV 1/3; 27/65] START max_depth=7, n_estimators=20..............................\n",
      "[CV 1/3; 27/65] END max_depth=7, n_estimators=20;, score=0.311 total time=   3.1s\n",
      "[CV 2/3; 27/65] START max_depth=7, n_estimators=20..............................\n",
      "[CV 2/3; 27/65] END max_depth=7, n_estimators=20;, score=0.289 total time=   3.1s\n",
      "[CV 3/3; 27/65] START max_depth=7, n_estimators=20..............................\n",
      "[CV 3/3; 27/65] END max_depth=7, n_estimators=20;, score=0.310 total time=   3.1s\n",
      "[CV 1/3; 28/65] START max_depth=7, n_estimators=30..............................\n",
      "[CV 1/3; 28/65] END max_depth=7, n_estimators=30;, score=0.324 total time=   4.4s\n",
      "[CV 2/3; 28/65] START max_depth=7, n_estimators=30..............................\n",
      "[CV 2/3; 28/65] END max_depth=7, n_estimators=30;, score=0.297 total time=   4.6s\n",
      "[CV 3/3; 28/65] START max_depth=7, n_estimators=30..............................\n",
      "[CV 3/3; 28/65] END max_depth=7, n_estimators=30;, score=0.317 total time=   4.5s\n",
      "[CV 1/3; 29/65] START max_depth=7, n_estimators=40..............................\n",
      "[CV 1/3; 29/65] END max_depth=7, n_estimators=40;, score=0.292 total time=   6.2s\n",
      "[CV 2/3; 29/65] START max_depth=7, n_estimators=40..............................\n",
      "[CV 2/3; 29/65] END max_depth=7, n_estimators=40;, score=0.322 total time=   5.5s\n",
      "[CV 3/3; 29/65] START max_depth=7, n_estimators=40..............................\n",
      "[CV 3/3; 29/65] END max_depth=7, n_estimators=40;, score=0.340 total time=   6.0s\n",
      "[CV 1/3; 30/65] START max_depth=7, n_estimators=50..............................\n",
      "[CV 1/3; 30/65] END max_depth=7, n_estimators=50;, score=0.320 total time=   7.6s\n",
      "[CV 2/3; 30/65] START max_depth=7, n_estimators=50..............................\n",
      "[CV 2/3; 30/65] END max_depth=7, n_estimators=50;, score=0.303 total time=   6.8s\n",
      "[CV 3/3; 30/65] START max_depth=7, n_estimators=50..............................\n",
      "[CV 3/3; 30/65] END max_depth=7, n_estimators=50;, score=0.323 total time=   6.9s\n",
      "[CV 1/3; 31/65] START max_depth=8, n_estimators=10..............................\n",
      "[CV 1/3; 31/65] END max_depth=8, n_estimators=10;, score=0.273 total time=   1.8s\n",
      "[CV 2/3; 31/65] START max_depth=8, n_estimators=10..............................\n",
      "[CV 2/3; 31/65] END max_depth=8, n_estimators=10;, score=0.280 total time=   1.8s\n",
      "[CV 3/3; 31/65] START max_depth=8, n_estimators=10..............................\n",
      "[CV 3/3; 31/65] END max_depth=8, n_estimators=10;, score=0.304 total time=   1.8s\n",
      "[CV 1/3; 32/65] START max_depth=8, n_estimators=20..............................\n",
      "[CV 1/3; 32/65] END max_depth=8, n_estimators=20;, score=0.321 total time=   3.5s\n",
      "[CV 2/3; 32/65] START max_depth=8, n_estimators=20..............................\n",
      "[CV 2/3; 32/65] END max_depth=8, n_estimators=20;, score=0.320 total time=   3.3s\n",
      "[CV 3/3; 32/65] START max_depth=8, n_estimators=20..............................\n",
      "[CV 3/3; 32/65] END max_depth=8, n_estimators=20;, score=0.299 total time=   3.4s\n",
      "[CV 1/3; 33/65] START max_depth=8, n_estimators=30..............................\n",
      "[CV 1/3; 33/65] END max_depth=8, n_estimators=30;, score=0.295 total time=   5.2s\n",
      "[CV 2/3; 33/65] START max_depth=8, n_estimators=30..............................\n",
      "[CV 2/3; 33/65] END max_depth=8, n_estimators=30;, score=0.308 total time=   5.2s\n",
      "[CV 3/3; 33/65] START max_depth=8, n_estimators=30..............................\n",
      "[CV 3/3; 33/65] END max_depth=8, n_estimators=30;, score=0.328 total time=   4.8s\n",
      "[CV 1/3; 34/65] START max_depth=8, n_estimators=40..............................\n",
      "[CV 1/3; 34/65] END max_depth=8, n_estimators=40;, score=0.337 total time=   6.5s\n",
      "[CV 2/3; 34/65] START max_depth=8, n_estimators=40..............................\n",
      "[CV 2/3; 34/65] END max_depth=8, n_estimators=40;, score=0.335 total time=   6.7s\n",
      "[CV 3/3; 34/65] START max_depth=8, n_estimators=40..............................\n",
      "[CV 3/3; 34/65] END max_depth=8, n_estimators=40;, score=0.324 total time=   6.5s\n",
      "[CV 1/3; 35/65] START max_depth=8, n_estimators=50..............................\n",
      "[CV 1/3; 35/65] END max_depth=8, n_estimators=50;, score=0.304 total time=   7.9s\n",
      "[CV 2/3; 35/65] START max_depth=8, n_estimators=50..............................\n",
      "[CV 2/3; 35/65] END max_depth=8, n_estimators=50;, score=0.373 total time=   8.2s\n",
      "[CV 3/3; 35/65] START max_depth=8, n_estimators=50..............................\n",
      "[CV 3/3; 35/65] END max_depth=8, n_estimators=50;, score=0.340 total time=   8.3s\n",
      "[CV 1/3; 36/65] START max_depth=9, n_estimators=10..............................\n",
      "[CV 1/3; 36/65] END max_depth=9, n_estimators=10;, score=0.263 total time=   2.0s\n",
      "[CV 2/3; 36/65] START max_depth=9, n_estimators=10..............................\n",
      "[CV 2/3; 36/65] END max_depth=9, n_estimators=10;, score=0.260 total time=   2.1s\n",
      "[CV 3/3; 36/65] START max_depth=9, n_estimators=10..............................\n",
      "[CV 3/3; 36/65] END max_depth=9, n_estimators=10;, score=0.268 total time=   2.0s\n",
      "[CV 1/3; 37/65] START max_depth=9, n_estimators=20..............................\n",
      "[CV 1/3; 37/65] END max_depth=9, n_estimators=20;, score=0.293 total time=   4.1s\n",
      "[CV 2/3; 37/65] START max_depth=9, n_estimators=20..............................\n",
      "[CV 2/3; 37/65] END max_depth=9, n_estimators=20;, score=0.332 total time=   4.0s\n",
      "[CV 3/3; 37/65] START max_depth=9, n_estimators=20..............................\n",
      "[CV 3/3; 37/65] END max_depth=9, n_estimators=20;, score=0.316 total time=   3.9s\n",
      "[CV 1/3; 38/65] START max_depth=9, n_estimators=30..............................\n",
      "[CV 1/3; 38/65] END max_depth=9, n_estimators=30;, score=0.328 total time=   5.4s\n",
      "[CV 2/3; 38/65] START max_depth=9, n_estimators=30..............................\n",
      "[CV 2/3; 38/65] END max_depth=9, n_estimators=30;, score=0.354 total time=   5.9s\n",
      "[CV 3/3; 38/65] START max_depth=9, n_estimators=30..............................\n",
      "[CV 3/3; 38/65] END max_depth=9, n_estimators=30;, score=0.308 total time=   5.9s\n",
      "[CV 1/3; 39/65] START max_depth=9, n_estimators=40..............................\n",
      "[CV 1/3; 39/65] END max_depth=9, n_estimators=40;, score=0.313 total time=   6.9s\n",
      "[CV 2/3; 39/65] START max_depth=9, n_estimators=40..............................\n",
      "[CV 2/3; 39/65] END max_depth=9, n_estimators=40;, score=0.337 total time=   7.5s\n",
      "[CV 3/3; 39/65] START max_depth=9, n_estimators=40..............................\n",
      "[CV 3/3; 39/65] END max_depth=9, n_estimators=40;, score=0.329 total time=   7.3s\n",
      "[CV 1/3; 40/65] START max_depth=9, n_estimators=50..............................\n",
      "[CV 1/3; 40/65] END max_depth=9, n_estimators=50;, score=0.335 total time=   9.7s\n",
      "[CV 2/3; 40/65] START max_depth=9, n_estimators=50..............................\n",
      "[CV 2/3; 40/65] END max_depth=9, n_estimators=50;, score=0.353 total time=   9.2s\n",
      "[CV 3/3; 40/65] START max_depth=9, n_estimators=50..............................\n",
      "[CV 3/3; 40/65] END max_depth=9, n_estimators=50;, score=0.354 total time=   9.2s\n",
      "[CV 1/3; 41/65] START max_depth=10, n_estimators=10.............................\n",
      "[CV 1/3; 41/65] END max_depth=10, n_estimators=10;, score=0.265 total time=   2.1s\n",
      "[CV 2/3; 41/65] START max_depth=10, n_estimators=10.............................\n",
      "[CV 2/3; 41/65] END max_depth=10, n_estimators=10;, score=0.305 total time=   2.6s\n",
      "[CV 3/3; 41/65] START max_depth=10, n_estimators=10.............................\n",
      "[CV 3/3; 41/65] END max_depth=10, n_estimators=10;, score=0.296 total time=   2.2s\n",
      "[CV 1/3; 42/65] START max_depth=10, n_estimators=20.............................\n",
      "[CV 1/3; 42/65] END max_depth=10, n_estimators=20;, score=0.329 total time=   4.1s\n",
      "[CV 2/3; 42/65] START max_depth=10, n_estimators=20.............................\n",
      "[CV 2/3; 42/65] END max_depth=10, n_estimators=20;, score=0.307 total time=   4.3s\n",
      "[CV 3/3; 42/65] START max_depth=10, n_estimators=20.............................\n",
      "[CV 3/3; 42/65] END max_depth=10, n_estimators=20;, score=0.355 total time=   4.2s\n",
      "[CV 1/3; 43/65] START max_depth=10, n_estimators=30.............................\n",
      "[CV 1/3; 43/65] END max_depth=10, n_estimators=30;, score=0.340 total time=   6.1s\n",
      "[CV 2/3; 43/65] START max_depth=10, n_estimators=30.............................\n",
      "[CV 2/3; 43/65] END max_depth=10, n_estimators=30;, score=0.312 total time=   6.3s\n",
      "[CV 3/3; 43/65] START max_depth=10, n_estimators=30.............................\n",
      "[CV 3/3; 43/65] END max_depth=10, n_estimators=30;, score=0.324 total time=   6.4s\n",
      "[CV 1/3; 44/65] START max_depth=10, n_estimators=40.............................\n",
      "[CV 1/3; 44/65] END max_depth=10, n_estimators=40;, score=0.318 total time=   8.2s\n",
      "[CV 2/3; 44/65] START max_depth=10, n_estimators=40.............................\n",
      "[CV 2/3; 44/65] END max_depth=10, n_estimators=40;, score=0.340 total time=   7.9s\n",
      "[CV 3/3; 44/65] START max_depth=10, n_estimators=40.............................\n",
      "[CV 3/3; 44/65] END max_depth=10, n_estimators=40;, score=0.359 total time=   8.5s\n",
      "[CV 1/3; 45/65] START max_depth=10, n_estimators=50.............................\n",
      "[CV 1/3; 45/65] END max_depth=10, n_estimators=50;, score=0.344 total time=  10.5s\n",
      "[CV 2/3; 45/65] START max_depth=10, n_estimators=50.............................\n",
      "[CV 2/3; 45/65] END max_depth=10, n_estimators=50;, score=0.326 total time=  10.5s\n",
      "[CV 3/3; 45/65] START max_depth=10, n_estimators=50.............................\n",
      "[CV 3/3; 45/65] END max_depth=10, n_estimators=50;, score=0.377 total time=  11.0s\n",
      "[CV 1/3; 46/65] START max_depth=11, n_estimators=10.............................\n",
      "[CV 1/3; 46/65] END max_depth=11, n_estimators=10;, score=0.282 total time=   2.5s\n",
      "[CV 2/3; 46/65] START max_depth=11, n_estimators=10.............................\n",
      "[CV 2/3; 46/65] END max_depth=11, n_estimators=10;, score=0.276 total time=   2.5s\n",
      "[CV 3/3; 46/65] START max_depth=11, n_estimators=10.............................\n",
      "[CV 3/3; 46/65] END max_depth=11, n_estimators=10;, score=0.311 total time=   2.6s\n",
      "[CV 1/3; 47/65] START max_depth=11, n_estimators=20.............................\n",
      "[CV 1/3; 47/65] END max_depth=11, n_estimators=20;, score=0.325 total time=   4.6s\n",
      "[CV 2/3; 47/65] START max_depth=11, n_estimators=20.............................\n",
      "[CV 2/3; 47/65] END max_depth=11, n_estimators=20;, score=0.344 total time=   4.6s\n",
      "[CV 3/3; 47/65] START max_depth=11, n_estimators=20.............................\n",
      "[CV 3/3; 47/65] END max_depth=11, n_estimators=20;, score=0.324 total time=   4.6s\n",
      "[CV 1/3; 48/65] START max_depth=11, n_estimators=30.............................\n",
      "[CV 1/3; 48/65] END max_depth=11, n_estimators=30;, score=0.321 total time=   7.0s\n",
      "[CV 2/3; 48/65] START max_depth=11, n_estimators=30.............................\n",
      "[CV 2/3; 48/65] END max_depth=11, n_estimators=30;, score=0.352 total time=   7.1s\n",
      "[CV 3/3; 48/65] START max_depth=11, n_estimators=30.............................\n",
      "[CV 3/3; 48/65] END max_depth=11, n_estimators=30;, score=0.327 total time=   6.7s\n",
      "[CV 1/3; 49/65] START max_depth=11, n_estimators=40.............................\n",
      "[CV 1/3; 49/65] END max_depth=11, n_estimators=40;, score=0.334 total time=   9.3s\n",
      "[CV 2/3; 49/65] START max_depth=11, n_estimators=40.............................\n",
      "[CV 2/3; 49/65] END max_depth=11, n_estimators=40;, score=0.338 total time=   9.4s\n",
      "[CV 3/3; 49/65] START max_depth=11, n_estimators=40.............................\n",
      "[CV 3/3; 49/65] END max_depth=11, n_estimators=40;, score=0.343 total time=   9.7s\n",
      "[CV 1/3; 50/65] START max_depth=11, n_estimators=50.............................\n",
      "[CV 1/3; 50/65] END max_depth=11, n_estimators=50;, score=0.340 total time=  11.2s\n",
      "[CV 2/3; 50/65] START max_depth=11, n_estimators=50.............................\n",
      "[CV 2/3; 50/65] END max_depth=11, n_estimators=50;, score=0.353 total time=  10.9s\n",
      "[CV 3/3; 50/65] START max_depth=11, n_estimators=50.............................\n",
      "[CV 3/3; 50/65] END max_depth=11, n_estimators=50;, score=0.358 total time=  11.2s\n",
      "[CV 1/3; 51/65] START max_depth=12, n_estimators=10.............................\n",
      "[CV 1/3; 51/65] END max_depth=12, n_estimators=10;, score=0.308 total time=   2.5s\n",
      "[CV 2/3; 51/65] START max_depth=12, n_estimators=10.............................\n",
      "[CV 2/3; 51/65] END max_depth=12, n_estimators=10;, score=0.307 total time=   2.7s\n",
      "[CV 3/3; 51/65] START max_depth=12, n_estimators=10.............................\n",
      "[CV 3/3; 51/65] END max_depth=12, n_estimators=10;, score=0.310 total time=   2.4s\n",
      "[CV 1/3; 52/65] START max_depth=12, n_estimators=20.............................\n",
      "[CV 1/3; 52/65] END max_depth=12, n_estimators=20;, score=0.328 total time=   5.2s\n",
      "[CV 2/3; 52/65] START max_depth=12, n_estimators=20.............................\n",
      "[CV 2/3; 52/65] END max_depth=12, n_estimators=20;, score=0.337 total time=   5.1s\n",
      "[CV 3/3; 52/65] START max_depth=12, n_estimators=20.............................\n",
      "[CV 3/3; 52/65] END max_depth=12, n_estimators=20;, score=0.328 total time=   5.3s\n",
      "[CV 1/3; 53/65] START max_depth=12, n_estimators=30.............................\n",
      "[CV 1/3; 53/65] END max_depth=12, n_estimators=30;, score=0.351 total time=   7.3s\n",
      "[CV 2/3; 53/65] START max_depth=12, n_estimators=30.............................\n",
      "[CV 2/3; 53/65] END max_depth=12, n_estimators=30;, score=0.332 total time=   7.2s\n",
      "[CV 3/3; 53/65] START max_depth=12, n_estimators=30.............................\n",
      "[CV 3/3; 53/65] END max_depth=12, n_estimators=30;, score=0.362 total time=   7.7s\n",
      "[CV 1/3; 54/65] START max_depth=12, n_estimators=40.............................\n",
      "[CV 1/3; 54/65] END max_depth=12, n_estimators=40;, score=0.333 total time=   9.7s\n",
      "[CV 2/3; 54/65] START max_depth=12, n_estimators=40.............................\n",
      "[CV 2/3; 54/65] END max_depth=12, n_estimators=40;, score=0.361 total time=   9.7s\n",
      "[CV 3/3; 54/65] START max_depth=12, n_estimators=40.............................\n",
      "[CV 3/3; 54/65] END max_depth=12, n_estimators=40;, score=0.355 total time=   9.9s\n",
      "[CV 1/3; 55/65] START max_depth=12, n_estimators=50.............................\n",
      "[CV 1/3; 55/65] END max_depth=12, n_estimators=50;, score=0.331 total time=  12.5s\n",
      "[CV 2/3; 55/65] START max_depth=12, n_estimators=50.............................\n",
      "[CV 2/3; 55/65] END max_depth=12, n_estimators=50;, score=0.334 total time=  12.9s\n",
      "[CV 3/3; 55/65] START max_depth=12, n_estimators=50.............................\n",
      "[CV 3/3; 55/65] END max_depth=12, n_estimators=50;, score=0.346 total time=  12.0s\n",
      "[CV 1/3; 56/65] START max_depth=13, n_estimators=10.............................\n",
      "[CV 1/3; 56/65] END max_depth=13, n_estimators=10;, score=0.327 total time=   2.8s\n",
      "[CV 2/3; 56/65] START max_depth=13, n_estimators=10.............................\n",
      "[CV 2/3; 56/65] END max_depth=13, n_estimators=10;, score=0.309 total time=   2.6s\n",
      "[CV 3/3; 56/65] START max_depth=13, n_estimators=10.............................\n",
      "[CV 3/3; 56/65] END max_depth=13, n_estimators=10;, score=0.327 total time=   2.8s\n",
      "[CV 1/3; 57/65] START max_depth=13, n_estimators=20.............................\n",
      "[CV 1/3; 57/65] END max_depth=13, n_estimators=20;, score=0.325 total time=   5.3s\n",
      "[CV 2/3; 57/65] START max_depth=13, n_estimators=20.............................\n",
      "[CV 2/3; 57/65] END max_depth=13, n_estimators=20;, score=0.329 total time=   5.8s\n",
      "[CV 3/3; 57/65] START max_depth=13, n_estimators=20.............................\n",
      "[CV 3/3; 57/65] END max_depth=13, n_estimators=20;, score=0.350 total time=   5.6s\n",
      "[CV 1/3; 58/65] START max_depth=13, n_estimators=30.............................\n",
      "[CV 1/3; 58/65] END max_depth=13, n_estimators=30;, score=0.325 total time=   8.2s\n",
      "[CV 2/3; 58/65] START max_depth=13, n_estimators=30.............................\n",
      "[CV 2/3; 58/65] END max_depth=13, n_estimators=30;, score=0.338 total time=   7.9s\n",
      "[CV 3/3; 58/65] START max_depth=13, n_estimators=30.............................\n",
      "[CV 3/3; 58/65] END max_depth=13, n_estimators=30;, score=0.387 total time=   8.7s\n",
      "[CV 1/3; 59/65] START max_depth=13, n_estimators=40.............................\n",
      "[CV 1/3; 59/65] END max_depth=13, n_estimators=40;, score=0.348 total time=  11.4s\n",
      "[CV 2/3; 59/65] START max_depth=13, n_estimators=40.............................\n",
      "[CV 2/3; 59/65] END max_depth=13, n_estimators=40;, score=0.345 total time=  10.5s\n",
      "[CV 3/3; 59/65] START max_depth=13, n_estimators=40.............................\n",
      "[CV 3/3; 59/65] END max_depth=13, n_estimators=40;, score=0.364 total time=  11.1s\n",
      "[CV 1/3; 60/65] START max_depth=13, n_estimators=50.............................\n",
      "[CV 1/3; 60/65] END max_depth=13, n_estimators=50;, score=0.355 total time=  13.1s\n",
      "[CV 2/3; 60/65] START max_depth=13, n_estimators=50.............................\n",
      "[CV 2/3; 60/65] END max_depth=13, n_estimators=50;, score=0.376 total time=  13.2s\n",
      "[CV 3/3; 60/65] START max_depth=13, n_estimators=50.............................\n",
      "[CV 3/3; 60/65] END max_depth=13, n_estimators=50;, score=0.375 total time=  13.6s\n",
      "[CV 1/3; 61/65] START max_depth=14, n_estimators=10.............................\n",
      "[CV 1/3; 61/65] END max_depth=14, n_estimators=10;, score=0.297 total time=   3.1s\n",
      "[CV 2/3; 61/65] START max_depth=14, n_estimators=10.............................\n",
      "[CV 2/3; 61/65] END max_depth=14, n_estimators=10;, score=0.295 total time=   2.9s\n",
      "[CV 3/3; 61/65] START max_depth=14, n_estimators=10.............................\n",
      "[CV 3/3; 61/65] END max_depth=14, n_estimators=10;, score=0.318 total time=   3.2s\n",
      "[CV 1/3; 62/65] START max_depth=14, n_estimators=20.............................\n",
      "[CV 1/3; 62/65] END max_depth=14, n_estimators=20;, score=0.354 total time=   6.1s\n",
      "[CV 2/3; 62/65] START max_depth=14, n_estimators=20.............................\n",
      "[CV 2/3; 62/65] END max_depth=14, n_estimators=20;, score=0.330 total time=   5.8s\n",
      "[CV 3/3; 62/65] START max_depth=14, n_estimators=20.............................\n",
      "[CV 3/3; 62/65] END max_depth=14, n_estimators=20;, score=0.379 total time=   6.1s\n",
      "[CV 1/3; 63/65] START max_depth=14, n_estimators=30.............................\n",
      "[CV 1/3; 63/65] END max_depth=14, n_estimators=30;, score=0.367 total time=   8.9s\n",
      "[CV 2/3; 63/65] START max_depth=14, n_estimators=30.............................\n",
      "[CV 2/3; 63/65] END max_depth=14, n_estimators=30;, score=0.346 total time=   9.1s\n",
      "[CV 3/3; 63/65] START max_depth=14, n_estimators=30.............................\n",
      "[CV 3/3; 63/65] END max_depth=14, n_estimators=30;, score=0.374 total time=   9.4s\n",
      "[CV 1/3; 64/65] START max_depth=14, n_estimators=40.............................\n",
      "[CV 1/3; 64/65] END max_depth=14, n_estimators=40;, score=0.356 total time=  11.3s\n",
      "[CV 2/3; 64/65] START max_depth=14, n_estimators=40.............................\n",
      "[CV 2/3; 64/65] END max_depth=14, n_estimators=40;, score=0.365 total time=  11.9s\n",
      "[CV 3/3; 64/65] START max_depth=14, n_estimators=40.............................\n",
      "[CV 3/3; 64/65] END max_depth=14, n_estimators=40;, score=0.355 total time=  12.1s\n",
      "[CV 1/3; 65/65] START max_depth=14, n_estimators=50.............................\n",
      "[CV 1/3; 65/65] END max_depth=14, n_estimators=50;, score=0.356 total time=  14.2s\n",
      "[CV 2/3; 65/65] START max_depth=14, n_estimators=50.............................\n",
      "[CV 2/3; 65/65] END max_depth=14, n_estimators=50;, score=0.365 total time=  14.9s\n",
      "[CV 3/3; 65/65] START max_depth=14, n_estimators=50.............................\n",
      "[CV 3/3; 65/65] END max_depth=14, n_estimators=50;, score=0.370 total time=  14.7s\n",
      "0.36848614407297636\n"
     ]
    }
   ],
   "source": [
    "param = {'max_depth': np.arange(2, 15),\n",
    "         'n_estimators': np.arange(10, 51, 10)\n",
    "        }\n",
    "\n",
    "grid_rfc = GridSearchCV(RandomForestClassifier(class_weight='balanced'),\n",
    "                       param,\n",
    "                       cv=kf,\n",
    "                       scoring='f1',\n",
    "                       n_jobs=-1,\n",
    "                       verbose=10\n",
    "                       )\n",
    "grid_rfc.fit(features_train_full, target_train_full)  # (upsemple score = 0.27 , balanced score = 0.36)\n",
    "print(grid_rfc.best_score_)"
   ]
  },
  {
   "cell_type": "code",
   "execution_count": 25,
   "metadata": {},
   "outputs": [],
   "source": [
    "start = time.time()\n",
    "predictions = grid_rfc.best_estimator_.predict(tf_idf_train)\n",
    "end = time.time()\n",
    "pred_rfc_time = end-start "
   ]
  },
  {
   "cell_type": "code",
   "execution_count": 26,
   "metadata": {
    "scrolled": true
   },
   "outputs": [
    {
     "name": "stdout",
     "output_type": "stream",
     "text": [
      "Fitting 3 folds for each of 1 candidates, totalling 3 fits\n",
      "[CV 1/3; 1/1] START depth=8, iterations=1000....................................\n",
      "[CV 1/3; 1/1] END .....depth=8, iterations=1000;, score=0.000 total time=20.2min\n",
      "[CV 2/3; 1/1] START depth=8, iterations=1000....................................\n",
      "[CV 2/3; 1/1] END .....depth=8, iterations=1000;, score=0.880 total time=21.3min\n",
      "[CV 3/3; 1/1] START depth=8, iterations=1000....................................\n",
      "[CV 3/3; 1/1] END .....depth=8, iterations=1000;, score=0.837 total time=23.9min\n",
      "0.5723042445925066\n"
     ]
    }
   ],
   "source": [
    "{'depth': 8, 'iterations': 1000, 'learning_rate': 0.1}\n",
    "cbr = CatBoostClassifier(random_seed=12345,\n",
    "                       eval_metric=\"F1\",\n",
    "                       learning_rate=0.1,\n",
    "                       silent=True,\n",
    "                       )\n",
    "\n",
    "param = {#'learning_rate': np.logspace(-2, 0, 3),\n",
    "         'iterations': [1000],                   #[40, 100, 250, 500, 1000]\n",
    "         'depth': np.arange(8, 9)                #(5, 9)\n",
    "        }\n",
    "grid_cbr = GridSearchCV(cbr,\n",
    "                       param,\n",
    "                       cv=kf,\n",
    "                       scoring='f1',\n",
    "                       n_jobs=-1,\n",
    "                       verbose=10\n",
    "                       )\n",
    "\n",
    "grid_cbr.fit(tf_idf_train, target_train) # (downsample = core crash , full = core crash)\n",
    "\n",
    "print(grid_cbr.best_score_)"
   ]
  },
  {
   "cell_type": "code",
   "execution_count": 27,
   "metadata": {},
   "outputs": [],
   "source": [
    "start = time.time()\n",
    "predictions = grid_cbr.best_estimator_.predict(tf_idf_train)\n",
    "end = time.time()\n",
    "pred_cbr_time = end-start "
   ]
  },
  {
   "cell_type": "code",
   "execution_count": 28,
   "metadata": {
    "scrolled": true
   },
   "outputs": [
    {
     "name": "stdout",
     "output_type": "stream",
     "text": [
      "Fitting 3 folds for each of 1 candidates, totalling 3 fits\n",
      "[CV 1/3; 1/1] START max_depth=9, n_estimators=52................................\n",
      "[CV 1/3; 1/1] END .max_depth=9, n_estimators=52;, score=0.674 total time= 1.1min\n",
      "[CV 2/3; 1/1] START max_depth=9, n_estimators=52................................\n",
      "[CV 2/3; 1/1] END .max_depth=9, n_estimators=52;, score=0.693 total time= 1.0min\n",
      "[CV 3/3; 1/1] START max_depth=9, n_estimators=52................................\n",
      "[CV 3/3; 1/1] END .max_depth=9, n_estimators=52;, score=0.685 total time= 1.1min\n",
      "0.6840773511729563\n"
     ]
    }
   ],
   "source": [
    "{'max_depth': 9, 'n_estimators': 52}\n",
    "lgbm = LGBMClassifier(class_weight='balanced')\n",
    "param = {'max_depth' : np.arange(9, 10),        #(2, 10)\n",
    "         'n_estimators' : np.arange(52, 53)  #(2, 53, 10)\n",
    "        }\n",
    "grid_lgbm = GridSearchCV(lgbm, \n",
    "                         param,\n",
    "                         cv=kf,\n",
    "                         scoring='f1',\n",
    "                         n_jobs=-1,\n",
    "                         verbose=10\n",
    "                        )\n",
    " \n",
    "grid_lgbm.fit(features_train_full, target_train_full) # (upsaple score = 0.52 , full score = 0.62 , balanced score = 0.68)\n",
    "print(grid_lgbm.best_score_)"
   ]
  },
  {
   "cell_type": "code",
   "execution_count": 29,
   "metadata": {},
   "outputs": [],
   "source": [
    "start = time.time()\n",
    "predictions = grid_lgbm.best_estimator_.predict(tf_idf_train)\n",
    "end = time.time()\n",
    "pred_lgbm_time = end-start "
   ]
  },
  {
   "cell_type": "code",
   "execution_count": 30,
   "metadata": {},
   "outputs": [],
   "source": [
    "models = []\n",
    "models.append([grid_lr.refit_time_ , pred_lr_time, grid_lr.best_score_])\n",
    "models.append([grid_lgbm.refit_time_ , pred_lgbm_time, grid_lgbm.best_score_])\n",
    "models.append([grid_rfc.refit_time_ , pred_rfc_time, grid_rfc.best_score_])\n",
    "models.append([grid_cbr.refit_time_ , pred_cbr_time, grid_cbr.best_score_])"
   ]
  },
  {
   "cell_type": "code",
   "execution_count": 31,
   "metadata": {},
   "outputs": [
    {
     "data": {
      "text/html": [
       "<div>\n",
       "<style scoped>\n",
       "    .dataframe tbody tr th:only-of-type {\n",
       "        vertical-align: middle;\n",
       "    }\n",
       "\n",
       "    .dataframe tbody tr th {\n",
       "        vertical-align: top;\n",
       "    }\n",
       "\n",
       "    .dataframe thead th {\n",
       "        text-align: right;\n",
       "    }\n",
       "</style>\n",
       "<table border=\"1\" class=\"dataframe\">\n",
       "  <thead>\n",
       "    <tr style=\"text-align: right;\">\n",
       "      <th></th>\n",
       "      <th>trainig_time</th>\n",
       "      <th>predict_time</th>\n",
       "      <th>F1</th>\n",
       "    </tr>\n",
       "  </thead>\n",
       "  <tbody>\n",
       "    <tr>\n",
       "      <th>LogisticRegression</th>\n",
       "      <td>55.100216</td>\n",
       "      <td>0.003969</td>\n",
       "      <td>0.748104</td>\n",
       "    </tr>\n",
       "    <tr>\n",
       "      <th>LightGBM</th>\n",
       "      <td>114.829314</td>\n",
       "      <td>0.573902</td>\n",
       "      <td>0.684077</td>\n",
       "    </tr>\n",
       "    <tr>\n",
       "      <th>RandomForest</th>\n",
       "      <td>3.296771</td>\n",
       "      <td>0.224976</td>\n",
       "      <td>0.368486</td>\n",
       "    </tr>\n",
       "    <tr>\n",
       "      <th>CatBoost</th>\n",
       "      <td>1803.409375</td>\n",
       "      <td>0.593140</td>\n",
       "      <td>0.572304</td>\n",
       "    </tr>\n",
       "  </tbody>\n",
       "</table>\n",
       "</div>"
      ],
      "text/plain": [
       "                    trainig_time  predict_time        F1\n",
       "LogisticRegression     55.100216      0.003969  0.748104\n",
       "LightGBM              114.829314      0.573902  0.684077\n",
       "RandomForest            3.296771      0.224976  0.368486\n",
       "CatBoost             1803.409375      0.593140  0.572304"
      ]
     },
     "execution_count": 31,
     "metadata": {},
     "output_type": "execute_result"
    }
   ],
   "source": [
    "result_table = pd.DataFrame(data=models, \n",
    "                            index=['LogisticRegression', 'LightGBM','RandomForest', 'CatBoost'], \n",
    "                            columns=['trainig_time', 'predict_time', 'F1']\n",
    "                           )\n",
    "result_table"
   ]
  },
  {
   "cell_type": "code",
   "execution_count": 32,
   "metadata": {
    "scrolled": true
   },
   "outputs": [
    {
     "data": {
      "image/png": "[encoded data removed]",
      "text/plain": [
       "<Figure size 720x360 with 1 Axes>"
      ]
     },
     "metadata": {
      "needs_background": "light"
     },
     "output_type": "display_data"
    }
   ],
   "source": [
    "result_table['F1'].plot(kind='bar', legend=False, figsize=(10, 5))\n",
    "plt.xlabel('models')\n",
    "plt.ylabel('F1')\n",
    "plt.legend(list(result_table))\n",
    "plt.title('Сравнение моделей')\n",
    "plt.show()"
   ]
  },
  {
   "cell_type": "code",
   "execution_count": 33,
   "metadata": {
    "scrolled": true
   },
   "outputs": [
    {
     "data": {
      "text/plain": [
       "0.7124920735573873"
      ]
     },
     "execution_count": 33,
     "metadata": {},
     "output_type": "execute_result"
    }
   ],
   "source": [
    "start = time.time()\n",
    "predictions_cbr = grid_cbr.best_estimator_.predict(tf_idf_valid)\n",
    "end = time.time()\n",
    "pred_cbr_time = end-start\n",
    "f1_cbr = f1_score(target_valid, predictions_cbr)\n",
    "f1_cbr"
   ]
  },
  {
   "cell_type": "code",
   "execution_count": 34,
   "metadata": {
    "scrolled": true
   },
   "outputs": [
    {
     "data": {
      "text/plain": [
       "0.7581291759465478"
      ]
     },
     "execution_count": 34,
     "metadata": {},
     "output_type": "execute_result"
    }
   ],
   "source": [
    "start = time.time()\n",
    "predictions_lr = grid_lr.best_estimator_.predict(tf_idf_valid)\n",
    "end = time.time()\n",
    "pred_cbr_time = end-start \n",
    "f1_lr = f1_score(target_valid, predictions_lr)\n",
    "f1_lr"
   ]
  },
  {
   "cell_type": "code",
   "execution_count": 35,
   "metadata": {},
   "outputs": [],
   "source": [
    "models_final = []\n",
    "models_final.append([grid_cbr.refit_time_ , pred_cbr_time, f1_cbr])\n",
    "models_final.append([grid_lr.refit_time_ , pred_lr_time, f1_lr])"
   ]
  },
  {
   "cell_type": "code",
   "execution_count": 36,
   "metadata": {
    "scrolled": true
   },
   "outputs": [
    {
     "data": {
      "text/html": [
       "<div>\n",
       "<style scoped>\n",
       "    .dataframe tbody tr th:only-of-type {\n",
       "        vertical-align: middle;\n",
       "    }\n",
       "\n",
       "    .dataframe tbody tr th {\n",
       "        vertical-align: top;\n",
       "    }\n",
       "\n",
       "    .dataframe thead th {\n",
       "        text-align: right;\n",
       "    }\n",
       "</style>\n",
       "<table border=\"1\" class=\"dataframe\">\n",
       "  <thead>\n",
       "    <tr style=\"text-align: right;\">\n",
       "      <th></th>\n",
       "      <th>trainig_time</th>\n",
       "      <th>predict_time</th>\n",
       "      <th>rmse</th>\n",
       "    </tr>\n",
       "  </thead>\n",
       "  <tbody>\n",
       "    <tr>\n",
       "      <th>CatBoost</th>\n",
       "      <td>1803.409375</td>\n",
       "      <td>0.004069</td>\n",
       "      <td>0.712492</td>\n",
       "    </tr>\n",
       "    <tr>\n",
       "      <th>LogisticRegression</th>\n",
       "      <td>55.100216</td>\n",
       "      <td>0.003969</td>\n",
       "      <td>0.758129</td>\n",
       "    </tr>\n",
       "  </tbody>\n",
       "</table>\n",
       "</div>"
      ],
      "text/plain": [
       "                    trainig_time  predict_time      rmse\n",
       "CatBoost             1803.409375      0.004069  0.712492\n",
       "LogisticRegression     55.100216      0.003969  0.758129"
      ]
     },
     "execution_count": 36,
     "metadata": {},
     "output_type": "execute_result"
    }
   ],
   "source": [
    "table_final = pd.DataFrame(data=models_final, \n",
    "                            index=['CatBoost','LogisticRegression'], \n",
    "                            columns=['trainig_time', 'predict_time', 'rmse']\n",
    "                           )\n",
    "table_final"
   ]
  },
  {
   "cell_type": "code",
   "execution_count": 37,
   "metadata": {},
   "outputs": [
    {
     "data": {
      "image/png": "[encoded data removed]",
      "text/plain": [
       "<Figure size 1080x1080 with 1 Axes>"
      ]
     },
     "metadata": {
      "needs_background": "light"
     },
     "output_type": "display_data"
    }
   ],
   "source": [
    "table_final.plot(kind='bar', legend=False, figsize=(15, 15))\n",
    "plt.xlabel('models')\n",
    "plt.ylabel('values')\n",
    "plt.legend(list(table_final))\n",
    "plt.title('Сравнение моделей')\n",
    "plt.show()"
   ]
  },
  {
   "cell_type": "code",
   "execution_count": 38,
   "metadata": {},
   "outputs": [
    {
     "data": {
      "text/plain": [
       "0.7589317507418398"
      ]
     },
     "execution_count": 38,
     "metadata": {},
     "output_type": "execute_result"
    }
   ],
   "source": [
    "predictions_lr = grid_lr.best_estimator_.predict(tf_idf_test)\n",
    "f1_lr = f1_score(target_test, predictions_lr)\n",
    "f1_lr"
   ]
  },
  {
   "cell_type": "markdown",
   "metadata": {},
   "source": [
    "- Обучил разные модели с разными гиперпараметрами\n",
    "- Оценил их резкльтативность метрикой F1 \n",
    "- Проанализировал время на обучение "
   ]
  },
  {
   "cell_type": "markdown",
   "metadata": {},
   "source": [
    "## Выводы"
   ]
  },
  {
   "cell_type": "markdown",
   "metadata": {},
   "source": [
    "- Открыл и подготовил данные\n",
    "- Обучил разные мадели \n",
    "- лучший результат по метрике F1 показала модель Logistic Regression"
   ]
  }
 ],
 "metadata": {
  "ExecuteTimeLog": [
   {
    "duration": 406,
    "start_time": "2023-03-10T22:55:37.349Z"
   },
   {
    "duration": 63,
    "start_time": "2023-03-10T23:03:48.378Z"
   },
   {
    "duration": 39,
    "start_time": "2023-03-10T23:04:07.568Z"
   },
   {
    "duration": 2,
    "start_time": "2023-03-10T23:04:12.321Z"
   },
   {
    "duration": 29,
    "start_time": "2023-03-10T23:04:14.399Z"
   },
   {
    "duration": 2257,
    "start_time": "2023-03-10T23:04:28.987Z"
   },
   {
    "duration": 26,
    "start_time": "2023-03-10T23:05:21.055Z"
   },
   {
    "duration": 11,
    "start_time": "2023-03-10T23:05:34.853Z"
   },
   {
    "duration": 24,
    "start_time": "2023-03-10T23:09:40.918Z"
   },
   {
    "duration": 10,
    "start_time": "2023-03-10T23:10:27.546Z"
   },
   {
    "duration": 9,
    "start_time": "2023-03-10T23:10:42.499Z"
   },
   {
    "duration": 8,
    "start_time": "2023-03-10T23:10:56.161Z"
   },
   {
    "duration": 6,
    "start_time": "2023-03-10T23:13:05.289Z"
   },
   {
    "duration": 496,
    "start_time": "2023-03-10T23:13:23.254Z"
   },
   {
    "duration": 2996,
    "start_time": "2023-03-10T23:13:28.195Z"
   },
   {
    "duration": 12,
    "start_time": "2023-03-10T23:14:41.904Z"
   },
   {
    "duration": 2,
    "start_time": "2023-03-10T23:15:35.633Z"
   },
   {
    "duration": 44,
    "start_time": "2023-03-10T23:15:39.708Z"
   },
   {
    "duration": 13,
    "start_time": "2023-03-10T23:15:44.431Z"
   },
   {
    "duration": 3,
    "start_time": "2023-03-10T23:16:17.621Z"
   },
   {
    "duration": 843,
    "start_time": "2023-03-10T23:16:20.560Z"
   },
   {
    "duration": 26,
    "start_time": "2023-03-10T23:16:23.210Z"
   },
   {
    "duration": 8,
    "start_time": "2023-03-10T23:16:26.740Z"
   },
   {
    "duration": 9,
    "start_time": "2023-03-10T23:16:29.835Z"
   },
   {
    "duration": 6,
    "start_time": "2023-03-10T23:16:32.398Z"
   },
   {
    "duration": 45,
    "start_time": "2023-03-10T23:16:35.526Z"
   },
   {
    "duration": 17,
    "start_time": "2023-03-10T23:16:39.086Z"
   },
   {
    "duration": 75,
    "start_time": "2023-03-10T23:18:06.443Z"
   },
   {
    "duration": 65,
    "start_time": "2023-03-10T23:18:31.369Z"
   },
   {
    "duration": 14499,
    "start_time": "2023-03-10T23:20:01.343Z"
   },
   {
    "duration": 943,
    "start_time": "2023-03-10T23:20:36.324Z"
   },
   {
    "duration": 59,
    "start_time": "2023-03-10T23:20:42.015Z"
   },
   {
    "duration": 248,
    "start_time": "2023-03-10T23:25:30.292Z"
   },
   {
    "duration": 385,
    "start_time": "2023-03-10T23:26:09.024Z"
   },
   {
    "duration": 2,
    "start_time": "2023-03-10T23:27:05.444Z"
   },
   {
    "duration": 251,
    "start_time": "2023-03-10T23:27:10.728Z"
   },
   {
    "duration": 55,
    "start_time": "2023-03-10T23:27:39.010Z"
   },
   {
    "duration": 7,
    "start_time": "2023-03-10T23:27:41.521Z"
   },
   {
    "duration": 274,
    "start_time": "2023-03-10T23:27:47.498Z"
   },
   {
    "duration": 28,
    "start_time": "2023-03-10T23:28:21.253Z"
   },
   {
    "duration": 1701,
    "start_time": "2023-03-13T10:16:24.329Z"
   },
   {
    "duration": 3751,
    "start_time": "2023-03-13T10:16:26.032Z"
   },
   {
    "duration": 32,
    "start_time": "2023-03-13T10:16:29.785Z"
   },
   {
    "duration": 17,
    "start_time": "2023-03-13T10:16:29.820Z"
   },
   {
    "duration": 73,
    "start_time": "2023-03-13T10:16:29.839Z"
   },
   {
    "duration": 31,
    "start_time": "2023-03-13T10:16:29.914Z"
   },
   {
    "duration": 7,
    "start_time": "2023-03-13T10:16:29.946Z"
   },
   {
    "duration": 9,
    "start_time": "2023-03-13T10:16:39.335Z"
   },
   {
    "duration": 2657,
    "start_time": "2023-03-13T10:17:01.094Z"
   },
   {
    "duration": 7,
    "start_time": "2023-03-13T10:17:16.636Z"
   },
   {
    "duration": 373,
    "start_time": "2023-03-13T10:17:19.177Z"
   },
   {
    "duration": 31184,
    "start_time": "2023-03-13T10:19:00.495Z"
   },
   {
    "duration": 163,
    "start_time": "2023-03-13T12:23:19.245Z"
   },
   {
    "duration": 750,
    "start_time": "2023-03-13T12:24:40.353Z"
   },
   {
    "duration": 4,
    "start_time": "2023-03-13T12:28:00.724Z"
   },
   {
    "duration": 752,
    "start_time": "2023-03-13T12:28:08.151Z"
   },
   {
    "duration": 766,
    "start_time": "2023-03-13T12:28:50.510Z"
   },
   {
    "duration": 9,
    "start_time": "2023-03-13T12:34:57.328Z"
   },
   {
    "duration": 730,
    "start_time": "2023-03-13T12:34:59.849Z"
   },
   {
    "duration": 737,
    "start_time": "2023-03-13T12:37:26.294Z"
   },
   {
    "duration": 1690,
    "start_time": "2023-03-13T12:37:52.776Z"
   },
   {
    "duration": 837,
    "start_time": "2023-03-13T12:37:54.468Z"
   },
   {
    "duration": 33,
    "start_time": "2023-03-13T12:37:55.311Z"
   },
   {
    "duration": 16,
    "start_time": "2023-03-13T12:37:55.345Z"
   },
   {
    "duration": 74,
    "start_time": "2023-03-13T12:37:55.363Z"
   },
   {
    "duration": 31,
    "start_time": "2023-03-13T12:37:55.438Z"
   },
   {
    "duration": 7,
    "start_time": "2023-03-13T12:37:55.471Z"
   },
   {
    "duration": 10,
    "start_time": "2023-03-13T12:37:55.479Z"
   },
   {
    "duration": 694,
    "start_time": "2023-03-13T12:37:55.511Z"
   },
   {
    "duration": 3099,
    "start_time": "2023-03-13T12:37:56.207Z"
   },
   {
    "duration": 0,
    "start_time": "2023-03-13T12:37:59.311Z"
   },
   {
    "duration": 713,
    "start_time": "2023-03-13T12:38:32.157Z"
   },
   {
    "duration": 7,
    "start_time": "2023-03-13T12:39:21.342Z"
   },
   {
    "duration": 26,
    "start_time": "2023-03-13T14:01:40.876Z"
   },
   {
    "duration": 451,
    "start_time": "2023-03-13T14:01:49.245Z"
   },
   {
    "duration": 35,
    "start_time": "2023-03-13T14:01:53.727Z"
   },
   {
    "duration": 1007,
    "start_time": "2023-03-13T14:01:58.072Z"
   },
   {
    "duration": 33,
    "start_time": "2023-03-13T14:02:11.454Z"
   },
   {
    "duration": 32,
    "start_time": "2023-03-13T14:03:57.925Z"
   },
   {
    "duration": 32,
    "start_time": "2023-03-13T14:04:02.194Z"
   },
   {
    "duration": 1256,
    "start_time": "2023-03-13T14:07:40.217Z"
   },
   {
    "duration": 19,
    "start_time": "2023-03-13T14:08:19.906Z"
   },
   {
    "duration": 27,
    "start_time": "2023-03-13T14:08:46.751Z"
   },
   {
    "duration": 18,
    "start_time": "2023-03-13T14:09:21.703Z"
   },
   {
    "duration": 1917,
    "start_time": "2023-03-13T14:10:06.809Z"
   },
   {
    "duration": 55,
    "start_time": "2023-03-13T14:10:42.203Z"
   },
   {
    "duration": 25,
    "start_time": "2023-03-13T14:13:09.349Z"
   },
   {
    "duration": 176,
    "start_time": "2023-03-13T14:17:50.404Z"
   },
   {
    "duration": 39,
    "start_time": "2023-03-13T14:18:08.596Z"
   },
   {
    "duration": 255,
    "start_time": "2023-03-13T14:19:12.257Z"
   },
   {
    "duration": 193,
    "start_time": "2023-03-13T14:19:50.556Z"
   },
   {
    "duration": 196,
    "start_time": "2023-03-13T14:24:18.145Z"
   },
   {
    "duration": 164,
    "start_time": "2023-03-13T14:24:36.707Z"
   },
   {
    "duration": 167,
    "start_time": "2023-03-13T14:24:47.358Z"
   },
   {
    "duration": 218,
    "start_time": "2023-03-13T14:25:10.848Z"
   },
   {
    "duration": 152,
    "start_time": "2023-03-13T14:25:18.478Z"
   },
   {
    "duration": 204,
    "start_time": "2023-03-13T14:25:45.913Z"
   },
   {
    "duration": 592,
    "start_time": "2023-03-13T14:27:07.403Z"
   },
   {
    "duration": 135,
    "start_time": "2023-03-13T14:28:51.215Z"
   },
   {
    "duration": 43,
    "start_time": "2023-03-13T15:26:56.863Z"
   },
   {
    "duration": 141,
    "start_time": "2023-03-13T15:31:07.736Z"
   },
   {
    "duration": 2126,
    "start_time": "2023-03-13T15:31:24.733Z"
   },
   {
    "duration": 919,
    "start_time": "2023-03-13T15:31:26.862Z"
   },
   {
    "duration": 41,
    "start_time": "2023-03-13T15:31:27.783Z"
   },
   {
    "duration": 14,
    "start_time": "2023-03-13T15:31:27.830Z"
   },
   {
    "duration": 73,
    "start_time": "2023-03-13T15:31:27.846Z"
   },
   {
    "duration": 37,
    "start_time": "2023-03-13T15:31:27.921Z"
   },
   {
    "duration": 8,
    "start_time": "2023-03-13T15:31:27.959Z"
   },
   {
    "duration": 170,
    "start_time": "2023-03-13T15:31:31.273Z"
   },
   {
    "duration": 168,
    "start_time": "2023-03-13T15:31:58.731Z"
   },
   {
    "duration": 140,
    "start_time": "2023-03-13T15:32:04.430Z"
   },
   {
    "duration": 128,
    "start_time": "2023-03-13T15:32:08.974Z"
   },
   {
    "duration": 210,
    "start_time": "2023-03-13T15:32:14.808Z"
   },
   {
    "duration": 142,
    "start_time": "2023-03-13T15:32:51.816Z"
   },
   {
    "duration": 151,
    "start_time": "2023-03-13T15:33:01.405Z"
   },
   {
    "duration": 138,
    "start_time": "2023-03-13T15:33:06.810Z"
   },
   {
    "duration": 254,
    "start_time": "2023-03-13T15:33:26.907Z"
   },
   {
    "duration": 139,
    "start_time": "2023-03-13T15:33:43.516Z"
   },
   {
    "duration": 7,
    "start_time": "2023-03-13T15:38:29.016Z"
   },
   {
    "duration": 6,
    "start_time": "2023-03-13T15:38:30.068Z"
   },
   {
    "duration": 732,
    "start_time": "2023-03-13T15:39:09.673Z"
   },
   {
    "duration": 706,
    "start_time": "2023-03-13T15:40:12.332Z"
   },
   {
    "duration": 3122,
    "start_time": "2023-03-13T15:40:35.224Z"
   },
   {
    "duration": 427,
    "start_time": "2023-03-13T15:40:55.068Z"
   },
   {
    "duration": 19,
    "start_time": "2023-03-13T15:42:10.430Z"
   },
   {
    "duration": 4920,
    "start_time": "2023-03-13T15:42:25.907Z"
   },
   {
    "duration": 353,
    "start_time": "2023-03-13T15:42:36.441Z"
   },
   {
    "duration": 390,
    "start_time": "2023-03-13T15:43:20.726Z"
   },
   {
    "duration": 12,
    "start_time": "2023-03-13T16:29:41.997Z"
   },
   {
    "duration": 4,
    "start_time": "2023-03-13T16:43:50.298Z"
   },
   {
    "duration": 6,
    "start_time": "2023-03-13T16:44:12.646Z"
   },
   {
    "duration": 48,
    "start_time": "2023-03-13T16:45:18.193Z"
   },
   {
    "duration": 9,
    "start_time": "2023-03-13T16:45:26.574Z"
   },
   {
    "duration": 4,
    "start_time": "2023-03-13T16:46:17.793Z"
   },
   {
    "duration": 5,
    "start_time": "2023-03-13T16:46:18.859Z"
   },
   {
    "duration": 6,
    "start_time": "2023-03-13T16:46:27.043Z"
   },
   {
    "duration": 22,
    "start_time": "2023-03-13T16:49:19.451Z"
   },
   {
    "duration": 26,
    "start_time": "2023-03-13T16:49:27.051Z"
   },
   {
    "duration": 31,
    "start_time": "2023-03-13T16:49:34.122Z"
   },
   {
    "duration": 23,
    "start_time": "2023-03-13T16:49:41.019Z"
   },
   {
    "duration": 43,
    "start_time": "2023-03-13T16:50:14.096Z"
   },
   {
    "duration": 22,
    "start_time": "2023-03-13T16:50:19.408Z"
   },
   {
    "duration": 23,
    "start_time": "2023-03-13T16:50:45.499Z"
   },
   {
    "duration": 22,
    "start_time": "2023-03-13T16:51:04.401Z"
   },
   {
    "duration": 4,
    "start_time": "2023-03-13T16:51:44.327Z"
   },
   {
    "duration": 35,
    "start_time": "2023-03-13T16:51:46.219Z"
   },
   {
    "duration": 41,
    "start_time": "2023-03-13T16:51:59.329Z"
   },
   {
    "duration": 233,
    "start_time": "2023-03-13T16:56:59.593Z"
   },
   {
    "duration": 38,
    "start_time": "2023-03-13T16:57:08.157Z"
   },
   {
    "duration": 5,
    "start_time": "2023-03-13T16:57:09.541Z"
   },
   {
    "duration": 68,
    "start_time": "2023-03-13T16:57:31.809Z"
   },
   {
    "duration": 8,
    "start_time": "2023-03-13T16:59:54.818Z"
   },
   {
    "duration": 35,
    "start_time": "2023-03-13T16:59:56.165Z"
   },
   {
    "duration": 4,
    "start_time": "2023-03-13T16:59:57.543Z"
   },
   {
    "duration": 112,
    "start_time": "2023-03-13T16:59:59.488Z"
   },
   {
    "duration": 8,
    "start_time": "2023-03-13T17:11:36.977Z"
   },
   {
    "duration": 19,
    "start_time": "2023-03-13T17:11:46.172Z"
   },
   {
    "duration": 397,
    "start_time": "2023-03-13T17:13:23.734Z"
   },
   {
    "duration": 40,
    "start_time": "2023-03-13T17:13:36.348Z"
   },
   {
    "duration": 19,
    "start_time": "2023-03-13T17:13:50.008Z"
   },
   {
    "duration": 5,
    "start_time": "2023-03-13T17:19:14.708Z"
   },
   {
    "duration": 20,
    "start_time": "2023-03-13T17:19:21.408Z"
   },
   {
    "duration": 19,
    "start_time": "2023-03-13T17:19:30.734Z"
   },
   {
    "duration": 2871,
    "start_time": "2023-03-13T17:22:01.931Z"
   },
   {
    "duration": 802,
    "start_time": "2023-03-13T17:22:04.804Z"
   },
   {
    "duration": 33,
    "start_time": "2023-03-13T17:22:05.608Z"
   },
   {
    "duration": 11,
    "start_time": "2023-03-13T17:22:05.643Z"
   },
   {
    "duration": 72,
    "start_time": "2023-03-13T17:22:05.656Z"
   },
   {
    "duration": 32,
    "start_time": "2023-03-13T17:22:05.730Z"
   },
   {
    "duration": 6,
    "start_time": "2023-03-13T17:22:05.764Z"
   },
   {
    "duration": 156,
    "start_time": "2023-03-13T17:22:05.772Z"
   },
   {
    "duration": 8,
    "start_time": "2023-03-13T17:22:05.929Z"
   },
   {
    "duration": 13,
    "start_time": "2023-03-13T17:22:05.939Z"
   },
   {
    "duration": 4571,
    "start_time": "2023-03-13T17:22:05.954Z"
   },
   {
    "duration": 72,
    "start_time": "2023-03-13T17:22:10.527Z"
   },
   {
    "duration": 12,
    "start_time": "2023-03-13T17:22:10.601Z"
   },
   {
    "duration": 192,
    "start_time": "2023-03-13T17:22:10.615Z"
   },
   {
    "duration": 9,
    "start_time": "2023-03-13T17:22:30.978Z"
   },
   {
    "duration": 6,
    "start_time": "2023-03-13T17:22:34.121Z"
   },
   {
    "duration": 102,
    "start_time": "2023-03-13T17:22:36.541Z"
   },
   {
    "duration": 16,
    "start_time": "2023-03-13T17:22:39.447Z"
   },
   {
    "duration": 12,
    "start_time": "2023-03-13T17:22:56.771Z"
   },
   {
    "duration": 13,
    "start_time": "2023-03-13T17:29:07.721Z"
   },
   {
    "duration": 19,
    "start_time": "2023-03-13T17:29:32.909Z"
   },
   {
    "duration": 182,
    "start_time": "2023-03-13T17:32:03.871Z"
   },
   {
    "duration": 6,
    "start_time": "2023-03-13T17:32:12.713Z"
   },
   {
    "duration": 8,
    "start_time": "2023-03-13T17:32:25.921Z"
   },
   {
    "duration": 6,
    "start_time": "2023-03-13T17:32:30.347Z"
   },
   {
    "duration": 12,
    "start_time": "2023-03-13T17:33:58.989Z"
   },
   {
    "duration": 7,
    "start_time": "2023-03-13T17:34:21.757Z"
   },
   {
    "duration": 751,
    "start_time": "2023-03-13T17:34:21.776Z"
   },
   {
    "duration": 31,
    "start_time": "2023-03-13T17:34:22.529Z"
   },
   {
    "duration": 8,
    "start_time": "2023-03-13T17:34:22.562Z"
   },
   {
    "duration": 74,
    "start_time": "2023-03-13T17:34:22.572Z"
   },
   {
    "duration": 30,
    "start_time": "2023-03-13T17:34:22.649Z"
   },
   {
    "duration": 7,
    "start_time": "2023-03-13T17:34:22.681Z"
   },
   {
    "duration": 144,
    "start_time": "2023-03-13T17:34:22.690Z"
   },
   {
    "duration": 8,
    "start_time": "2023-03-13T17:34:22.836Z"
   },
   {
    "duration": 18,
    "start_time": "2023-03-13T17:34:22.846Z"
   },
   {
    "duration": 4588,
    "start_time": "2023-03-13T17:34:22.866Z"
   },
   {
    "duration": 96,
    "start_time": "2023-03-13T17:34:27.456Z"
   },
   {
    "duration": 5,
    "start_time": "2023-03-13T17:34:27.554Z"
   },
   {
    "duration": 116,
    "start_time": "2023-03-13T17:34:27.560Z"
   },
   {
    "duration": 9,
    "start_time": "2023-03-13T17:34:27.678Z"
   },
   {
    "duration": 40,
    "start_time": "2023-03-13T17:34:27.688Z"
   },
   {
    "duration": 69,
    "start_time": "2023-03-13T17:35:12.294Z"
   },
   {
    "duration": 14,
    "start_time": "2023-03-13T17:35:19.194Z"
   },
   {
    "duration": 14,
    "start_time": "2023-03-13T17:36:08.141Z"
   },
   {
    "duration": 15,
    "start_time": "2023-03-13T17:36:36.802Z"
   },
   {
    "duration": 7,
    "start_time": "2023-03-13T17:36:40.930Z"
   },
   {
    "duration": 735,
    "start_time": "2023-03-13T17:36:40.938Z"
   },
   {
    "duration": 39,
    "start_time": "2023-03-13T17:36:41.675Z"
   },
   {
    "duration": 8,
    "start_time": "2023-03-13T17:36:41.716Z"
   },
   {
    "duration": 49,
    "start_time": "2023-03-13T17:36:41.726Z"
   },
   {
    "duration": 50,
    "start_time": "2023-03-13T17:36:41.777Z"
   },
   {
    "duration": 7,
    "start_time": "2023-03-13T17:36:41.829Z"
   },
   {
    "duration": 259,
    "start_time": "2023-03-13T17:36:41.838Z"
   },
   {
    "duration": 15,
    "start_time": "2023-03-13T17:36:42.098Z"
   },
   {
    "duration": 7,
    "start_time": "2023-03-13T17:36:42.116Z"
   },
   {
    "duration": 4615,
    "start_time": "2023-03-13T17:36:42.125Z"
   },
   {
    "duration": 80,
    "start_time": "2023-03-13T17:36:46.742Z"
   },
   {
    "duration": 5,
    "start_time": "2023-03-13T17:36:46.824Z"
   },
   {
    "duration": 154,
    "start_time": "2023-03-13T17:36:46.830Z"
   },
   {
    "duration": 9,
    "start_time": "2023-03-13T17:36:46.986Z"
   },
   {
    "duration": 30,
    "start_time": "2023-03-13T17:36:46.997Z"
   },
   {
    "duration": 48,
    "start_time": "2023-03-13T17:42:36.309Z"
   },
   {
    "duration": 45,
    "start_time": "2023-03-13T17:43:19.803Z"
   },
   {
    "duration": 6,
    "start_time": "2023-03-13T17:43:32.897Z"
   },
   {
    "duration": 729,
    "start_time": "2023-03-13T17:43:32.905Z"
   },
   {
    "duration": 32,
    "start_time": "2023-03-13T17:43:33.636Z"
   },
   {
    "duration": 13,
    "start_time": "2023-03-13T17:43:33.670Z"
   },
   {
    "duration": 66,
    "start_time": "2023-03-13T17:43:33.685Z"
   },
   {
    "duration": 31,
    "start_time": "2023-03-13T17:43:33.753Z"
   },
   {
    "duration": 7,
    "start_time": "2023-03-13T17:43:33.786Z"
   },
   {
    "duration": 142,
    "start_time": "2023-03-13T17:43:33.813Z"
   },
   {
    "duration": 7,
    "start_time": "2023-03-13T17:43:33.957Z"
   },
   {
    "duration": 6,
    "start_time": "2023-03-13T17:43:33.966Z"
   },
   {
    "duration": 4572,
    "start_time": "2023-03-13T17:43:33.974Z"
   },
   {
    "duration": 79,
    "start_time": "2023-03-13T17:43:38.548Z"
   },
   {
    "duration": 4,
    "start_time": "2023-03-13T17:43:38.629Z"
   },
   {
    "duration": 134,
    "start_time": "2023-03-13T17:43:38.634Z"
   },
   {
    "duration": 76,
    "start_time": "2023-03-13T17:43:38.770Z"
   },
   {
    "duration": 10,
    "start_time": "2023-03-13T17:43:38.847Z"
   },
   {
    "duration": 17,
    "start_time": "2023-03-13T17:43:58.291Z"
   },
   {
    "duration": 12,
    "start_time": "2023-03-13T17:44:22.596Z"
   },
   {
    "duration": 9,
    "start_time": "2023-03-13T17:44:29.897Z"
   },
   {
    "duration": 758,
    "start_time": "2023-03-13T17:44:29.909Z"
   },
   {
    "duration": 32,
    "start_time": "2023-03-13T17:44:30.669Z"
   },
   {
    "duration": 53,
    "start_time": "2023-03-13T17:44:30.712Z"
   },
   {
    "duration": 83,
    "start_time": "2023-03-13T17:44:30.767Z"
   },
   {
    "duration": 76,
    "start_time": "2023-03-13T17:44:30.852Z"
   },
   {
    "duration": 75,
    "start_time": "2023-03-13T17:44:30.930Z"
   },
   {
    "duration": 164,
    "start_time": "2023-03-13T17:44:31.007Z"
   },
   {
    "duration": 8,
    "start_time": "2023-03-13T17:44:31.173Z"
   },
   {
    "duration": 25,
    "start_time": "2023-03-13T17:44:31.182Z"
   },
   {
    "duration": 4712,
    "start_time": "2023-03-13T17:44:31.209Z"
   },
   {
    "duration": 69,
    "start_time": "2023-03-13T17:44:35.923Z"
   },
   {
    "duration": 19,
    "start_time": "2023-03-13T17:44:35.993Z"
   },
   {
    "duration": 129,
    "start_time": "2023-03-13T17:44:36.015Z"
   },
   {
    "duration": 79,
    "start_time": "2023-03-13T17:44:36.146Z"
   },
   {
    "duration": 14,
    "start_time": "2023-03-13T17:44:36.227Z"
   },
   {
    "duration": 7,
    "start_time": "2023-03-13T17:51:31.209Z"
   },
   {
    "duration": 93,
    "start_time": "2023-03-13T18:11:25.870Z"
   },
   {
    "duration": 20,
    "start_time": "2023-03-13T18:12:45.792Z"
   },
   {
    "duration": 87,
    "start_time": "2023-03-13T18:12:56.198Z"
   },
   {
    "duration": 23,
    "start_time": "2023-03-13T18:13:04.718Z"
   },
   {
    "duration": 19,
    "start_time": "2023-03-13T18:14:11.424Z"
   },
   {
    "duration": 5,
    "start_time": "2023-03-13T18:17:30.204Z"
   },
   {
    "duration": 4,
    "start_time": "2023-03-13T18:17:44.708Z"
   },
   {
    "duration": 18,
    "start_time": "2023-03-13T18:19:04.122Z"
   },
   {
    "duration": 2920,
    "start_time": "2023-03-13T18:19:49.490Z"
   },
   {
    "duration": 761,
    "start_time": "2023-03-13T18:19:52.412Z"
   },
   {
    "duration": 44,
    "start_time": "2023-03-13T18:19:53.174Z"
   },
   {
    "duration": 11,
    "start_time": "2023-03-13T18:19:53.219Z"
   },
   {
    "duration": 53,
    "start_time": "2023-03-13T18:19:53.232Z"
   },
   {
    "duration": 50,
    "start_time": "2023-03-13T18:19:53.287Z"
   },
   {
    "duration": 7,
    "start_time": "2023-03-13T18:19:53.338Z"
   },
   {
    "duration": 143,
    "start_time": "2023-03-13T18:19:53.346Z"
   },
   {
    "duration": 7,
    "start_time": "2023-03-13T18:19:53.491Z"
   },
   {
    "duration": 14,
    "start_time": "2023-03-13T18:19:53.499Z"
   },
   {
    "duration": 4766,
    "start_time": "2023-03-13T18:19:53.514Z"
   },
   {
    "duration": 76,
    "start_time": "2023-03-13T18:19:58.282Z"
   },
   {
    "duration": 4,
    "start_time": "2023-03-13T18:19:58.360Z"
   },
   {
    "duration": 132,
    "start_time": "2023-03-13T18:19:58.366Z"
   },
   {
    "duration": 52,
    "start_time": "2023-03-13T18:19:58.500Z"
   },
   {
    "duration": 8,
    "start_time": "2023-03-13T18:19:58.554Z"
   },
   {
    "duration": 12,
    "start_time": "2023-03-13T18:19:58.563Z"
   },
   {
    "duration": 203,
    "start_time": "2023-03-13T18:19:58.577Z"
   },
   {
    "duration": 0,
    "start_time": "2023-03-13T18:19:58.781Z"
   },
   {
    "duration": 0,
    "start_time": "2023-03-13T18:19:58.783Z"
   },
   {
    "duration": 12,
    "start_time": "2023-03-13T18:20:44.473Z"
   },
   {
    "duration": 2763,
    "start_time": "2023-03-13T18:20:56.051Z"
   },
   {
    "duration": 759,
    "start_time": "2023-03-13T18:20:58.816Z"
   },
   {
    "duration": 40,
    "start_time": "2023-03-13T18:20:59.577Z"
   },
   {
    "duration": 10,
    "start_time": "2023-03-13T18:20:59.619Z"
   },
   {
    "duration": 55,
    "start_time": "2023-03-13T18:20:59.630Z"
   },
   {
    "duration": 48,
    "start_time": "2023-03-13T18:20:59.687Z"
   },
   {
    "duration": 7,
    "start_time": "2023-03-13T18:20:59.737Z"
   },
   {
    "duration": 157,
    "start_time": "2023-03-13T18:20:59.746Z"
   },
   {
    "duration": 11,
    "start_time": "2023-03-13T18:20:59.905Z"
   },
   {
    "duration": 6,
    "start_time": "2023-03-13T18:20:59.919Z"
   },
   {
    "duration": 4669,
    "start_time": "2023-03-13T18:20:59.926Z"
   },
   {
    "duration": 84,
    "start_time": "2023-03-13T18:21:04.597Z"
   },
   {
    "duration": 4,
    "start_time": "2023-03-13T18:21:04.682Z"
   },
   {
    "duration": 112,
    "start_time": "2023-03-13T18:21:04.687Z"
   },
   {
    "duration": 47,
    "start_time": "2023-03-13T18:21:04.801Z"
   },
   {
    "duration": 8,
    "start_time": "2023-03-13T18:21:04.849Z"
   },
   {
    "duration": 12,
    "start_time": "2023-03-13T18:21:04.859Z"
   },
   {
    "duration": 191,
    "start_time": "2023-03-13T18:21:04.872Z"
   },
   {
    "duration": 0,
    "start_time": "2023-03-13T18:21:05.064Z"
   },
   {
    "duration": 0,
    "start_time": "2023-03-13T18:21:05.066Z"
   },
   {
    "duration": 0,
    "start_time": "2023-03-13T18:21:05.068Z"
   },
   {
    "duration": 4,
    "start_time": "2023-03-13T18:21:35.922Z"
   },
   {
    "duration": 15,
    "start_time": "2023-03-13T18:23:22.306Z"
   },
   {
    "duration": 2845,
    "start_time": "2023-03-13T18:24:47.199Z"
   },
   {
    "duration": 775,
    "start_time": "2023-03-13T18:24:50.046Z"
   },
   {
    "duration": 34,
    "start_time": "2023-03-13T18:24:50.823Z"
   },
   {
    "duration": 10,
    "start_time": "2023-03-13T18:24:50.858Z"
   },
   {
    "duration": 73,
    "start_time": "2023-03-13T18:24:50.870Z"
   },
   {
    "duration": 33,
    "start_time": "2023-03-13T18:24:50.945Z"
   },
   {
    "duration": 9,
    "start_time": "2023-03-13T18:24:50.980Z"
   },
   {
    "duration": 152,
    "start_time": "2023-03-13T18:24:50.991Z"
   },
   {
    "duration": 7,
    "start_time": "2023-03-13T18:24:51.144Z"
   },
   {
    "duration": 6,
    "start_time": "2023-03-13T18:24:51.153Z"
   },
   {
    "duration": 4757,
    "start_time": "2023-03-13T18:24:51.161Z"
   },
   {
    "duration": 78,
    "start_time": "2023-03-13T18:24:55.919Z"
   },
   {
    "duration": 5,
    "start_time": "2023-03-13T18:24:56.011Z"
   },
   {
    "duration": 121,
    "start_time": "2023-03-13T18:24:56.020Z"
   },
   {
    "duration": 44,
    "start_time": "2023-03-13T18:24:56.143Z"
   },
   {
    "duration": 7,
    "start_time": "2023-03-13T18:24:56.189Z"
   },
   {
    "duration": 3066,
    "start_time": "2023-03-13T18:25:28.497Z"
   },
   {
    "duration": 3667,
    "start_time": "2023-03-13T18:25:31.566Z"
   },
   {
    "duration": 37,
    "start_time": "2023-03-13T18:25:35.235Z"
   },
   {
    "duration": 11,
    "start_time": "2023-03-13T18:25:35.274Z"
   },
   {
    "duration": 79,
    "start_time": "2023-03-13T18:25:35.288Z"
   },
   {
    "duration": 33,
    "start_time": "2023-03-13T18:25:35.369Z"
   },
   {
    "duration": 16,
    "start_time": "2023-03-13T18:25:35.403Z"
   },
   {
    "duration": 169,
    "start_time": "2023-03-13T18:25:35.420Z"
   },
   {
    "duration": 7,
    "start_time": "2023-03-13T18:25:35.591Z"
   },
   {
    "duration": 17,
    "start_time": "2023-03-13T18:25:35.600Z"
   },
   {
    "duration": 4599,
    "start_time": "2023-03-13T18:25:35.618Z"
   },
   {
    "duration": 84,
    "start_time": "2023-03-13T18:25:40.219Z"
   },
   {
    "duration": 8,
    "start_time": "2023-03-13T18:25:40.305Z"
   },
   {
    "duration": 119,
    "start_time": "2023-03-13T18:25:40.315Z"
   },
   {
    "duration": 43,
    "start_time": "2023-03-13T18:25:40.436Z"
   },
   {
    "duration": 7,
    "start_time": "2023-03-13T18:25:40.481Z"
   },
   {
    "duration": 46,
    "start_time": "2023-03-13T18:30:17.627Z"
   },
   {
    "duration": 3276,
    "start_time": "2023-03-13T18:35:23.072Z"
   },
   {
    "duration": 3645,
    "start_time": "2023-03-13T18:35:26.350Z"
   },
   {
    "duration": 35,
    "start_time": "2023-03-13T18:35:29.996Z"
   },
   {
    "duration": 11,
    "start_time": "2023-03-13T18:35:30.033Z"
   },
   {
    "duration": 66,
    "start_time": "2023-03-13T18:35:30.046Z"
   },
   {
    "duration": 31,
    "start_time": "2023-03-13T18:35:30.115Z"
   },
   {
    "duration": 28,
    "start_time": "2023-03-13T18:35:30.147Z"
   },
   {
    "duration": 147,
    "start_time": "2023-03-13T18:35:30.176Z"
   },
   {
    "duration": 7,
    "start_time": "2023-03-13T18:35:30.325Z"
   },
   {
    "duration": 34,
    "start_time": "2023-03-13T18:35:30.334Z"
   },
   {
    "duration": 4509,
    "start_time": "2023-03-13T18:35:30.369Z"
   },
   {
    "duration": 181,
    "start_time": "2023-03-13T18:35:34.880Z"
   },
   {
    "duration": 4,
    "start_time": "2023-03-13T18:35:35.063Z"
   },
   {
    "duration": 109,
    "start_time": "2023-03-13T18:35:35.069Z"
   },
   {
    "duration": 49,
    "start_time": "2023-03-13T18:35:35.180Z"
   },
   {
    "duration": 6,
    "start_time": "2023-03-13T18:35:35.231Z"
   },
   {
    "duration": 11,
    "start_time": "2023-03-13T18:35:35.239Z"
   },
   {
    "duration": 3,
    "start_time": "2023-03-13T18:35:35.251Z"
   },
   {
    "duration": 211,
    "start_time": "2023-03-13T18:35:35.256Z"
   },
   {
    "duration": 0,
    "start_time": "2023-03-13T18:35:35.468Z"
   },
   {
    "duration": 0,
    "start_time": "2023-03-13T18:35:35.470Z"
   },
   {
    "duration": 2921,
    "start_time": "2023-03-13T18:36:19.042Z"
   },
   {
    "duration": 752,
    "start_time": "2023-03-13T18:36:21.965Z"
   },
   {
    "duration": 34,
    "start_time": "2023-03-13T18:36:22.721Z"
   },
   {
    "duration": 11,
    "start_time": "2023-03-13T18:36:22.757Z"
   },
   {
    "duration": 68,
    "start_time": "2023-03-13T18:36:22.770Z"
   },
   {
    "duration": 31,
    "start_time": "2023-03-13T18:36:22.840Z"
   },
   {
    "duration": 7,
    "start_time": "2023-03-13T18:36:22.873Z"
   },
   {
    "duration": 157,
    "start_time": "2023-03-13T18:36:22.881Z"
   },
   {
    "duration": 8,
    "start_time": "2023-03-13T18:36:23.040Z"
   },
   {
    "duration": 15,
    "start_time": "2023-03-13T18:36:23.049Z"
   },
   {
    "duration": 4671,
    "start_time": "2023-03-13T18:36:23.065Z"
   },
   {
    "duration": 80,
    "start_time": "2023-03-13T18:36:27.739Z"
   },
   {
    "duration": 5,
    "start_time": "2023-03-13T18:36:27.821Z"
   },
   {
    "duration": 109,
    "start_time": "2023-03-13T18:36:27.827Z"
   },
   {
    "duration": 42,
    "start_time": "2023-03-13T18:36:27.938Z"
   },
   {
    "duration": 4,
    "start_time": "2023-03-13T18:36:27.981Z"
   },
   {
    "duration": 34,
    "start_time": "2023-03-13T18:36:27.986Z"
   },
   {
    "duration": 3,
    "start_time": "2023-03-13T18:36:28.022Z"
   },
   {
    "duration": 187,
    "start_time": "2023-03-13T18:36:28.026Z"
   },
   {
    "duration": 0,
    "start_time": "2023-03-13T18:36:28.214Z"
   },
   {
    "duration": 0,
    "start_time": "2023-03-13T18:36:28.216Z"
   },
   {
    "duration": 17,
    "start_time": "2023-03-13T18:41:07.490Z"
   },
   {
    "duration": 14,
    "start_time": "2023-03-13T18:41:19.892Z"
   },
   {
    "duration": 17,
    "start_time": "2023-03-13T18:41:26.697Z"
   },
   {
    "duration": 15,
    "start_time": "2023-03-13T18:41:33.556Z"
   },
   {
    "duration": 14,
    "start_time": "2023-03-13T18:41:51.287Z"
   },
   {
    "duration": 14,
    "start_time": "2023-03-13T18:45:29.794Z"
   },
   {
    "duration": 12,
    "start_time": "2023-03-13T18:48:52.171Z"
   },
   {
    "duration": 2849,
    "start_time": "2023-03-13T18:49:06.939Z"
   },
   {
    "duration": 725,
    "start_time": "2023-03-13T18:49:09.791Z"
   },
   {
    "duration": 37,
    "start_time": "2023-03-13T18:49:10.518Z"
   },
   {
    "duration": 11,
    "start_time": "2023-03-13T18:49:10.558Z"
   },
   {
    "duration": 69,
    "start_time": "2023-03-13T18:49:10.571Z"
   },
   {
    "duration": 33,
    "start_time": "2023-03-13T18:49:10.642Z"
   },
   {
    "duration": 7,
    "start_time": "2023-03-13T18:49:10.677Z"
   },
   {
    "duration": 154,
    "start_time": "2023-03-13T18:49:10.686Z"
   },
   {
    "duration": 9,
    "start_time": "2023-03-13T18:49:10.842Z"
   },
   {
    "duration": 5,
    "start_time": "2023-03-13T18:49:10.854Z"
   },
   {
    "duration": 4657,
    "start_time": "2023-03-13T18:49:10.861Z"
   },
   {
    "duration": 70,
    "start_time": "2023-03-13T18:49:15.520Z"
   },
   {
    "duration": 4,
    "start_time": "2023-03-13T18:49:15.592Z"
   },
   {
    "duration": 106,
    "start_time": "2023-03-13T18:49:15.612Z"
   },
   {
    "duration": 45,
    "start_time": "2023-03-13T18:49:15.719Z"
   },
   {
    "duration": 53,
    "start_time": "2023-03-13T18:49:15.766Z"
   },
   {
    "duration": 4,
    "start_time": "2023-03-13T18:49:15.821Z"
   },
   {
    "duration": 830,
    "start_time": "2023-03-13T18:49:15.827Z"
   },
   {
    "duration": 19,
    "start_time": "2023-03-13T18:49:16.659Z"
   },
   {
    "duration": 3,
    "start_time": "2023-03-13T18:49:16.680Z"
   },
   {
    "duration": 184,
    "start_time": "2023-03-13T18:49:16.684Z"
   },
   {
    "duration": 0,
    "start_time": "2023-03-13T18:49:16.869Z"
   },
   {
    "duration": 0,
    "start_time": "2023-03-13T18:49:16.870Z"
   },
   {
    "duration": 16,
    "start_time": "2023-03-13T18:50:53.449Z"
   },
   {
    "duration": 5,
    "start_time": "2023-03-13T18:51:01.508Z"
   },
   {
    "duration": 2907,
    "start_time": "2023-03-13T18:51:44.474Z"
   },
   {
    "duration": 742,
    "start_time": "2023-03-13T18:51:47.383Z"
   },
   {
    "duration": 34,
    "start_time": "2023-03-13T18:51:48.127Z"
   },
   {
    "duration": 10,
    "start_time": "2023-03-13T18:51:48.163Z"
   },
   {
    "duration": 70,
    "start_time": "2023-03-13T18:51:48.176Z"
   },
   {
    "duration": 33,
    "start_time": "2023-03-13T18:51:48.247Z"
   },
   {
    "duration": 8,
    "start_time": "2023-03-13T18:51:48.282Z"
   },
   {
    "duration": 164,
    "start_time": "2023-03-13T18:51:48.292Z"
   },
   {
    "duration": 7,
    "start_time": "2023-03-13T18:51:48.458Z"
   },
   {
    "duration": 9,
    "start_time": "2023-03-13T18:51:48.467Z"
   },
   {
    "duration": 4594,
    "start_time": "2023-03-13T18:51:48.479Z"
   },
   {
    "duration": 75,
    "start_time": "2023-03-13T18:51:53.075Z"
   },
   {
    "duration": 4,
    "start_time": "2023-03-13T18:51:53.153Z"
   },
   {
    "duration": 119,
    "start_time": "2023-03-13T18:51:53.159Z"
   },
   {
    "duration": 44,
    "start_time": "2023-03-13T18:51:53.280Z"
   },
   {
    "duration": 39,
    "start_time": "2023-03-13T18:51:53.326Z"
   },
   {
    "duration": 4,
    "start_time": "2023-03-13T18:51:53.366Z"
   },
   {
    "duration": 3141,
    "start_time": "2023-03-13T18:52:13.626Z"
   },
   {
    "duration": 3396,
    "start_time": "2023-03-13T18:52:16.769Z"
   },
   {
    "duration": 0,
    "start_time": "2023-03-13T18:52:20.167Z"
   },
   {
    "duration": 0,
    "start_time": "2023-03-13T18:52:20.169Z"
   },
   {
    "duration": 0,
    "start_time": "2023-03-13T18:52:20.170Z"
   },
   {
    "duration": 0,
    "start_time": "2023-03-13T18:52:20.171Z"
   },
   {
    "duration": 0,
    "start_time": "2023-03-13T18:52:20.172Z"
   },
   {
    "duration": 0,
    "start_time": "2023-03-13T18:52:20.173Z"
   },
   {
    "duration": 0,
    "start_time": "2023-03-13T18:52:20.175Z"
   },
   {
    "duration": 0,
    "start_time": "2023-03-13T18:52:20.175Z"
   },
   {
    "duration": 0,
    "start_time": "2023-03-13T18:52:20.177Z"
   },
   {
    "duration": 0,
    "start_time": "2023-03-13T18:52:20.178Z"
   },
   {
    "duration": 0,
    "start_time": "2023-03-13T18:52:20.179Z"
   },
   {
    "duration": 0,
    "start_time": "2023-03-13T18:52:20.179Z"
   },
   {
    "duration": 0,
    "start_time": "2023-03-13T18:52:20.181Z"
   },
   {
    "duration": 0,
    "start_time": "2023-03-13T18:52:20.182Z"
   },
   {
    "duration": 0,
    "start_time": "2023-03-13T18:52:20.183Z"
   },
   {
    "duration": 2888,
    "start_time": "2023-03-13T18:52:25.309Z"
   },
   {
    "duration": 2095,
    "start_time": "2023-03-13T18:52:28.199Z"
   },
   {
    "duration": 36,
    "start_time": "2023-03-13T18:52:30.296Z"
   },
   {
    "duration": 35,
    "start_time": "2023-03-13T18:52:30.335Z"
   },
   {
    "duration": 90,
    "start_time": "2023-03-13T18:52:30.372Z"
   },
   {
    "duration": 61,
    "start_time": "2023-03-13T18:52:30.464Z"
   },
   {
    "duration": 40,
    "start_time": "2023-03-13T18:52:30.527Z"
   },
   {
    "duration": 146,
    "start_time": "2023-03-13T18:52:30.568Z"
   },
   {
    "duration": 9,
    "start_time": "2023-03-13T18:52:30.716Z"
   },
   {
    "duration": 27,
    "start_time": "2023-03-13T18:52:30.727Z"
   },
   {
    "duration": 4669,
    "start_time": "2023-03-13T18:52:30.755Z"
   },
   {
    "duration": 70,
    "start_time": "2023-03-13T18:52:35.426Z"
   },
   {
    "duration": 15,
    "start_time": "2023-03-13T18:52:35.497Z"
   },
   {
    "duration": 110,
    "start_time": "2023-03-13T18:52:35.514Z"
   },
   {
    "duration": 42,
    "start_time": "2023-03-13T18:52:35.625Z"
   },
   {
    "duration": 46,
    "start_time": "2023-03-13T18:52:35.669Z"
   },
   {
    "duration": 9,
    "start_time": "2023-03-13T18:52:35.717Z"
   },
   {
    "duration": 2906,
    "start_time": "2023-03-13T18:56:20.472Z"
   },
   {
    "duration": 3626,
    "start_time": "2023-03-13T18:56:23.380Z"
   },
   {
    "duration": 36,
    "start_time": "2023-03-13T18:56:27.008Z"
   },
   {
    "duration": 10,
    "start_time": "2023-03-13T18:56:27.045Z"
   },
   {
    "duration": 2,
    "start_time": "2023-03-13T18:56:27.057Z"
   },
   {
    "duration": 183,
    "start_time": "2023-03-13T18:56:27.060Z"
   },
   {
    "duration": 0,
    "start_time": "2023-03-13T18:56:27.245Z"
   },
   {
    "duration": 0,
    "start_time": "2023-03-13T18:56:27.247Z"
   },
   {
    "duration": 0,
    "start_time": "2023-03-13T18:56:27.248Z"
   },
   {
    "duration": 0,
    "start_time": "2023-03-13T18:56:27.249Z"
   },
   {
    "duration": 0,
    "start_time": "2023-03-13T18:56:27.250Z"
   },
   {
    "duration": 0,
    "start_time": "2023-03-13T18:56:27.251Z"
   },
   {
    "duration": 0,
    "start_time": "2023-03-13T18:56:27.252Z"
   },
   {
    "duration": 0,
    "start_time": "2023-03-13T18:56:27.253Z"
   },
   {
    "duration": 0,
    "start_time": "2023-03-13T18:56:27.254Z"
   },
   {
    "duration": 0,
    "start_time": "2023-03-13T18:56:27.255Z"
   },
   {
    "duration": 0,
    "start_time": "2023-03-13T18:56:27.256Z"
   },
   {
    "duration": 0,
    "start_time": "2023-03-13T18:56:27.257Z"
   },
   {
    "duration": 0,
    "start_time": "2023-03-13T18:56:27.258Z"
   },
   {
    "duration": 0,
    "start_time": "2023-03-13T18:56:27.259Z"
   },
   {
    "duration": 0,
    "start_time": "2023-03-13T18:56:27.260Z"
   },
   {
    "duration": 0,
    "start_time": "2023-03-13T18:56:27.261Z"
   },
   {
    "duration": 0,
    "start_time": "2023-03-13T18:56:27.262Z"
   },
   {
    "duration": 2838,
    "start_time": "2023-03-13T18:56:58.567Z"
   },
   {
    "duration": 746,
    "start_time": "2023-03-13T18:57:01.408Z"
   },
   {
    "duration": 34,
    "start_time": "2023-03-13T18:57:02.155Z"
   },
   {
    "duration": 25,
    "start_time": "2023-03-13T18:57:02.191Z"
   },
   {
    "duration": 3,
    "start_time": "2023-03-13T18:57:02.218Z"
   },
   {
    "duration": 34,
    "start_time": "2023-03-13T18:57:02.222Z"
   },
   {
    "duration": 6,
    "start_time": "2023-03-13T18:57:02.258Z"
   },
   {
    "duration": 159,
    "start_time": "2023-03-13T18:57:02.266Z"
   },
   {
    "duration": 8,
    "start_time": "2023-03-13T18:57:02.427Z"
   },
   {
    "duration": 11,
    "start_time": "2023-03-13T18:57:02.437Z"
   },
   {
    "duration": 4746,
    "start_time": "2023-03-13T18:57:02.449Z"
   },
   {
    "duration": 71,
    "start_time": "2023-03-13T18:57:07.197Z"
   },
   {
    "duration": 4,
    "start_time": "2023-03-13T18:57:07.269Z"
   },
   {
    "duration": 124,
    "start_time": "2023-03-13T18:57:07.275Z"
   },
   {
    "duration": 50,
    "start_time": "2023-03-13T18:57:07.401Z"
   },
   {
    "duration": 40,
    "start_time": "2023-03-13T18:57:07.453Z"
   },
   {
    "duration": 19,
    "start_time": "2023-03-13T18:57:07.495Z"
   },
   {
    "duration": 4,
    "start_time": "2023-03-13T18:57:07.516Z"
   },
   {
    "duration": 21,
    "start_time": "2023-03-13T18:57:07.522Z"
   },
   {
    "duration": 3,
    "start_time": "2023-03-13T18:57:07.545Z"
   },
   {
    "duration": 199,
    "start_time": "2023-03-13T18:57:07.550Z"
   },
   {
    "duration": 0,
    "start_time": "2023-03-13T18:57:07.751Z"
   },
   {
    "duration": 0,
    "start_time": "2023-03-13T18:57:07.752Z"
   },
   {
    "duration": 17,
    "start_time": "2023-03-13T18:57:24.584Z"
   },
   {
    "duration": 2897,
    "start_time": "2023-03-13T18:57:37.595Z"
   },
   {
    "duration": 739,
    "start_time": "2023-03-13T18:57:40.494Z"
   },
   {
    "duration": 32,
    "start_time": "2023-03-13T18:57:41.235Z"
   },
   {
    "duration": 10,
    "start_time": "2023-03-13T18:57:41.269Z"
   },
   {
    "duration": 2,
    "start_time": "2023-03-13T18:57:41.281Z"
   },
   {
    "duration": 56,
    "start_time": "2023-03-13T18:57:41.285Z"
   },
   {
    "duration": 7,
    "start_time": "2023-03-13T18:57:41.342Z"
   },
   {
    "duration": 151,
    "start_time": "2023-03-13T18:57:41.350Z"
   },
   {
    "duration": 10,
    "start_time": "2023-03-13T18:57:41.503Z"
   },
   {
    "duration": 12,
    "start_time": "2023-03-13T18:57:41.515Z"
   },
   {
    "duration": 4759,
    "start_time": "2023-03-13T18:57:41.528Z"
   },
   {
    "duration": 68,
    "start_time": "2023-03-13T18:57:46.289Z"
   },
   {
    "duration": 5,
    "start_time": "2023-03-13T18:57:46.359Z"
   },
   {
    "duration": 121,
    "start_time": "2023-03-13T18:57:46.366Z"
   },
   {
    "duration": 48,
    "start_time": "2023-03-13T18:57:46.489Z"
   },
   {
    "duration": 42,
    "start_time": "2023-03-13T18:57:46.539Z"
   },
   {
    "duration": 8,
    "start_time": "2023-03-13T18:57:46.583Z"
   },
   {
    "duration": 54,
    "start_time": "2023-03-13T19:53:09.474Z"
   },
   {
    "duration": 3054,
    "start_time": "2023-03-13T19:53:22.678Z"
   },
   {
    "duration": 3625,
    "start_time": "2023-03-13T19:53:25.734Z"
   },
   {
    "duration": 33,
    "start_time": "2023-03-13T19:53:29.361Z"
   },
   {
    "duration": 16,
    "start_time": "2023-03-13T19:53:29.396Z"
   },
   {
    "duration": 3,
    "start_time": "2023-03-13T19:53:29.414Z"
   },
   {
    "duration": 33,
    "start_time": "2023-03-13T19:53:29.419Z"
   },
   {
    "duration": 8,
    "start_time": "2023-03-13T19:53:29.454Z"
   },
   {
    "duration": 172,
    "start_time": "2023-03-13T19:53:29.464Z"
   },
   {
    "duration": 9,
    "start_time": "2023-03-13T19:53:29.638Z"
   },
   {
    "duration": 9,
    "start_time": "2023-03-13T19:53:29.648Z"
   },
   {
    "duration": 4656,
    "start_time": "2023-03-13T19:53:29.659Z"
   },
   {
    "duration": 76,
    "start_time": "2023-03-13T19:53:34.318Z"
   },
   {
    "duration": 17,
    "start_time": "2023-03-13T19:53:34.395Z"
   },
   {
    "duration": 122,
    "start_time": "2023-03-13T19:53:34.415Z"
   },
   {
    "duration": 44,
    "start_time": "2023-03-13T19:53:34.539Z"
   },
   {
    "duration": 52,
    "start_time": "2023-03-13T19:53:34.585Z"
   },
   {
    "duration": 4,
    "start_time": "2023-03-13T19:53:34.638Z"
   },
   {
    "duration": 203,
    "start_time": "2023-03-13T19:53:34.643Z"
   },
   {
    "duration": 0,
    "start_time": "2023-03-13T19:53:34.847Z"
   },
   {
    "duration": 0,
    "start_time": "2023-03-13T19:53:34.849Z"
   },
   {
    "duration": 0,
    "start_time": "2023-03-13T19:53:34.850Z"
   },
   {
    "duration": 0,
    "start_time": "2023-03-13T19:53:34.851Z"
   },
   {
    "duration": 47,
    "start_time": "2023-03-13T19:55:28.457Z"
   },
   {
    "duration": 2997,
    "start_time": "2023-03-13T19:55:38.713Z"
   },
   {
    "duration": 3644,
    "start_time": "2023-03-13T19:55:41.712Z"
   },
   {
    "duration": 36,
    "start_time": "2023-03-13T19:55:45.357Z"
   },
   {
    "duration": 11,
    "start_time": "2023-03-13T19:55:45.396Z"
   },
   {
    "duration": 47,
    "start_time": "2023-03-13T19:55:45.409Z"
   },
   {
    "duration": 30,
    "start_time": "2023-03-13T19:55:45.458Z"
   },
   {
    "duration": 27,
    "start_time": "2023-03-13T19:55:45.489Z"
   },
   {
    "duration": 155,
    "start_time": "2023-03-13T19:55:45.518Z"
   },
   {
    "duration": 8,
    "start_time": "2023-03-13T19:55:45.674Z"
   },
   {
    "duration": 5,
    "start_time": "2023-03-13T19:55:45.685Z"
   },
   {
    "duration": 4513,
    "start_time": "2023-03-13T19:55:45.692Z"
   },
   {
    "duration": 69,
    "start_time": "2023-03-13T19:55:50.207Z"
   },
   {
    "duration": 4,
    "start_time": "2023-03-13T19:55:50.278Z"
   },
   {
    "duration": 109,
    "start_time": "2023-03-13T19:55:50.283Z"
   },
   {
    "duration": 44,
    "start_time": "2023-03-13T19:55:50.394Z"
   },
   {
    "duration": 39,
    "start_time": "2023-03-13T19:55:50.439Z"
   },
   {
    "duration": 4,
    "start_time": "2023-03-13T19:55:50.480Z"
   },
   {
    "duration": 188,
    "start_time": "2023-03-13T19:55:50.486Z"
   },
   {
    "duration": 0,
    "start_time": "2023-03-13T19:55:50.676Z"
   },
   {
    "duration": 0,
    "start_time": "2023-03-13T19:55:50.677Z"
   },
   {
    "duration": 0,
    "start_time": "2023-03-13T19:55:50.678Z"
   },
   {
    "duration": 0,
    "start_time": "2023-03-13T19:55:50.679Z"
   },
   {
    "duration": 797,
    "start_time": "2023-03-13T19:56:50.204Z"
   },
   {
    "duration": 12,
    "start_time": "2023-03-13T19:56:52.533Z"
   },
   {
    "duration": 6,
    "start_time": "2023-03-13T19:57:05.610Z"
   },
   {
    "duration": 708,
    "start_time": "2023-03-13T19:57:05.618Z"
   },
   {
    "duration": 29,
    "start_time": "2023-03-13T19:57:06.328Z"
   },
   {
    "duration": 7,
    "start_time": "2023-03-13T19:57:06.359Z"
   },
   {
    "duration": 65,
    "start_time": "2023-03-13T19:57:06.368Z"
   },
   {
    "duration": 31,
    "start_time": "2023-03-13T19:57:06.435Z"
   },
   {
    "duration": 7,
    "start_time": "2023-03-13T19:57:06.467Z"
   },
   {
    "duration": 150,
    "start_time": "2023-03-13T19:57:06.475Z"
   },
   {
    "duration": 8,
    "start_time": "2023-03-13T19:57:06.627Z"
   },
   {
    "duration": 7,
    "start_time": "2023-03-13T19:57:06.636Z"
   },
   {
    "duration": 4495,
    "start_time": "2023-03-13T19:57:06.645Z"
   },
   {
    "duration": 92,
    "start_time": "2023-03-13T19:57:11.142Z"
   },
   {
    "duration": 4,
    "start_time": "2023-03-13T19:57:11.236Z"
   },
   {
    "duration": 136,
    "start_time": "2023-03-13T19:57:11.242Z"
   },
   {
    "duration": 79,
    "start_time": "2023-03-13T19:57:11.380Z"
   },
   {
    "duration": 52,
    "start_time": "2023-03-13T19:57:11.461Z"
   },
   {
    "duration": 4,
    "start_time": "2023-03-13T19:57:11.515Z"
   },
   {
    "duration": 880,
    "start_time": "2023-03-13T19:57:11.520Z"
   },
   {
    "duration": 25,
    "start_time": "2023-03-13T19:57:12.402Z"
   },
   {
    "duration": 0,
    "start_time": "2023-03-13T19:57:12.428Z"
   },
   {
    "duration": 0,
    "start_time": "2023-03-13T19:57:12.430Z"
   },
   {
    "duration": 0,
    "start_time": "2023-03-13T19:57:12.431Z"
   },
   {
    "duration": 0,
    "start_time": "2023-03-13T19:57:12.432Z"
   },
   {
    "duration": 7,
    "start_time": "2023-03-13T20:05:19.013Z"
   },
   {
    "duration": 3,
    "start_time": "2023-03-13T20:05:20.295Z"
   },
   {
    "duration": 2528,
    "start_time": "2023-03-13T20:05:31.092Z"
   },
   {
    "duration": 321,
    "start_time": "2023-03-13T20:05:33.622Z"
   },
   {
    "duration": 802,
    "start_time": "2023-03-13T20:05:33.945Z"
   },
   {
    "duration": 32,
    "start_time": "2023-03-13T20:05:34.748Z"
   },
   {
    "duration": 10,
    "start_time": "2023-03-13T20:05:34.782Z"
   },
   {
    "duration": 49,
    "start_time": "2023-03-13T20:05:34.813Z"
   },
   {
    "duration": 30,
    "start_time": "2023-03-13T20:05:34.864Z"
   },
   {
    "duration": 7,
    "start_time": "2023-03-13T20:05:34.911Z"
   },
   {
    "duration": 248,
    "start_time": "2023-03-13T20:05:34.920Z"
   },
   {
    "duration": 8,
    "start_time": "2023-03-13T20:05:35.170Z"
   },
   {
    "duration": 8,
    "start_time": "2023-03-13T20:05:35.179Z"
   },
   {
    "duration": 4431,
    "start_time": "2023-03-13T20:05:35.189Z"
   },
   {
    "duration": 66,
    "start_time": "2023-03-13T20:05:39.622Z"
   },
   {
    "duration": 4,
    "start_time": "2023-03-13T20:05:39.691Z"
   },
   {
    "duration": 107,
    "start_time": "2023-03-13T20:05:39.697Z"
   },
   {
    "duration": 46,
    "start_time": "2023-03-13T20:05:39.805Z"
   },
   {
    "duration": 60,
    "start_time": "2023-03-13T20:05:39.853Z"
   },
   {
    "duration": 3,
    "start_time": "2023-03-13T20:05:39.914Z"
   },
   {
    "duration": 816,
    "start_time": "2023-03-13T20:05:39.919Z"
   },
   {
    "duration": 165,
    "start_time": "2023-03-13T20:05:40.737Z"
   },
   {
    "duration": 0,
    "start_time": "2023-03-13T20:05:40.904Z"
   },
   {
    "duration": 0,
    "start_time": "2023-03-13T20:05:40.912Z"
   },
   {
    "duration": 0,
    "start_time": "2023-03-13T20:05:40.913Z"
   },
   {
    "duration": 0,
    "start_time": "2023-03-13T20:05:40.915Z"
   },
   {
    "duration": 153,
    "start_time": "2023-03-13T20:06:21.205Z"
   },
   {
    "duration": 2493,
    "start_time": "2023-03-13T20:06:32.230Z"
   },
   {
    "duration": 411,
    "start_time": "2023-03-13T20:06:34.725Z"
   },
   {
    "duration": 747,
    "start_time": "2023-03-13T20:06:35.137Z"
   },
   {
    "duration": 34,
    "start_time": "2023-03-13T20:06:35.886Z"
   },
   {
    "duration": 8,
    "start_time": "2023-03-13T20:06:35.921Z"
   },
   {
    "duration": 49,
    "start_time": "2023-03-13T20:06:35.931Z"
   },
   {
    "duration": 50,
    "start_time": "2023-03-13T20:06:35.982Z"
   },
   {
    "duration": 6,
    "start_time": "2023-03-13T20:06:36.034Z"
   },
   {
    "duration": 251,
    "start_time": "2023-03-13T20:06:36.042Z"
   },
   {
    "duration": 16,
    "start_time": "2023-03-13T20:06:36.296Z"
   },
   {
    "duration": 12,
    "start_time": "2023-03-13T20:06:36.313Z"
   },
   {
    "duration": 4391,
    "start_time": "2023-03-13T20:06:36.326Z"
   },
   {
    "duration": 68,
    "start_time": "2023-03-13T20:06:40.720Z"
   },
   {
    "duration": 4,
    "start_time": "2023-03-13T20:06:40.789Z"
   },
   {
    "duration": 107,
    "start_time": "2023-03-13T20:06:40.811Z"
   },
   {
    "duration": 44,
    "start_time": "2023-03-13T20:06:40.919Z"
   },
   {
    "duration": 53,
    "start_time": "2023-03-13T20:06:40.965Z"
   },
   {
    "duration": 3,
    "start_time": "2023-03-13T20:06:41.020Z"
   },
   {
    "duration": 807,
    "start_time": "2023-03-13T20:06:41.025Z"
   },
   {
    "duration": 170,
    "start_time": "2023-03-13T20:06:41.834Z"
   },
   {
    "duration": 0,
    "start_time": "2023-03-13T20:06:42.005Z"
   },
   {
    "duration": 0,
    "start_time": "2023-03-13T20:06:42.007Z"
   },
   {
    "duration": 0,
    "start_time": "2023-03-13T20:06:42.012Z"
   },
   {
    "duration": 0,
    "start_time": "2023-03-13T20:06:42.013Z"
   },
   {
    "duration": 4421,
    "start_time": "2023-03-13T20:15:36.070Z"
   },
   {
    "duration": 4594,
    "start_time": "2023-03-13T20:21:21.224Z"
   },
   {
    "duration": 3770,
    "start_time": "2023-03-13T20:21:46.209Z"
   },
   {
    "duration": 27,
    "start_time": "2023-03-13T20:22:00.703Z"
   },
   {
    "duration": 3,
    "start_time": "2023-03-13T20:22:02.795Z"
   },
   {
    "duration": 100,
    "start_time": "2023-03-13T20:22:04.698Z"
   },
   {
    "duration": 55,
    "start_time": "2023-03-13T20:22:06.477Z"
   },
   {
    "duration": 44,
    "start_time": "2023-03-13T20:22:07.748Z"
   },
   {
    "duration": 3,
    "start_time": "2023-03-13T20:22:11.848Z"
   },
   {
    "duration": 958,
    "start_time": "2023-03-13T20:22:14.418Z"
   },
   {
    "duration": 44,
    "start_time": "2023-03-13T20:22:29.411Z"
   },
   {
    "duration": 2560,
    "start_time": "2023-03-13T20:22:35.318Z"
   },
   {
    "duration": 534,
    "start_time": "2023-03-13T20:22:37.879Z"
   },
   {
    "duration": 3619,
    "start_time": "2023-03-13T20:22:38.415Z"
   },
   {
    "duration": 34,
    "start_time": "2023-03-13T20:22:42.035Z"
   },
   {
    "duration": 9,
    "start_time": "2023-03-13T20:22:42.070Z"
   },
   {
    "duration": 60,
    "start_time": "2023-03-13T20:22:42.080Z"
   },
   {
    "duration": 32,
    "start_time": "2023-03-13T20:22:42.142Z"
   },
   {
    "duration": 7,
    "start_time": "2023-03-13T20:22:42.176Z"
   },
   {
    "duration": 243,
    "start_time": "2023-03-13T20:22:42.184Z"
   },
   {
    "duration": 7,
    "start_time": "2023-03-13T20:22:42.430Z"
   },
   {
    "duration": 7,
    "start_time": "2023-03-13T20:22:42.439Z"
   },
   {
    "duration": 3732,
    "start_time": "2023-03-13T20:22:42.448Z"
   },
   {
    "duration": 4,
    "start_time": "2023-03-13T20:22:46.181Z"
   },
   {
    "duration": 48,
    "start_time": "2023-03-13T20:22:46.187Z"
   },
   {
    "duration": 4,
    "start_time": "2023-03-13T20:22:46.237Z"
   },
   {
    "duration": 107,
    "start_time": "2023-03-13T20:22:46.243Z"
   },
   {
    "duration": 42,
    "start_time": "2023-03-13T20:22:46.352Z"
   },
   {
    "duration": 47,
    "start_time": "2023-03-13T20:22:46.396Z"
   },
   {
    "duration": 4,
    "start_time": "2023-03-13T20:22:46.445Z"
   },
   {
    "duration": 842,
    "start_time": "2023-03-13T20:22:46.450Z"
   },
   {
    "duration": 173,
    "start_time": "2023-03-13T20:22:47.294Z"
   },
   {
    "duration": 0,
    "start_time": "2023-03-13T20:22:47.469Z"
   },
   {
    "duration": 0,
    "start_time": "2023-03-13T20:22:47.471Z"
   },
   {
    "duration": 0,
    "start_time": "2023-03-13T20:22:47.472Z"
   },
   {
    "duration": 0,
    "start_time": "2023-03-13T20:22:47.473Z"
   },
   {
    "duration": 12,
    "start_time": "2023-03-13T20:23:37.418Z"
   },
   {
    "duration": 13,
    "start_time": "2023-03-13T20:23:39.447Z"
   },
   {
    "duration": 2497,
    "start_time": "2023-03-13T20:23:50.518Z"
   },
   {
    "duration": 406,
    "start_time": "2023-03-13T20:23:53.017Z"
   },
   {
    "duration": 758,
    "start_time": "2023-03-13T20:23:53.428Z"
   },
   {
    "duration": 42,
    "start_time": "2023-03-13T20:23:54.188Z"
   },
   {
    "duration": 9,
    "start_time": "2023-03-13T20:23:54.232Z"
   },
   {
    "duration": 51,
    "start_time": "2023-03-13T20:23:54.243Z"
   },
   {
    "duration": 34,
    "start_time": "2023-03-13T20:23:54.312Z"
   },
   {
    "duration": 8,
    "start_time": "2023-03-13T20:23:54.348Z"
   },
   {
    "duration": 255,
    "start_time": "2023-03-13T20:23:54.358Z"
   },
   {
    "duration": 7,
    "start_time": "2023-03-13T20:23:54.614Z"
   },
   {
    "duration": 7,
    "start_time": "2023-03-13T20:23:54.623Z"
   },
   {
    "duration": 3633,
    "start_time": "2023-03-13T20:23:54.632Z"
   },
   {
    "duration": 4,
    "start_time": "2023-03-13T20:23:58.267Z"
   },
   {
    "duration": 40,
    "start_time": "2023-03-13T20:23:58.273Z"
   },
   {
    "duration": 5,
    "start_time": "2023-03-13T20:23:58.315Z"
   },
   {
    "duration": 115,
    "start_time": "2023-03-13T20:23:58.321Z"
   },
   {
    "duration": 40,
    "start_time": "2023-03-13T20:23:58.438Z"
   },
   {
    "duration": 47,
    "start_time": "2023-03-13T20:23:58.480Z"
   },
   {
    "duration": 3,
    "start_time": "2023-03-13T20:23:58.529Z"
   },
   {
    "duration": 866,
    "start_time": "2023-03-13T20:23:58.534Z"
   },
   {
    "duration": 16,
    "start_time": "2023-03-13T20:23:59.402Z"
   },
   {
    "duration": 4,
    "start_time": "2023-03-13T20:23:59.419Z"
   },
   {
    "duration": 649,
    "start_time": "2023-03-13T20:23:59.424Z"
   },
   {
    "duration": 0,
    "start_time": "2023-03-13T20:24:00.075Z"
   },
   {
    "duration": 0,
    "start_time": "2023-03-13T20:24:00.076Z"
   },
   {
    "duration": 2526,
    "start_time": "2023-03-13T20:25:07.293Z"
   },
   {
    "duration": 366,
    "start_time": "2023-03-13T20:25:09.820Z"
   },
   {
    "duration": 766,
    "start_time": "2023-03-13T20:25:10.187Z"
   },
   {
    "duration": 35,
    "start_time": "2023-03-13T20:25:10.955Z"
   },
   {
    "duration": 22,
    "start_time": "2023-03-13T20:25:10.993Z"
   },
   {
    "duration": 54,
    "start_time": "2023-03-13T20:25:11.016Z"
   },
   {
    "duration": 49,
    "start_time": "2023-03-13T20:25:11.071Z"
   },
   {
    "duration": 7,
    "start_time": "2023-03-13T20:25:11.122Z"
   },
   {
    "duration": 245,
    "start_time": "2023-03-13T20:25:11.130Z"
   },
   {
    "duration": 7,
    "start_time": "2023-03-13T20:25:11.377Z"
   },
   {
    "duration": 7,
    "start_time": "2023-03-13T20:25:11.385Z"
   },
   {
    "duration": 3795,
    "start_time": "2023-03-13T20:25:11.393Z"
   },
   {
    "duration": 4,
    "start_time": "2023-03-13T20:25:15.190Z"
   },
   {
    "duration": 45,
    "start_time": "2023-03-13T20:25:15.196Z"
   },
   {
    "duration": 4,
    "start_time": "2023-03-13T20:25:15.243Z"
   },
   {
    "duration": 116,
    "start_time": "2023-03-13T20:25:15.248Z"
   },
   {
    "duration": 46,
    "start_time": "2023-03-13T20:25:15.366Z"
   },
   {
    "duration": 42,
    "start_time": "2023-03-13T20:25:15.414Z"
   },
   {
    "duration": 3,
    "start_time": "2023-03-13T20:25:15.457Z"
   },
   {
    "duration": 2677,
    "start_time": "2023-03-13T20:25:30.896Z"
   },
   {
    "duration": 580,
    "start_time": "2023-03-13T20:25:33.575Z"
   },
   {
    "duration": 3647,
    "start_time": "2023-03-13T20:25:34.157Z"
   },
   {
    "duration": 33,
    "start_time": "2023-03-13T20:25:37.806Z"
   },
   {
    "duration": 8,
    "start_time": "2023-03-13T20:25:37.841Z"
   },
   {
    "duration": 69,
    "start_time": "2023-03-13T20:25:37.851Z"
   },
   {
    "duration": 31,
    "start_time": "2023-03-13T20:25:37.922Z"
   },
   {
    "duration": 7,
    "start_time": "2023-03-13T20:25:37.954Z"
   },
   {
    "duration": 244,
    "start_time": "2023-03-13T20:25:37.962Z"
   },
   {
    "duration": 7,
    "start_time": "2023-03-13T20:25:38.207Z"
   },
   {
    "duration": 10,
    "start_time": "2023-03-13T20:25:38.215Z"
   },
   {
    "duration": 3615,
    "start_time": "2023-03-13T20:25:38.226Z"
   },
   {
    "duration": 3,
    "start_time": "2023-03-13T20:25:41.843Z"
   },
   {
    "duration": 36,
    "start_time": "2023-03-13T20:25:41.849Z"
   },
   {
    "duration": 4,
    "start_time": "2023-03-13T20:25:41.887Z"
   },
   {
    "duration": 109,
    "start_time": "2023-03-13T20:25:41.893Z"
   },
   {
    "duration": 48,
    "start_time": "2023-03-13T20:25:42.004Z"
   },
   {
    "duration": 42,
    "start_time": "2023-03-13T20:25:42.054Z"
   },
   {
    "duration": 3,
    "start_time": "2023-03-13T20:25:42.113Z"
   },
   {
    "duration": 47,
    "start_time": "2023-03-13T20:36:20.693Z"
   },
   {
    "duration": 2545,
    "start_time": "2023-03-13T20:36:45.289Z"
   },
   {
    "duration": 546,
    "start_time": "2023-03-13T20:36:47.836Z"
   },
   {
    "duration": 3605,
    "start_time": "2023-03-13T20:36:48.383Z"
   },
   {
    "duration": 33,
    "start_time": "2023-03-13T20:36:51.990Z"
   },
   {
    "duration": 13,
    "start_time": "2023-03-13T20:36:52.024Z"
   },
   {
    "duration": 51,
    "start_time": "2023-03-13T20:36:52.038Z"
   },
   {
    "duration": 43,
    "start_time": "2023-03-13T20:36:52.091Z"
   },
   {
    "duration": 6,
    "start_time": "2023-03-13T20:36:52.136Z"
   },
   {
    "duration": 249,
    "start_time": "2023-03-13T20:36:52.143Z"
   },
   {
    "duration": 5,
    "start_time": "2023-03-13T20:36:52.394Z"
   },
   {
    "duration": 4861,
    "start_time": "2023-03-13T20:36:52.400Z"
   },
   {
    "duration": 0,
    "start_time": "2023-03-13T20:36:57.263Z"
   },
   {
    "duration": 0,
    "start_time": "2023-03-13T20:36:57.264Z"
   },
   {
    "duration": 0,
    "start_time": "2023-03-13T20:36:57.265Z"
   },
   {
    "duration": 0,
    "start_time": "2023-03-13T20:36:57.266Z"
   },
   {
    "duration": 0,
    "start_time": "2023-03-13T20:36:57.267Z"
   },
   {
    "duration": 0,
    "start_time": "2023-03-13T20:36:57.268Z"
   },
   {
    "duration": 1,
    "start_time": "2023-03-13T20:36:57.269Z"
   },
   {
    "duration": 0,
    "start_time": "2023-03-13T20:36:57.271Z"
   },
   {
    "duration": 0,
    "start_time": "2023-03-13T20:36:57.272Z"
   },
   {
    "duration": 0,
    "start_time": "2023-03-13T20:36:57.273Z"
   },
   {
    "duration": 0,
    "start_time": "2023-03-13T20:36:57.274Z"
   },
   {
    "duration": 0,
    "start_time": "2023-03-13T20:36:57.275Z"
   },
   {
    "duration": 3386,
    "start_time": "2023-03-13T20:39:11.269Z"
   },
   {
    "duration": 4058,
    "start_time": "2023-03-13T20:39:25.044Z"
   },
   {
    "duration": 75628,
    "start_time": "2023-03-13T20:43:50.701Z"
   },
   {
    "duration": 75579,
    "start_time": "2023-03-13T20:46:00.804Z"
   },
   {
    "duration": 35,
    "start_time": "2023-03-13T20:47:16.385Z"
   },
   {
    "duration": 4,
    "start_time": "2023-03-13T20:47:16.421Z"
   },
   {
    "duration": 106,
    "start_time": "2023-03-13T20:47:16.427Z"
   },
   {
    "duration": 46,
    "start_time": "2023-03-13T20:47:16.534Z"
   },
   {
    "duration": 51,
    "start_time": "2023-03-13T20:47:16.581Z"
   },
   {
    "duration": 4,
    "start_time": "2023-03-13T20:47:16.634Z"
   },
   {
    "duration": 48,
    "start_time": "2023-03-13T20:51:40.346Z"
   },
   {
    "duration": 4,
    "start_time": "2023-03-13T20:52:35.291Z"
   },
   {
    "duration": 6,
    "start_time": "2023-03-13T20:52:36.685Z"
   },
   {
    "duration": 2599,
    "start_time": "2023-03-13T20:52:51.050Z"
   },
   {
    "duration": 486,
    "start_time": "2023-03-13T20:52:53.651Z"
   },
   {
    "duration": 3676,
    "start_time": "2023-03-13T20:52:54.139Z"
   },
   {
    "duration": 34,
    "start_time": "2023-03-13T20:52:57.817Z"
   },
   {
    "duration": 10,
    "start_time": "2023-03-13T20:52:57.853Z"
   },
   {
    "duration": 66,
    "start_time": "2023-03-13T20:52:57.865Z"
   },
   {
    "duration": 32,
    "start_time": "2023-03-13T20:52:57.933Z"
   },
   {
    "duration": 6,
    "start_time": "2023-03-13T20:52:57.967Z"
   },
   {
    "duration": 259,
    "start_time": "2023-03-13T20:52:57.974Z"
   },
   {
    "duration": 4,
    "start_time": "2023-03-13T20:52:58.236Z"
   },
   {
    "duration": 77446,
    "start_time": "2023-03-13T20:52:58.241Z"
   },
   {
    "duration": 37,
    "start_time": "2023-03-13T20:54:15.688Z"
   },
   {
    "duration": 4,
    "start_time": "2023-03-13T20:54:15.727Z"
   },
   {
    "duration": 204,
    "start_time": "2023-03-13T20:54:15.733Z"
   },
   {
    "duration": 0,
    "start_time": "2023-03-13T20:54:15.938Z"
   },
   {
    "duration": 0,
    "start_time": "2023-03-13T20:54:15.939Z"
   },
   {
    "duration": 0,
    "start_time": "2023-03-13T20:54:15.941Z"
   },
   {
    "duration": 0,
    "start_time": "2023-03-13T20:54:15.942Z"
   },
   {
    "duration": 0,
    "start_time": "2023-03-13T20:54:15.943Z"
   },
   {
    "duration": 0,
    "start_time": "2023-03-13T20:54:15.944Z"
   },
   {
    "duration": 0,
    "start_time": "2023-03-13T20:54:15.945Z"
   },
   {
    "duration": 0,
    "start_time": "2023-03-13T20:54:15.946Z"
   },
   {
    "duration": 0,
    "start_time": "2023-03-13T20:54:15.948Z"
   },
   {
    "duration": 4,
    "start_time": "2023-03-13T20:58:50.880Z"
   },
   {
    "duration": 53,
    "start_time": "2023-03-13T20:58:53.870Z"
   },
   {
    "duration": 4,
    "start_time": "2023-03-13T20:59:11.562Z"
   },
   {
    "duration": 54,
    "start_time": "2023-03-13T20:59:12.648Z"
   },
   {
    "duration": 56,
    "start_time": "2023-03-13T20:59:45.204Z"
   },
   {
    "duration": 3,
    "start_time": "2023-03-13T20:59:51.937Z"
   },
   {
    "duration": 59,
    "start_time": "2023-03-13T20:59:54.572Z"
   },
   {
    "duration": 4,
    "start_time": "2023-03-13T21:00:27.894Z"
   },
   {
    "duration": 57,
    "start_time": "2023-03-13T21:00:29.117Z"
   },
   {
    "duration": 10,
    "start_time": "2023-03-13T21:00:31.819Z"
   },
   {
    "duration": 16,
    "start_time": "2023-03-13T21:00:33.512Z"
   },
   {
    "duration": 4,
    "start_time": "2023-03-13T21:00:36.757Z"
   },
   {
    "duration": 431,
    "start_time": "2023-03-13T21:00:41.694Z"
   },
   {
    "duration": 17,
    "start_time": "2023-03-13T21:00:43.798Z"
   },
   {
    "duration": 6,
    "start_time": "2023-03-13T21:00:44.994Z"
   },
   {
    "duration": 3,
    "start_time": "2023-03-13T21:00:49.098Z"
   },
   {
    "duration": 20,
    "start_time": "2023-03-13T21:01:22.339Z"
   },
   {
    "duration": 17,
    "start_time": "2023-03-13T21:12:35.155Z"
   },
   {
    "duration": 13,
    "start_time": "2023-03-13T21:12:38.496Z"
   },
   {
    "duration": 2504,
    "start_time": "2023-03-13T21:12:54.696Z"
   },
   {
    "duration": 335,
    "start_time": "2023-03-13T21:12:57.201Z"
   },
   {
    "duration": 781,
    "start_time": "2023-03-13T21:12:57.538Z"
   },
   {
    "duration": 33,
    "start_time": "2023-03-13T21:12:58.321Z"
   },
   {
    "duration": 10,
    "start_time": "2023-03-13T21:12:58.355Z"
   },
   {
    "duration": 72,
    "start_time": "2023-03-13T21:12:58.366Z"
   },
   {
    "duration": 34,
    "start_time": "2023-03-13T21:12:58.439Z"
   },
   {
    "duration": 7,
    "start_time": "2023-03-13T21:12:58.474Z"
   },
   {
    "duration": 260,
    "start_time": "2023-03-13T21:12:58.483Z"
   },
   {
    "duration": 4,
    "start_time": "2023-03-13T21:12:58.746Z"
   },
   {
    "duration": 76461,
    "start_time": "2023-03-13T21:12:58.752Z"
   },
   {
    "duration": 30,
    "start_time": "2023-03-13T21:14:15.215Z"
   },
   {
    "duration": 4,
    "start_time": "2023-03-13T21:14:15.246Z"
   },
   {
    "duration": 69,
    "start_time": "2023-03-13T21:14:15.252Z"
   },
   {
    "duration": 9,
    "start_time": "2023-03-13T21:14:15.323Z"
   },
   {
    "duration": 16,
    "start_time": "2023-03-13T21:14:15.334Z"
   },
   {
    "duration": 4,
    "start_time": "2023-03-13T21:14:15.351Z"
   },
   {
    "duration": 449,
    "start_time": "2023-03-13T21:14:15.357Z"
   },
   {
    "duration": 1669,
    "start_time": "2023-03-13T21:14:15.808Z"
   },
   {
    "duration": 6,
    "start_time": "2023-03-13T21:14:17.479Z"
   },
   {
    "duration": 359328,
    "start_time": "2023-03-13T21:14:17.487Z"
   },
   {
    "duration": 247,
    "start_time": "2023-03-13T21:20:16.818Z"
   },
   {
    "duration": 0,
    "start_time": "2023-03-13T21:20:17.066Z"
   },
   {
    "duration": 13,
    "start_time": "2023-03-13T21:32:27.902Z"
   },
   {
    "duration": 107151,
    "start_time": "2023-03-13T21:40:44.769Z"
   },
   {
    "duration": 16,
    "start_time": "2023-03-13T21:48:23.132Z"
   },
   {
    "duration": 61812,
    "start_time": "2023-03-13T21:48:47.847Z"
   },
   {
    "duration": 119767,
    "start_time": "2023-03-13T23:11:54.770Z"
   },
   {
    "duration": 93615,
    "start_time": "2023-03-13T23:14:04.767Z"
   },
   {
    "duration": 378717,
    "start_time": "2023-03-13T23:15:43.500Z"
   },
   {
    "duration": 3,
    "start_time": "2023-03-13T23:27:18.267Z"
   },
   {
    "duration": 361349,
    "start_time": "2023-03-13T23:29:01.880Z"
   },
   {
    "duration": 4,
    "start_time": "2023-03-13T23:37:38.162Z"
   },
   {
    "duration": 13,
    "start_time": "2023-03-13T23:37:51.249Z"
   },
   {
    "duration": 13,
    "start_time": "2023-03-13T23:38:04.311Z"
   },
   {
    "duration": 459719,
    "start_time": "2023-03-13T23:38:30.608Z"
   },
   {
    "duration": 4125,
    "start_time": "2023-03-13T23:52:42.256Z"
   },
   {
    "duration": 2407,
    "start_time": "2023-03-14T00:07:10.706Z"
   },
   {
    "duration": 329,
    "start_time": "2023-03-14T00:07:13.115Z"
   },
   {
    "duration": 739,
    "start_time": "2023-03-14T00:07:13.446Z"
   },
   {
    "duration": 37,
    "start_time": "2023-03-14T00:07:14.187Z"
   },
   {
    "duration": 8,
    "start_time": "2023-03-14T00:07:14.226Z"
   },
   {
    "duration": 52,
    "start_time": "2023-03-14T00:07:14.236Z"
   },
   {
    "duration": 32,
    "start_time": "2023-03-14T00:07:14.311Z"
   },
   {
    "duration": 7,
    "start_time": "2023-03-14T00:07:14.344Z"
   },
   {
    "duration": 249,
    "start_time": "2023-03-14T00:07:14.352Z"
   },
   {
    "duration": 74366,
    "start_time": "2023-03-14T00:07:14.603Z"
   },
   {
    "duration": 30,
    "start_time": "2023-03-14T00:08:28.971Z"
   },
   {
    "duration": 4,
    "start_time": "2023-03-14T00:08:29.012Z"
   },
   {
    "duration": 56,
    "start_time": "2023-03-14T00:08:29.018Z"
   },
   {
    "duration": 9,
    "start_time": "2023-03-14T00:08:29.075Z"
   },
   {
    "duration": 29,
    "start_time": "2023-03-14T00:08:29.086Z"
   },
   {
    "duration": 5,
    "start_time": "2023-03-14T00:08:29.117Z"
   },
   {
    "duration": 433,
    "start_time": "2023-03-14T00:08:29.124Z"
   },
   {
    "duration": 1643,
    "start_time": "2023-03-14T00:08:29.559Z"
   },
   {
    "duration": 9,
    "start_time": "2023-03-14T00:08:31.204Z"
   },
   {
    "duration": 27,
    "start_time": "2023-03-14T00:08:31.215Z"
   },
   {
    "duration": 288817,
    "start_time": "2023-03-14T00:08:31.244Z"
   },
   {
    "duration": 0,
    "start_time": "2023-03-14T00:13:20.063Z"
   },
   {
    "duration": 0,
    "start_time": "2023-03-14T00:13:20.065Z"
   },
   {
    "duration": 0,
    "start_time": "2023-03-14T00:13:20.066Z"
   },
   {
    "duration": 0,
    "start_time": "2023-03-14T00:13:20.067Z"
   },
   {
    "duration": 1,
    "start_time": "2023-03-14T00:13:20.068Z"
   },
   {
    "duration": 0,
    "start_time": "2023-03-14T00:13:20.070Z"
   },
   {
    "duration": 0,
    "start_time": "2023-03-14T00:13:20.071Z"
   },
   {
    "duration": 0,
    "start_time": "2023-03-14T00:13:20.073Z"
   },
   {
    "duration": 3,
    "start_time": "2023-03-14T00:14:44.011Z"
   },
   {
    "duration": 5716,
    "start_time": "2023-03-14T00:14:46.904Z"
   },
   {
    "duration": 2497,
    "start_time": "2023-03-14T00:15:05.698Z"
   },
   {
    "duration": 405,
    "start_time": "2023-03-14T00:15:08.197Z"
   },
   {
    "duration": 740,
    "start_time": "2023-03-14T00:15:08.604Z"
   },
   {
    "duration": 32,
    "start_time": "2023-03-14T00:15:09.345Z"
   },
   {
    "duration": 8,
    "start_time": "2023-03-14T00:15:09.379Z"
   },
   {
    "duration": 67,
    "start_time": "2023-03-14T00:15:09.389Z"
   },
   {
    "duration": 32,
    "start_time": "2023-03-14T00:15:09.457Z"
   },
   {
    "duration": 23,
    "start_time": "2023-03-14T00:15:09.490Z"
   },
   {
    "duration": 229,
    "start_time": "2023-03-14T00:15:09.515Z"
   },
   {
    "duration": 72514,
    "start_time": "2023-03-14T00:15:09.746Z"
   },
   {
    "duration": 30,
    "start_time": "2023-03-14T00:16:22.262Z"
   },
   {
    "duration": 4,
    "start_time": "2023-03-14T00:16:22.293Z"
   },
   {
    "duration": 63,
    "start_time": "2023-03-14T00:16:22.299Z"
   },
   {
    "duration": 7,
    "start_time": "2023-03-14T00:16:22.365Z"
   },
   {
    "duration": 13,
    "start_time": "2023-03-14T00:16:22.374Z"
   },
   {
    "duration": 24,
    "start_time": "2023-03-14T00:16:22.389Z"
   },
   {
    "duration": 423,
    "start_time": "2023-03-14T00:16:22.414Z"
   },
   {
    "duration": 1631,
    "start_time": "2023-03-14T00:16:22.839Z"
   },
   {
    "duration": 6,
    "start_time": "2023-03-14T00:16:24.471Z"
   },
   {
    "duration": 4,
    "start_time": "2023-03-14T00:16:24.479Z"
   },
   {
    "duration": 299980,
    "start_time": "2023-03-14T00:16:24.484Z"
   },
   {
    "duration": 0,
    "start_time": "2023-03-14T00:21:24.465Z"
   },
   {
    "duration": 0,
    "start_time": "2023-03-14T00:21:24.467Z"
   },
   {
    "duration": 0,
    "start_time": "2023-03-14T00:21:24.468Z"
   },
   {
    "duration": 0,
    "start_time": "2023-03-14T00:21:24.469Z"
   },
   {
    "duration": 0,
    "start_time": "2023-03-14T00:21:24.470Z"
   },
   {
    "duration": 0,
    "start_time": "2023-03-14T00:21:24.471Z"
   },
   {
    "duration": 0,
    "start_time": "2023-03-14T00:21:24.472Z"
   },
   {
    "duration": 0,
    "start_time": "2023-03-14T00:21:24.474Z"
   },
   {
    "duration": 101390,
    "start_time": "2023-03-14T00:33:10.134Z"
   },
   {
    "duration": 100484,
    "start_time": "2023-03-14T00:51:50.001Z"
   },
   {
    "duration": 2364,
    "start_time": "2023-03-14T00:58:48.744Z"
   },
   {
    "duration": 328,
    "start_time": "2023-03-14T00:58:51.112Z"
   },
   {
    "duration": 740,
    "start_time": "2023-03-14T00:58:51.441Z"
   },
   {
    "duration": 37,
    "start_time": "2023-03-14T00:58:52.182Z"
   },
   {
    "duration": 8,
    "start_time": "2023-03-14T00:58:52.221Z"
   },
   {
    "duration": 61,
    "start_time": "2023-03-14T00:58:52.230Z"
   },
   {
    "duration": 40,
    "start_time": "2023-03-14T00:58:52.292Z"
   },
   {
    "duration": 9,
    "start_time": "2023-03-14T00:58:52.334Z"
   },
   {
    "duration": 239,
    "start_time": "2023-03-14T00:58:52.344Z"
   },
   {
    "duration": 73039,
    "start_time": "2023-03-14T00:58:52.584Z"
   },
   {
    "duration": 32,
    "start_time": "2023-03-14T01:00:05.625Z"
   },
   {
    "duration": 14,
    "start_time": "2023-03-14T01:00:05.659Z"
   },
   {
    "duration": 71,
    "start_time": "2023-03-14T01:00:05.675Z"
   },
   {
    "duration": 9,
    "start_time": "2023-03-14T01:00:05.749Z"
   },
   {
    "duration": 25,
    "start_time": "2023-03-14T01:00:05.759Z"
   },
   {
    "duration": 21,
    "start_time": "2023-03-14T01:00:05.785Z"
   },
   {
    "duration": 443,
    "start_time": "2023-03-14T01:00:05.807Z"
   },
   {
    "duration": 1675,
    "start_time": "2023-03-14T01:00:06.251Z"
   },
   {
    "duration": 6,
    "start_time": "2023-03-14T01:00:07.928Z"
   },
   {
    "duration": 11,
    "start_time": "2023-03-14T01:00:07.935Z"
   },
   {
    "duration": 278065,
    "start_time": "2023-03-14T01:00:07.947Z"
   },
   {
    "duration": 6,
    "start_time": "2023-03-14T01:04:46.014Z"
   },
   {
    "duration": 101171,
    "start_time": "2023-03-14T01:04:46.022Z"
   },
   {
    "duration": 186,
    "start_time": "2023-03-14T01:06:27.195Z"
   },
   {
    "duration": 629772,
    "start_time": "2023-03-14T01:06:27.383Z"
   },
   {
    "duration": 0,
    "start_time": "2023-03-14T01:16:57.158Z"
   },
   {
    "duration": 0,
    "start_time": "2023-03-14T01:16:57.159Z"
   },
   {
    "duration": 0,
    "start_time": "2023-03-14T01:16:57.161Z"
   },
   {
    "duration": 0,
    "start_time": "2023-03-14T01:16:57.162Z"
   },
   {
    "duration": 0,
    "start_time": "2023-03-14T01:16:57.163Z"
   },
   {
    "duration": 0,
    "start_time": "2023-03-14T01:16:57.164Z"
   },
   {
    "duration": 0,
    "start_time": "2023-03-14T01:16:57.165Z"
   },
   {
    "duration": 0,
    "start_time": "2023-03-14T01:16:57.166Z"
   },
   {
    "duration": 48932292,
    "start_time": "2023-03-14T01:18:45.935Z"
   },
   {
    "duration": 354,
    "start_time": "2023-03-14T14:54:18.229Z"
   },
   {
    "duration": 556538,
    "start_time": "2023-03-14T14:54:18.585Z"
   },
   {
    "duration": 0,
    "start_time": "2023-03-14T15:03:35.125Z"
   },
   {
    "duration": 0,
    "start_time": "2023-03-14T15:03:35.126Z"
   },
   {
    "duration": 0,
    "start_time": "2023-03-14T15:03:35.127Z"
   },
   {
    "duration": 0,
    "start_time": "2023-03-14T15:03:35.128Z"
   },
   {
    "duration": 0,
    "start_time": "2023-03-14T15:03:35.129Z"
   },
   {
    "duration": 0,
    "start_time": "2023-03-14T15:03:35.131Z"
   },
   {
    "duration": 574306,
    "start_time": "2023-03-14T15:27:06.676Z"
   },
   {
    "duration": 38,
    "start_time": "2023-03-14T15:44:43.574Z"
   },
   {
    "duration": 16,
    "start_time": "2023-03-14T15:44:45.242Z"
   },
   {
    "duration": 3,
    "start_time": "2023-03-14T15:45:26.141Z"
   },
   {
    "duration": 10,
    "start_time": "2023-03-14T15:45:29.810Z"
   },
   {
    "duration": 247,
    "start_time": "2023-03-14T15:45:40.208Z"
   },
   {
    "duration": 188,
    "start_time": "2023-03-14T15:46:39.896Z"
   },
   {
    "duration": 189,
    "start_time": "2023-03-14T15:47:25.778Z"
   },
   {
    "duration": 691,
    "start_time": "2023-03-14T15:47:33.453Z"
   },
   {
    "duration": 5,
    "start_time": "2023-03-14T15:57:20.298Z"
   },
   {
    "duration": 15,
    "start_time": "2023-03-14T15:57:33.660Z"
   },
   {
    "duration": 15,
    "start_time": "2023-03-14T15:57:40.792Z"
   },
   {
    "duration": 4,
    "start_time": "2023-03-14T15:58:18.643Z"
   },
   {
    "duration": 6,
    "start_time": "2023-03-14T15:59:57.726Z"
   },
   {
    "duration": 4,
    "start_time": "2023-03-14T15:59:59.403Z"
   },
   {
    "duration": 9,
    "start_time": "2023-03-14T16:00:00.707Z"
   },
   {
    "duration": 3,
    "start_time": "2023-03-14T16:13:36.310Z"
   },
   {
    "duration": 4,
    "start_time": "2023-03-14T16:13:53.471Z"
   },
   {
    "duration": 19,
    "start_time": "2023-03-14T20:39:59.480Z"
   },
   {
    "duration": 28646,
    "start_time": "2023-03-14T20:45:34.146Z"
   },
   {
    "duration": 107,
    "start_time": "2023-03-14T20:46:12.189Z"
   },
   {
    "duration": 12936,
    "start_time": "2023-03-14T20:46:33.794Z"
   },
   {
    "duration": 2886,
    "start_time": "2023-03-14T20:46:52.700Z"
   },
   {
    "duration": 491,
    "start_time": "2023-03-14T20:46:55.588Z"
   },
   {
    "duration": 810,
    "start_time": "2023-03-14T20:46:56.080Z"
   },
   {
    "duration": 49,
    "start_time": "2023-03-14T20:46:56.893Z"
   },
   {
    "duration": 10,
    "start_time": "2023-03-14T20:46:56.944Z"
   },
   {
    "duration": 71,
    "start_time": "2023-03-14T20:46:56.956Z"
   },
   {
    "duration": 35,
    "start_time": "2023-03-14T20:46:57.032Z"
   },
   {
    "duration": 7,
    "start_time": "2023-03-14T20:46:57.068Z"
   },
   {
    "duration": 280,
    "start_time": "2023-03-14T20:46:57.078Z"
   },
   {
    "duration": 91581,
    "start_time": "2023-03-14T20:46:57.362Z"
   },
   {
    "duration": 44,
    "start_time": "2023-03-14T20:48:28.945Z"
   },
   {
    "duration": 4,
    "start_time": "2023-03-14T20:48:28.991Z"
   },
   {
    "duration": 90,
    "start_time": "2023-03-14T20:48:28.997Z"
   },
   {
    "duration": 8,
    "start_time": "2023-03-14T20:48:29.089Z"
   },
   {
    "duration": 21,
    "start_time": "2023-03-14T20:48:29.099Z"
   },
   {
    "duration": 6,
    "start_time": "2023-03-14T20:48:29.122Z"
   },
   {
    "duration": 464,
    "start_time": "2023-03-14T20:48:29.130Z"
   },
   {
    "duration": 3,
    "start_time": "2023-03-14T20:48:29.597Z"
   },
   {
    "duration": 2024,
    "start_time": "2023-03-14T20:48:29.602Z"
   },
   {
    "duration": 12,
    "start_time": "2023-03-14T20:48:31.633Z"
   },
   {
    "duration": 650468,
    "start_time": "2023-03-14T20:48:31.647Z"
   },
   {
    "duration": 84,
    "start_time": "2023-03-14T20:59:22.129Z"
   },
   {
    "duration": 114764,
    "start_time": "2023-03-14T20:59:22.214Z"
   },
   {
    "duration": 193,
    "start_time": "2023-03-14T21:01:16.980Z"
   },
   {
    "duration": 3015030,
    "start_time": "2023-03-14T21:01:17.175Z"
   },
   {
    "duration": 0,
    "start_time": "2023-03-14T21:51:32.207Z"
   },
   {
    "duration": 0,
    "start_time": "2023-03-14T21:51:32.208Z"
   },
   {
    "duration": 0,
    "start_time": "2023-03-14T21:51:32.209Z"
   },
   {
    "duration": 0,
    "start_time": "2023-03-14T21:51:32.210Z"
   },
   {
    "duration": 0,
    "start_time": "2023-03-14T21:51:32.211Z"
   },
   {
    "duration": 0,
    "start_time": "2023-03-14T21:51:32.216Z"
   },
   {
    "duration": 0,
    "start_time": "2023-03-14T21:51:32.217Z"
   },
   {
    "duration": 0,
    "start_time": "2023-03-14T21:51:32.217Z"
   },
   {
    "duration": 0,
    "start_time": "2023-03-14T21:51:32.220Z"
   },
   {
    "duration": 0,
    "start_time": "2023-03-14T21:51:32.221Z"
   },
   {
    "duration": 0,
    "start_time": "2023-03-14T21:51:32.221Z"
   },
   {
    "duration": 0,
    "start_time": "2023-03-14T21:51:32.223Z"
   },
   {
    "duration": 9819,
    "start_time": "2023-03-14T21:52:47.939Z"
   },
   {
    "duration": 180,
    "start_time": "2023-03-14T21:53:13.392Z"
   },
   {
    "duration": 5655466,
    "start_time": "2023-03-14T21:53:13.574Z"
   },
   {
    "duration": 346,
    "start_time": "2023-03-14T23:27:29.042Z"
   },
   {
    "duration": 25530,
    "start_time": "2023-03-14T23:27:29.390Z"
   },
   {
    "duration": 90,
    "start_time": "2023-03-14T23:27:54.922Z"
   },
   {
    "duration": 4,
    "start_time": "2023-03-14T23:27:55.014Z"
   },
   {
    "duration": 26,
    "start_time": "2023-03-14T23:27:55.020Z"
   },
   {
    "duration": 236,
    "start_time": "2023-03-14T23:27:55.048Z"
   },
   {
    "duration": 5,
    "start_time": "2023-03-14T23:27:55.286Z"
   },
   {
    "duration": 21,
    "start_time": "2023-03-14T23:27:55.295Z"
   },
   {
    "duration": 7,
    "start_time": "2023-03-14T23:27:55.318Z"
   },
   {
    "duration": 5,
    "start_time": "2023-03-14T23:27:55.327Z"
   },
   {
    "duration": 167,
    "start_time": "2023-03-14T23:27:55.333Z"
   },
   {
    "duration": 13,
    "start_time": "2023-03-14T23:27:55.502Z"
   },
   {
    "duration": 164,
    "start_time": "2023-03-14T23:46:38.053Z"
   },
   {
    "duration": 129,
    "start_time": "2023-03-14T23:46:46.494Z"
   },
   {
    "duration": 143,
    "start_time": "2023-03-14T23:46:56.249Z"
   },
   {
    "duration": 178,
    "start_time": "2023-03-14T23:47:09.539Z"
   },
   {
    "duration": 127,
    "start_time": "2023-03-14T23:47:25.420Z"
   },
   {
    "duration": 132,
    "start_time": "2023-03-14T23:47:36.131Z"
   },
   {
    "duration": 10,
    "start_time": "2023-03-15T00:02:38.342Z"
   },
   {
    "duration": 145,
    "start_time": "2023-03-15T00:05:08.594Z"
   },
   {
    "duration": 7,
    "start_time": "2023-03-15T00:05:10.713Z"
   },
   {
    "duration": 147,
    "start_time": "2023-03-15T00:05:32.961Z"
   },
   {
    "duration": 9,
    "start_time": "2023-03-15T00:05:44.676Z"
   },
   {
    "duration": 3,
    "start_time": "2023-03-15T00:07:07.972Z"
   },
   {
    "duration": 9,
    "start_time": "2023-03-15T00:08:02.287Z"
   },
   {
    "duration": 8,
    "start_time": "2023-03-15T00:08:54.053Z"
   },
   {
    "duration": 10,
    "start_time": "2023-03-15T00:09:01.022Z"
   },
   {
    "duration": 146,
    "start_time": "2023-03-15T00:09:23.058Z"
   },
   {
    "duration": 12,
    "start_time": "2023-03-15T00:09:25.526Z"
   },
   {
    "duration": 2,
    "start_time": "2023-03-15T00:09:56.755Z"
   },
   {
    "duration": 9,
    "start_time": "2023-03-15T00:09:58.198Z"
   },
   {
    "duration": 198,
    "start_time": "2023-03-15T00:10:22.744Z"
   },
   {
    "duration": 75,
    "start_time": "2023-03-15T00:12:24.761Z"
   },
   {
    "duration": 69,
    "start_time": "2023-03-15T00:14:58.165Z"
   },
   {
    "duration": 139,
    "start_time": "2023-03-15T00:15:09.283Z"
   },
   {
    "duration": 115,
    "start_time": "2023-03-15T00:15:50.706Z"
   },
   {
    "duration": 119,
    "start_time": "2023-03-15T00:15:56.096Z"
   },
   {
    "duration": 132,
    "start_time": "2023-03-15T00:17:10.672Z"
   },
   {
    "duration": 139,
    "start_time": "2023-03-15T00:17:34.180Z"
   },
   {
    "duration": 115,
    "start_time": "2023-03-15T00:20:36.163Z"
   },
   {
    "duration": 92,
    "start_time": "2023-03-15T00:21:08.013Z"
   },
   {
    "duration": 119,
    "start_time": "2023-03-15T00:22:11.148Z"
   },
   {
    "duration": 143,
    "start_time": "2023-03-15T00:24:17.589Z"
   },
   {
    "duration": 144,
    "start_time": "2023-03-15T00:24:33.020Z"
   },
   {
    "duration": 235,
    "start_time": "2023-03-15T00:25:59.350Z"
   },
   {
    "duration": 130,
    "start_time": "2023-03-15T00:26:59.957Z"
   },
   {
    "duration": 129,
    "start_time": "2023-03-15T00:27:04.245Z"
   },
   {
    "duration": 2874,
    "start_time": "2023-03-15T00:27:47.489Z"
   },
   {
    "duration": 736,
    "start_time": "2023-03-15T00:27:50.365Z"
   },
   {
    "duration": 36,
    "start_time": "2023-03-15T00:27:51.103Z"
   },
   {
    "duration": 13,
    "start_time": "2023-03-15T00:27:51.141Z"
   },
   {
    "duration": 67,
    "start_time": "2023-03-15T00:27:51.155Z"
   },
   {
    "duration": 34,
    "start_time": "2023-03-15T00:27:51.224Z"
   },
   {
    "duration": 8,
    "start_time": "2023-03-15T00:27:51.260Z"
   },
   {
    "duration": 143,
    "start_time": "2023-03-15T00:27:51.270Z"
   },
   {
    "duration": 72545,
    "start_time": "2023-03-15T00:27:51.415Z"
   },
   {
    "duration": 29,
    "start_time": "2023-03-15T00:29:03.963Z"
   },
   {
    "duration": 3,
    "start_time": "2023-03-15T00:29:03.994Z"
   },
   {
    "duration": 69,
    "start_time": "2023-03-15T00:29:04.011Z"
   },
   {
    "duration": 11,
    "start_time": "2023-03-15T00:29:04.082Z"
   },
   {
    "duration": 27,
    "start_time": "2023-03-15T00:29:04.095Z"
   },
   {
    "duration": 9,
    "start_time": "2023-03-15T00:29:04.124Z"
   },
   {
    "duration": 427,
    "start_time": "2023-03-15T00:29:04.134Z"
   },
   {
    "duration": 4,
    "start_time": "2023-03-15T00:29:04.563Z"
   },
   {
    "duration": 1598,
    "start_time": "2023-03-15T00:29:04.569Z"
   },
   {
    "duration": 2,
    "start_time": "2023-03-15T00:29:06.169Z"
   },
   {
    "duration": 321947,
    "start_time": "2023-03-15T00:29:06.173Z"
   },
   {
    "duration": 91,
    "start_time": "2023-03-15T00:34:28.122Z"
   },
   {
    "duration": 101828,
    "start_time": "2023-03-15T00:34:28.215Z"
   },
   {
    "duration": 185,
    "start_time": "2023-03-15T00:36:10.044Z"
   },
   {
    "duration": 5288581,
    "start_time": "2023-03-15T00:36:10.231Z"
   },
   {
    "duration": 347,
    "start_time": "2023-03-15T02:04:18.813Z"
   },
   {
    "duration": 22071,
    "start_time": "2023-03-15T02:04:19.162Z"
   },
   {
    "duration": 78,
    "start_time": "2023-03-15T02:04:41.236Z"
   },
   {
    "duration": 3,
    "start_time": "2023-03-15T02:04:41.317Z"
   },
   {
    "duration": 11,
    "start_time": "2023-03-15T02:04:41.322Z"
   },
   {
    "duration": 167,
    "start_time": "2023-03-15T02:04:41.334Z"
   },
   {
    "duration": 155,
    "start_time": "2023-03-15T02:04:41.503Z"
   },
   {
    "duration": 9,
    "start_time": "2023-03-15T02:04:41.659Z"
   },
   {
    "duration": 3,
    "start_time": "2023-03-15T02:04:41.669Z"
   },
   {
    "duration": 10,
    "start_time": "2023-03-15T02:04:41.673Z"
   },
   {
    "duration": 229,
    "start_time": "2023-03-15T02:04:41.685Z"
   },
   {
    "duration": 45,
    "start_time": "2023-03-15T19:52:31.780Z"
   },
   {
    "duration": 3070,
    "start_time": "2023-03-15T19:52:38.632Z"
   },
   {
    "duration": 3876,
    "start_time": "2023-03-15T19:52:41.704Z"
   },
   {
    "duration": 36,
    "start_time": "2023-03-15T19:52:45.582Z"
   },
   {
    "duration": 12,
    "start_time": "2023-03-15T19:52:45.620Z"
   },
   {
    "duration": 55,
    "start_time": "2023-03-15T19:52:45.633Z"
   },
   {
    "duration": 47,
    "start_time": "2023-03-15T19:52:45.690Z"
   },
   {
    "duration": 7,
    "start_time": "2023-03-15T19:52:45.739Z"
   },
   {
    "duration": 147,
    "start_time": "2023-03-15T19:52:45.748Z"
   },
   {
    "duration": 77969,
    "start_time": "2023-03-15T19:52:45.897Z"
   },
   {
    "duration": 31,
    "start_time": "2023-03-15T19:54:03.869Z"
   },
   {
    "duration": 34,
    "start_time": "2023-03-15T19:54:03.902Z"
   },
   {
    "duration": 34,
    "start_time": "2023-03-15T19:54:14.141Z"
   },
   {
    "duration": 5,
    "start_time": "2023-03-15T19:55:44.010Z"
   },
   {
    "duration": 133,
    "start_time": "2023-03-15T19:55:45.299Z"
   },
   {
    "duration": 42,
    "start_time": "2023-03-15T19:56:04.893Z"
   },
   {
    "duration": 29,
    "start_time": "2023-03-15T19:56:22.564Z"
   },
   {
    "duration": 3,
    "start_time": "2023-03-15T19:56:25.124Z"
   },
   {
    "duration": 15,
    "start_time": "2023-03-15T19:56:34.121Z"
   },
   {
    "duration": 8,
    "start_time": "2023-03-15T19:57:14.505Z"
   },
   {
    "duration": 10,
    "start_time": "2023-03-15T19:57:18.059Z"
   },
   {
    "duration": 17,
    "start_time": "2023-03-15T19:58:37.408Z"
   },
   {
    "duration": 15,
    "start_time": "2023-03-15T19:58:55.273Z"
   },
   {
    "duration": 6,
    "start_time": "2023-03-15T20:00:15.702Z"
   },
   {
    "duration": 778,
    "start_time": "2023-03-15T20:00:15.711Z"
   },
   {
    "duration": 37,
    "start_time": "2023-03-15T20:00:16.491Z"
   },
   {
    "duration": 7,
    "start_time": "2023-03-15T20:00:16.529Z"
   },
   {
    "duration": 55,
    "start_time": "2023-03-15T20:00:16.538Z"
   },
   {
    "duration": 31,
    "start_time": "2023-03-15T20:00:16.612Z"
   },
   {
    "duration": 7,
    "start_time": "2023-03-15T20:00:16.645Z"
   },
   {
    "duration": 136,
    "start_time": "2023-03-15T20:00:16.654Z"
   },
   {
    "duration": 76161,
    "start_time": "2023-03-15T20:00:16.792Z"
   },
   {
    "duration": 39,
    "start_time": "2023-03-15T20:01:32.954Z"
   },
   {
    "duration": 33,
    "start_time": "2023-03-15T20:01:32.996Z"
   },
   {
    "duration": 28,
    "start_time": "2023-03-15T20:01:33.031Z"
   },
   {
    "duration": 4,
    "start_time": "2023-03-15T20:01:33.061Z"
   },
   {
    "duration": 69,
    "start_time": "2023-03-15T20:01:33.067Z"
   },
   {
    "duration": 27,
    "start_time": "2023-03-15T20:01:33.137Z"
   },
   {
    "duration": 4,
    "start_time": "2023-03-15T20:01:33.166Z"
   },
   {
    "duration": 1595,
    "start_time": "2023-03-15T20:01:33.171Z"
   },
   {
    "duration": 3,
    "start_time": "2023-03-15T20:06:00.754Z"
   },
   {
    "duration": 43,
    "start_time": "2023-03-15T20:06:20.812Z"
   },
   {
    "duration": 2999,
    "start_time": "2023-03-15T20:06:39.908Z"
   },
   {
    "duration": 4061,
    "start_time": "2023-03-15T20:06:42.908Z"
   },
   {
    "duration": 35,
    "start_time": "2023-03-15T20:06:46.971Z"
   },
   {
    "duration": 19,
    "start_time": "2023-03-15T20:06:47.007Z"
   },
   {
    "duration": 72,
    "start_time": "2023-03-15T20:06:47.028Z"
   },
   {
    "duration": 32,
    "start_time": "2023-03-15T20:06:47.102Z"
   },
   {
    "duration": 6,
    "start_time": "2023-03-15T20:06:47.136Z"
   },
   {
    "duration": 152,
    "start_time": "2023-03-15T20:06:47.143Z"
   },
   {
    "duration": 80408,
    "start_time": "2023-03-15T20:06:47.297Z"
   },
   {
    "duration": 34,
    "start_time": "2023-03-15T20:08:07.707Z"
   },
   {
    "duration": 26,
    "start_time": "2023-03-15T20:08:07.742Z"
   },
   {
    "duration": 52,
    "start_time": "2023-03-15T20:08:07.770Z"
   },
   {
    "duration": 9,
    "start_time": "2023-03-15T20:08:07.824Z"
   },
   {
    "duration": 39,
    "start_time": "2023-03-15T20:08:07.835Z"
   },
   {
    "duration": 25,
    "start_time": "2023-03-15T20:08:07.875Z"
   },
   {
    "duration": 20,
    "start_time": "2023-03-15T20:08:07.901Z"
   },
   {
    "duration": 9,
    "start_time": "2023-03-15T20:08:07.923Z"
   },
   {
    "duration": 28,
    "start_time": "2023-03-15T20:08:07.933Z"
   },
   {
    "duration": 8,
    "start_time": "2023-03-15T20:08:07.962Z"
   },
   {
    "duration": 7,
    "start_time": "2023-03-15T20:08:23.100Z"
   },
   {
    "duration": 6,
    "start_time": "2023-03-15T20:30:07.143Z"
   },
   {
    "duration": 762,
    "start_time": "2023-03-15T20:30:07.150Z"
   },
   {
    "duration": 32,
    "start_time": "2023-03-15T20:30:07.914Z"
   },
   {
    "duration": 7,
    "start_time": "2023-03-15T20:30:07.947Z"
   },
   {
    "duration": 73,
    "start_time": "2023-03-15T20:30:07.955Z"
   },
   {
    "duration": 31,
    "start_time": "2023-03-15T20:30:08.030Z"
   },
   {
    "duration": 6,
    "start_time": "2023-03-15T20:30:08.063Z"
   },
   {
    "duration": 139,
    "start_time": "2023-03-15T20:30:08.070Z"
   },
   {
    "duration": 74766,
    "start_time": "2023-03-15T20:30:08.212Z"
   },
   {
    "duration": 43,
    "start_time": "2023-03-15T20:31:22.979Z"
   },
   {
    "duration": 4,
    "start_time": "2023-03-15T20:31:23.024Z"
   },
   {
    "duration": 21,
    "start_time": "2023-03-15T20:31:23.030Z"
   },
   {
    "duration": 28,
    "start_time": "2023-03-15T20:31:23.054Z"
   },
   {
    "duration": 51,
    "start_time": "2023-03-15T20:31:23.084Z"
   },
   {
    "duration": 56,
    "start_time": "2023-03-15T20:32:33.513Z"
   },
   {
    "duration": 3,
    "start_time": "2023-03-15T20:32:36.047Z"
   },
   {
    "duration": 10,
    "start_time": "2023-03-15T20:32:38.811Z"
   },
   {
    "duration": 3,
    "start_time": "2023-03-15T20:33:03.151Z"
   },
   {
    "duration": 3,
    "start_time": "2023-03-15T20:33:37.977Z"
   },
   {
    "duration": 128,
    "start_time": "2023-03-15T20:34:10.970Z"
   },
   {
    "duration": 5,
    "start_time": "2023-03-15T20:34:16.934Z"
   },
   {
    "duration": 742,
    "start_time": "2023-03-15T20:34:16.941Z"
   },
   {
    "duration": 34,
    "start_time": "2023-03-15T20:34:17.685Z"
   },
   {
    "duration": 6,
    "start_time": "2023-03-15T20:34:17.721Z"
   },
   {
    "duration": 57,
    "start_time": "2023-03-15T20:34:17.729Z"
   },
   {
    "duration": 47,
    "start_time": "2023-03-15T20:34:17.788Z"
   },
   {
    "duration": 7,
    "start_time": "2023-03-15T20:34:17.836Z"
   },
   {
    "duration": 136,
    "start_time": "2023-03-15T20:34:17.845Z"
   },
   {
    "duration": 74184,
    "start_time": "2023-03-15T20:34:17.983Z"
   },
   {
    "duration": 32,
    "start_time": "2023-03-15T20:35:32.169Z"
   },
   {
    "duration": 4,
    "start_time": "2023-03-15T20:35:32.211Z"
   },
   {
    "duration": 23,
    "start_time": "2023-03-15T20:35:32.217Z"
   },
   {
    "duration": 27,
    "start_time": "2023-03-15T20:35:32.242Z"
   },
   {
    "duration": 31,
    "start_time": "2023-03-15T20:35:32.270Z"
   },
   {
    "duration": 53,
    "start_time": "2023-03-15T20:35:32.313Z"
   },
   {
    "duration": 3,
    "start_time": "2023-03-15T20:35:32.368Z"
   },
   {
    "duration": 12273,
    "start_time": "2023-03-15T20:35:32.373Z"
   },
   {
    "duration": 3,
    "start_time": "2023-03-15T20:35:48.278Z"
   },
   {
    "duration": 18,
    "start_time": "2023-03-15T20:36:18.129Z"
   },
   {
    "duration": 13,
    "start_time": "2023-03-15T20:38:09.726Z"
   },
   {
    "duration": 5,
    "start_time": "2023-03-15T20:38:16.981Z"
   },
   {
    "duration": 766,
    "start_time": "2023-03-15T20:38:16.988Z"
   },
   {
    "duration": 32,
    "start_time": "2023-03-15T20:38:17.756Z"
   },
   {
    "duration": 22,
    "start_time": "2023-03-15T20:38:17.790Z"
   },
   {
    "duration": 55,
    "start_time": "2023-03-15T20:38:17.814Z"
   },
   {
    "duration": 48,
    "start_time": "2023-03-15T20:38:17.870Z"
   },
   {
    "duration": 7,
    "start_time": "2023-03-15T20:38:17.919Z"
   },
   {
    "duration": 140,
    "start_time": "2023-03-15T20:38:17.927Z"
   },
   {
    "duration": 74457,
    "start_time": "2023-03-15T20:38:18.070Z"
   },
   {
    "duration": 31,
    "start_time": "2023-03-15T20:39:32.529Z"
   },
   {
    "duration": 4,
    "start_time": "2023-03-15T20:39:32.561Z"
   },
   {
    "duration": 21,
    "start_time": "2023-03-15T20:39:32.567Z"
   },
   {
    "duration": 37,
    "start_time": "2023-03-15T20:39:32.591Z"
   },
   {
    "duration": 28,
    "start_time": "2023-03-15T20:39:32.630Z"
   },
   {
    "duration": 67,
    "start_time": "2023-03-15T20:39:32.661Z"
   },
   {
    "duration": 4,
    "start_time": "2023-03-15T20:39:32.729Z"
   },
   {
    "duration": 28,
    "start_time": "2023-03-15T20:39:32.734Z"
   },
   {
    "duration": 42,
    "start_time": "2023-03-15T20:40:02.847Z"
   },
   {
    "duration": 5,
    "start_time": "2023-03-15T20:40:14.426Z"
   },
   {
    "duration": 722,
    "start_time": "2023-03-15T20:40:14.432Z"
   },
   {
    "duration": 33,
    "start_time": "2023-03-15T20:40:15.155Z"
   },
   {
    "duration": 7,
    "start_time": "2023-03-15T20:40:15.190Z"
   },
   {
    "duration": 64,
    "start_time": "2023-03-15T20:40:15.199Z"
   },
   {
    "duration": 49,
    "start_time": "2023-03-15T20:40:15.264Z"
   },
   {
    "duration": 8,
    "start_time": "2023-03-15T20:40:15.315Z"
   },
   {
    "duration": 139,
    "start_time": "2023-03-15T20:40:15.325Z"
   },
   {
    "duration": 74696,
    "start_time": "2023-03-15T20:40:15.466Z"
   },
   {
    "duration": 32,
    "start_time": "2023-03-15T20:41:30.163Z"
   },
   {
    "duration": 16,
    "start_time": "2023-03-15T20:41:30.196Z"
   },
   {
    "duration": 59,
    "start_time": "2023-03-15T20:41:30.214Z"
   },
   {
    "duration": 47,
    "start_time": "2023-03-15T20:41:30.275Z"
   },
   {
    "duration": 49,
    "start_time": "2023-03-15T20:41:30.324Z"
   },
   {
    "duration": 47,
    "start_time": "2023-03-15T20:41:30.376Z"
   },
   {
    "duration": 22,
    "start_time": "2023-03-15T20:41:30.425Z"
   },
   {
    "duration": 45,
    "start_time": "2023-03-15T20:41:30.449Z"
   },
   {
    "duration": 3,
    "start_time": "2023-03-15T20:42:26.030Z"
   },
   {
    "duration": 14,
    "start_time": "2023-03-15T20:42:58.478Z"
   },
   {
    "duration": 2830,
    "start_time": "2023-03-15T20:43:18.489Z"
   },
   {
    "duration": 762,
    "start_time": "2023-03-15T20:43:21.320Z"
   },
   {
    "duration": 38,
    "start_time": "2023-03-15T20:43:22.084Z"
   },
   {
    "duration": 9,
    "start_time": "2023-03-15T20:43:22.124Z"
   },
   {
    "duration": 52,
    "start_time": "2023-03-15T20:43:22.135Z"
   },
   {
    "duration": 48,
    "start_time": "2023-03-15T20:43:22.188Z"
   },
   {
    "duration": 6,
    "start_time": "2023-03-15T20:43:22.238Z"
   },
   {
    "duration": 148,
    "start_time": "2023-03-15T20:43:22.245Z"
   },
   {
    "duration": 76101,
    "start_time": "2023-03-15T20:43:22.395Z"
   },
   {
    "duration": 34,
    "start_time": "2023-03-15T20:44:38.498Z"
   },
   {
    "duration": 4,
    "start_time": "2023-03-15T20:44:38.533Z"
   },
   {
    "duration": 8,
    "start_time": "2023-03-15T20:44:38.539Z"
   },
   {
    "duration": 27,
    "start_time": "2023-03-15T20:44:38.548Z"
   },
   {
    "duration": 40,
    "start_time": "2023-03-15T20:44:38.577Z"
   },
   {
    "duration": 44,
    "start_time": "2023-03-15T20:44:38.619Z"
   },
   {
    "duration": 3,
    "start_time": "2023-03-15T20:44:38.665Z"
   },
   {
    "duration": 12525,
    "start_time": "2023-03-15T20:44:38.670Z"
   },
   {
    "duration": 3,
    "start_time": "2023-03-15T20:44:51.197Z"
   },
   {
    "duration": 169,
    "start_time": "2023-03-15T20:45:33.473Z"
   },
   {
    "duration": 14,
    "start_time": "2023-03-15T20:53:54.054Z"
   },
   {
    "duration": 12,
    "start_time": "2023-03-15T20:54:26.354Z"
   },
   {
    "duration": 13,
    "start_time": "2023-03-15T20:54:50.205Z"
   },
   {
    "duration": 5,
    "start_time": "2023-03-15T20:55:22.452Z"
   },
   {
    "duration": 759,
    "start_time": "2023-03-15T20:55:22.459Z"
   },
   {
    "duration": 32,
    "start_time": "2023-03-15T20:55:23.220Z"
   },
   {
    "duration": 6,
    "start_time": "2023-03-15T20:55:23.254Z"
   },
   {
    "duration": 69,
    "start_time": "2023-03-15T20:55:23.261Z"
   },
   {
    "duration": 31,
    "start_time": "2023-03-15T20:55:23.332Z"
   },
   {
    "duration": 7,
    "start_time": "2023-03-15T20:55:23.364Z"
   },
   {
    "duration": 134,
    "start_time": "2023-03-15T20:55:23.372Z"
   },
   {
    "duration": 74688,
    "start_time": "2023-03-15T20:55:23.511Z"
   },
   {
    "duration": 34,
    "start_time": "2023-03-15T20:56:38.201Z"
   },
   {
    "duration": 4,
    "start_time": "2023-03-15T20:56:38.236Z"
   },
   {
    "duration": 17,
    "start_time": "2023-03-15T20:56:38.242Z"
   },
   {
    "duration": 22,
    "start_time": "2023-03-15T20:56:38.260Z"
   },
   {
    "duration": 29,
    "start_time": "2023-03-15T20:56:38.283Z"
   },
   {
    "duration": 39,
    "start_time": "2023-03-15T20:56:38.314Z"
   },
   {
    "duration": 0,
    "start_time": "2023-03-15T20:56:38.354Z"
   },
   {
    "duration": 0,
    "start_time": "2023-03-15T20:56:38.356Z"
   },
   {
    "duration": 0,
    "start_time": "2023-03-15T20:56:38.357Z"
   },
   {
    "duration": 0,
    "start_time": "2023-03-15T20:56:38.359Z"
   },
   {
    "duration": 0,
    "start_time": "2023-03-15T20:56:38.359Z"
   },
   {
    "duration": 0,
    "start_time": "2023-03-15T20:56:38.361Z"
   },
   {
    "duration": 0,
    "start_time": "2023-03-15T20:56:38.362Z"
   },
   {
    "duration": 0,
    "start_time": "2023-03-15T20:56:38.363Z"
   },
   {
    "duration": 0,
    "start_time": "2023-03-15T20:56:38.364Z"
   },
   {
    "duration": 0,
    "start_time": "2023-03-15T20:56:38.365Z"
   },
   {
    "duration": 0,
    "start_time": "2023-03-15T20:56:38.366Z"
   },
   {
    "duration": 0,
    "start_time": "2023-03-15T20:56:38.367Z"
   },
   {
    "duration": 0,
    "start_time": "2023-03-15T20:56:38.368Z"
   },
   {
    "duration": 0,
    "start_time": "2023-03-15T20:56:38.369Z"
   },
   {
    "duration": 0,
    "start_time": "2023-03-15T20:56:38.370Z"
   },
   {
    "duration": 0,
    "start_time": "2023-03-15T20:56:38.371Z"
   },
   {
    "duration": 0,
    "start_time": "2023-03-15T20:56:38.372Z"
   },
   {
    "duration": 0,
    "start_time": "2023-03-15T20:56:38.411Z"
   },
   {
    "duration": 0,
    "start_time": "2023-03-15T20:56:38.412Z"
   },
   {
    "duration": 0,
    "start_time": "2023-03-15T20:56:38.413Z"
   },
   {
    "duration": 12847,
    "start_time": "2023-03-15T20:58:37.181Z"
   },
   {
    "duration": 3,
    "start_time": "2023-03-15T20:59:00.382Z"
   },
   {
    "duration": 15,
    "start_time": "2023-03-15T20:59:04.356Z"
   },
   {
    "duration": 9623,
    "start_time": "2023-03-16T18:41:53.114Z"
   },
   {
    "duration": 1224,
    "start_time": "2023-03-16T18:42:02.739Z"
   },
   {
    "duration": 34,
    "start_time": "2023-03-16T18:42:03.966Z"
   },
   {
    "duration": 11,
    "start_time": "2023-03-16T18:42:04.003Z"
   },
   {
    "duration": 64,
    "start_time": "2023-03-16T18:42:04.015Z"
   },
   {
    "duration": 32,
    "start_time": "2023-03-16T18:42:04.081Z"
   },
   {
    "duration": 10,
    "start_time": "2023-03-16T18:42:04.115Z"
   },
   {
    "duration": 163,
    "start_time": "2023-03-16T18:42:04.127Z"
   },
   {
    "duration": 90624,
    "start_time": "2023-03-16T18:42:04.292Z"
   },
   {
    "duration": 31,
    "start_time": "2023-03-16T18:43:34.918Z"
   },
   {
    "duration": 5,
    "start_time": "2023-03-16T18:43:34.951Z"
   },
   {
    "duration": 36,
    "start_time": "2023-03-16T18:43:34.958Z"
   },
   {
    "duration": 54,
    "start_time": "2023-03-16T18:43:34.995Z"
   },
   {
    "duration": 19,
    "start_time": "2023-03-16T18:43:35.051Z"
   },
   {
    "duration": 225,
    "start_time": "2023-03-16T18:43:35.072Z"
   },
   {
    "duration": 0,
    "start_time": "2023-03-16T18:43:35.299Z"
   },
   {
    "duration": 5926,
    "start_time": "2023-03-16T18:44:07.241Z"
   },
   {
    "duration": 7,
    "start_time": "2023-03-16T18:44:16.415Z"
   },
   {
    "duration": 61,
    "start_time": "2023-03-16T18:45:17.323Z"
   },
   {
    "duration": 6,
    "start_time": "2023-03-16T18:45:37.690Z"
   },
   {
    "duration": 902,
    "start_time": "2023-03-16T18:45:37.699Z"
   },
   {
    "duration": 35,
    "start_time": "2023-03-16T18:45:38.603Z"
   },
   {
    "duration": 10,
    "start_time": "2023-03-16T18:45:38.641Z"
   },
   {
    "duration": 84,
    "start_time": "2023-03-16T18:45:38.653Z"
   },
   {
    "duration": 53,
    "start_time": "2023-03-16T18:45:38.739Z"
   },
   {
    "duration": 10,
    "start_time": "2023-03-16T18:45:38.795Z"
   },
   {
    "duration": 244,
    "start_time": "2023-03-16T18:45:38.807Z"
   },
   {
    "duration": 89938,
    "start_time": "2023-03-16T18:45:39.056Z"
   },
   {
    "duration": 40,
    "start_time": "2023-03-16T18:47:08.996Z"
   },
   {
    "duration": 5,
    "start_time": "2023-03-16T18:47:09.040Z"
   },
   {
    "duration": 24,
    "start_time": "2023-03-16T18:47:09.047Z"
   },
   {
    "duration": 27,
    "start_time": "2023-03-16T18:47:09.076Z"
   },
   {
    "duration": 33,
    "start_time": "2023-03-16T18:47:09.105Z"
   },
   {
    "duration": 4,
    "start_time": "2023-03-16T18:47:09.140Z"
   },
   {
    "duration": 5892,
    "start_time": "2023-03-16T18:47:09.146Z"
   },
   {
    "duration": 61,
    "start_time": "2023-03-16T18:47:15.040Z"
   },
   {
    "duration": 0,
    "start_time": "2023-03-16T18:47:15.103Z"
   },
   {
    "duration": 6,
    "start_time": "2023-03-16T18:48:43.170Z"
   },
   {
    "duration": 840,
    "start_time": "2023-03-16T18:48:43.185Z"
   },
   {
    "duration": 31,
    "start_time": "2023-03-16T18:48:44.028Z"
   },
   {
    "duration": 20,
    "start_time": "2023-03-16T18:48:44.060Z"
   },
   {
    "duration": 57,
    "start_time": "2023-03-16T18:48:44.082Z"
   },
   {
    "duration": 51,
    "start_time": "2023-03-16T18:48:44.142Z"
   },
   {
    "duration": 8,
    "start_time": "2023-03-16T18:48:44.195Z"
   },
   {
    "duration": 172,
    "start_time": "2023-03-16T18:48:44.205Z"
   },
   {
    "duration": 89829,
    "start_time": "2023-03-16T18:48:44.387Z"
   },
   {
    "duration": 39,
    "start_time": "2023-03-16T18:50:14.217Z"
   },
   {
    "duration": 5,
    "start_time": "2023-03-16T18:50:14.259Z"
   },
   {
    "duration": 3,
    "start_time": "2023-03-16T18:50:14.278Z"
   },
   {
    "duration": 31,
    "start_time": "2023-03-16T18:50:14.283Z"
   },
   {
    "duration": 64,
    "start_time": "2023-03-16T18:50:14.316Z"
   },
   {
    "duration": 2,
    "start_time": "2023-03-16T18:50:14.383Z"
   },
   {
    "duration": 57,
    "start_time": "2023-03-16T18:50:14.387Z"
   },
   {
    "duration": 0,
    "start_time": "2023-03-16T18:50:14.445Z"
   },
   {
    "duration": 0,
    "start_time": "2023-03-16T18:50:14.447Z"
   },
   {
    "duration": 6,
    "start_time": "2023-03-16T18:53:05.013Z"
   },
   {
    "duration": 867,
    "start_time": "2023-03-16T18:53:05.021Z"
   },
   {
    "duration": 33,
    "start_time": "2023-03-16T18:53:05.891Z"
   },
   {
    "duration": 9,
    "start_time": "2023-03-16T18:53:05.927Z"
   },
   {
    "duration": 86,
    "start_time": "2023-03-16T18:53:05.938Z"
   },
   {
    "duration": 34,
    "start_time": "2023-03-16T18:53:06.026Z"
   },
   {
    "duration": 22,
    "start_time": "2023-03-16T18:53:06.062Z"
   },
   {
    "duration": 150,
    "start_time": "2023-03-16T18:53:06.086Z"
   },
   {
    "duration": 90245,
    "start_time": "2023-03-16T18:53:06.242Z"
   },
   {
    "duration": 32,
    "start_time": "2023-03-16T18:54:36.489Z"
   },
   {
    "duration": 31,
    "start_time": "2023-03-16T18:54:36.523Z"
   },
   {
    "duration": 47,
    "start_time": "2023-03-16T18:54:36.556Z"
   },
   {
    "duration": 5,
    "start_time": "2023-03-16T18:54:36.605Z"
   },
   {
    "duration": 66,
    "start_time": "2023-03-16T18:54:36.612Z"
   },
   {
    "duration": 4,
    "start_time": "2023-03-16T18:54:36.680Z"
   },
   {
    "duration": 9,
    "start_time": "2023-03-16T18:54:36.686Z"
   },
   {
    "duration": 33,
    "start_time": "2023-03-16T18:54:36.697Z"
   },
   {
    "duration": 10,
    "start_time": "2023-03-16T18:54:36.732Z"
   },
   {
    "duration": 6,
    "start_time": "2023-03-16T18:56:09.782Z"
   },
   {
    "duration": 908,
    "start_time": "2023-03-16T18:56:09.790Z"
   },
   {
    "duration": 34,
    "start_time": "2023-03-16T18:56:10.700Z"
   },
   {
    "duration": 23,
    "start_time": "2023-03-16T18:56:10.736Z"
   },
   {
    "duration": 74,
    "start_time": "2023-03-16T18:56:10.761Z"
   },
   {
    "duration": 50,
    "start_time": "2023-03-16T18:56:10.838Z"
   },
   {
    "duration": 9,
    "start_time": "2023-03-16T18:56:10.890Z"
   },
   {
    "duration": 164,
    "start_time": "2023-03-16T18:56:10.901Z"
   },
   {
    "duration": 89330,
    "start_time": "2023-03-16T18:56:11.068Z"
   },
   {
    "duration": 56,
    "start_time": "2023-03-16T18:57:40.400Z"
   },
   {
    "duration": 6,
    "start_time": "2023-03-16T18:57:40.459Z"
   },
   {
    "duration": 4,
    "start_time": "2023-03-16T18:57:40.477Z"
   },
   {
    "duration": 44,
    "start_time": "2023-03-16T18:57:40.484Z"
   },
   {
    "duration": 27,
    "start_time": "2023-03-16T18:57:40.530Z"
   },
   {
    "duration": 59,
    "start_time": "2023-03-16T18:57:40.560Z"
   },
   {
    "duration": 0,
    "start_time": "2023-03-16T18:57:40.622Z"
   },
   {
    "duration": 0,
    "start_time": "2023-03-16T18:57:40.624Z"
   },
   {
    "duration": 7,
    "start_time": "2023-03-16T19:02:27.497Z"
   },
   {
    "duration": 897,
    "start_time": "2023-03-16T19:02:27.506Z"
   },
   {
    "duration": 33,
    "start_time": "2023-03-16T19:02:28.405Z"
   },
   {
    "duration": 14,
    "start_time": "2023-03-16T19:02:28.440Z"
   },
   {
    "duration": 77,
    "start_time": "2023-03-16T19:02:28.456Z"
   },
   {
    "duration": 54,
    "start_time": "2023-03-16T19:02:28.535Z"
   },
   {
    "duration": 25,
    "start_time": "2023-03-16T19:02:28.591Z"
   },
   {
    "duration": 161,
    "start_time": "2023-03-16T19:02:28.618Z"
   },
   {
    "duration": 86441,
    "start_time": "2023-03-16T19:02:28.781Z"
   },
   {
    "duration": 34,
    "start_time": "2023-03-16T19:03:55.225Z"
   },
   {
    "duration": 4,
    "start_time": "2023-03-16T19:03:55.261Z"
   },
   {
    "duration": 4,
    "start_time": "2023-03-16T19:03:55.277Z"
   },
   {
    "duration": 28,
    "start_time": "2023-03-16T19:03:55.283Z"
   },
   {
    "duration": 25,
    "start_time": "2023-03-16T19:03:55.312Z"
   },
   {
    "duration": 4,
    "start_time": "2023-03-16T19:03:55.339Z"
   },
   {
    "duration": 5643,
    "start_time": "2023-03-16T19:03:55.344Z"
   },
   {
    "duration": 3,
    "start_time": "2023-03-16T19:04:00.989Z"
   },
   {
    "duration": 66771,
    "start_time": "2023-03-16T19:04:33.582Z"
   },
   {
    "duration": 132,
    "start_time": "2023-03-16T21:59:53.276Z"
   },
   {
    "duration": 17,
    "start_time": "2023-03-16T21:59:59.868Z"
   },
   {
    "duration": 3,
    "start_time": "2023-03-16T22:00:19.265Z"
   },
   {
    "duration": 875367,
    "start_time": "2023-03-16T22:01:38.712Z"
   },
   {
    "duration": 13,
    "start_time": "2023-03-16T22:22:49.653Z"
   },
   {
    "duration": 15,
    "start_time": "2023-03-16T22:23:22.486Z"
   },
   {
    "duration": 14,
    "start_time": "2023-03-16T22:24:16.085Z"
   },
   {
    "duration": 51,
    "start_time": "2023-03-16T22:26:11.894Z"
   },
   {
    "duration": 7170,
    "start_time": "2023-03-16T22:26:33.255Z"
   },
   {
    "duration": 2720,
    "start_time": "2023-03-16T22:54:45.890Z"
   },
   {
    "duration": 856,
    "start_time": "2023-03-16T22:54:48.613Z"
   },
   {
    "duration": 38,
    "start_time": "2023-03-16T22:54:49.471Z"
   },
   {
    "duration": 14,
    "start_time": "2023-03-16T22:54:49.511Z"
   },
   {
    "duration": 80,
    "start_time": "2023-03-16T22:54:49.527Z"
   },
   {
    "duration": 33,
    "start_time": "2023-03-16T22:54:49.609Z"
   },
   {
    "duration": 7,
    "start_time": "2023-03-16T22:54:49.644Z"
   },
   {
    "duration": 256,
    "start_time": "2023-03-16T22:54:49.652Z"
   },
   {
    "duration": 84804,
    "start_time": "2023-03-16T22:54:49.909Z"
   },
   {
    "duration": 33,
    "start_time": "2023-03-16T22:56:14.716Z"
   },
   {
    "duration": 3,
    "start_time": "2023-03-16T22:56:14.751Z"
   },
   {
    "duration": 40,
    "start_time": "2023-03-16T22:56:14.756Z"
   },
   {
    "duration": 24,
    "start_time": "2023-03-16T22:56:14.798Z"
   },
   {
    "duration": 192,
    "start_time": "2023-03-16T22:56:14.824Z"
   },
   {
    "duration": 0,
    "start_time": "2023-03-16T22:56:15.018Z"
   },
   {
    "duration": 0,
    "start_time": "2023-03-16T22:56:15.019Z"
   },
   {
    "duration": 0,
    "start_time": "2023-03-16T22:56:15.020Z"
   },
   {
    "duration": 0,
    "start_time": "2023-03-16T22:56:15.022Z"
   },
   {
    "duration": 0,
    "start_time": "2023-03-16T22:56:15.023Z"
   },
   {
    "duration": 0,
    "start_time": "2023-03-16T22:56:15.024Z"
   },
   {
    "duration": 0,
    "start_time": "2023-03-16T22:56:15.025Z"
   },
   {
    "duration": 0,
    "start_time": "2023-03-16T22:56:15.026Z"
   },
   {
    "duration": 0,
    "start_time": "2023-03-16T22:56:15.027Z"
   },
   {
    "duration": 0,
    "start_time": "2023-03-16T22:56:15.028Z"
   },
   {
    "duration": 0,
    "start_time": "2023-03-16T22:56:15.029Z"
   },
   {
    "duration": 0,
    "start_time": "2023-03-16T22:56:15.031Z"
   },
   {
    "duration": 0,
    "start_time": "2023-03-16T22:56:15.032Z"
   },
   {
    "duration": 0,
    "start_time": "2023-03-16T22:56:15.033Z"
   },
   {
    "duration": 0,
    "start_time": "2023-03-16T22:56:15.034Z"
   },
   {
    "duration": 0,
    "start_time": "2023-03-16T22:56:15.035Z"
   },
   {
    "duration": 0,
    "start_time": "2023-03-16T22:56:15.036Z"
   },
   {
    "duration": 0,
    "start_time": "2023-03-16T22:56:15.037Z"
   },
   {
    "duration": 0,
    "start_time": "2023-03-16T22:56:15.038Z"
   },
   {
    "duration": 6,
    "start_time": "2023-03-16T23:09:44.489Z"
   },
   {
    "duration": 854,
    "start_time": "2023-03-16T23:09:44.497Z"
   },
   {
    "duration": 34,
    "start_time": "2023-03-16T23:09:45.353Z"
   },
   {
    "duration": 9,
    "start_time": "2023-03-16T23:09:45.389Z"
   },
   {
    "duration": 66,
    "start_time": "2023-03-16T23:09:45.400Z"
   },
   {
    "duration": 35,
    "start_time": "2023-03-16T23:09:45.468Z"
   },
   {
    "duration": 10,
    "start_time": "2023-03-16T23:09:45.504Z"
   },
   {
    "duration": 151,
    "start_time": "2023-03-16T23:09:45.516Z"
   },
   {
    "duration": 20522,
    "start_time": "2023-03-16T23:09:45.670Z"
   },
   {
    "duration": 0,
    "start_time": "2023-03-16T23:10:06.194Z"
   },
   {
    "duration": 0,
    "start_time": "2023-03-16T23:10:06.195Z"
   },
   {
    "duration": 0,
    "start_time": "2023-03-16T23:10:06.196Z"
   },
   {
    "duration": 0,
    "start_time": "2023-03-16T23:10:06.197Z"
   },
   {
    "duration": 0,
    "start_time": "2023-03-16T23:10:06.198Z"
   },
   {
    "duration": 0,
    "start_time": "2023-03-16T23:10:06.200Z"
   },
   {
    "duration": 1,
    "start_time": "2023-03-16T23:10:06.200Z"
   },
   {
    "duration": 6,
    "start_time": "2023-03-16T23:10:47.601Z"
   },
   {
    "duration": 858,
    "start_time": "2023-03-16T23:10:47.609Z"
   },
   {
    "duration": 35,
    "start_time": "2023-03-16T23:10:48.469Z"
   },
   {
    "duration": 33,
    "start_time": "2023-03-16T23:10:48.506Z"
   },
   {
    "duration": 67,
    "start_time": "2023-03-16T23:10:48.541Z"
   },
   {
    "duration": 33,
    "start_time": "2023-03-16T23:10:48.610Z"
   },
   {
    "duration": 30,
    "start_time": "2023-03-16T23:10:48.644Z"
   },
   {
    "duration": 136,
    "start_time": "2023-03-16T23:10:48.675Z"
   },
   {
    "duration": 81431,
    "start_time": "2023-03-16T23:10:48.814Z"
   },
   {
    "duration": 41,
    "start_time": "2023-03-16T23:12:10.247Z"
   },
   {
    "duration": 3,
    "start_time": "2023-03-16T23:12:10.289Z"
   },
   {
    "duration": 30,
    "start_time": "2023-03-16T23:12:10.294Z"
   },
   {
    "duration": 24,
    "start_time": "2023-03-16T23:12:10.326Z"
   },
   {
    "duration": 36,
    "start_time": "2023-03-16T23:12:10.352Z"
   },
   {
    "duration": 0,
    "start_time": "2023-03-16T23:12:10.390Z"
   },
   {
    "duration": 0,
    "start_time": "2023-03-16T23:12:10.392Z"
   },
   {
    "duration": 13,
    "start_time": "2023-03-16T23:20:38.945Z"
   },
   {
    "duration": 6,
    "start_time": "2023-03-16T23:20:48.146Z"
   },
   {
    "duration": 847,
    "start_time": "2023-03-16T23:20:48.155Z"
   },
   {
    "duration": 35,
    "start_time": "2023-03-16T23:20:49.004Z"
   },
   {
    "duration": 8,
    "start_time": "2023-03-16T23:20:49.042Z"
   },
   {
    "duration": 78,
    "start_time": "2023-03-16T23:20:49.052Z"
   },
   {
    "duration": 46,
    "start_time": "2023-03-16T23:20:49.132Z"
   },
   {
    "duration": 9,
    "start_time": "2023-03-16T23:20:49.180Z"
   },
   {
    "duration": 146,
    "start_time": "2023-03-16T23:20:49.191Z"
   },
   {
    "duration": 82690,
    "start_time": "2023-03-16T23:20:49.341Z"
   },
   {
    "duration": 45,
    "start_time": "2023-03-16T23:22:12.032Z"
   },
   {
    "duration": 4,
    "start_time": "2023-03-16T23:22:12.079Z"
   },
   {
    "duration": 57,
    "start_time": "2023-03-16T23:22:12.085Z"
   },
   {
    "duration": 26,
    "start_time": "2023-03-16T23:22:12.146Z"
   },
   {
    "duration": 19,
    "start_time": "2023-03-16T23:22:53.982Z"
   },
   {
    "duration": 13,
    "start_time": "2023-03-16T23:28:37.413Z"
   },
   {
    "duration": 4,
    "start_time": "2023-03-16T23:28:47.476Z"
   },
   {
    "duration": 2789,
    "start_time": "2023-03-16T23:30:09.742Z"
   },
   {
    "duration": 877,
    "start_time": "2023-03-16T23:30:12.533Z"
   },
   {
    "duration": 36,
    "start_time": "2023-03-16T23:30:13.412Z"
   },
   {
    "duration": 32,
    "start_time": "2023-03-16T23:30:13.451Z"
   },
   {
    "duration": 56,
    "start_time": "2023-03-16T23:30:13.485Z"
   },
   {
    "duration": 50,
    "start_time": "2023-03-16T23:30:13.543Z"
   },
   {
    "duration": 10,
    "start_time": "2023-03-16T23:30:13.595Z"
   },
   {
    "duration": 260,
    "start_time": "2023-03-16T23:30:13.607Z"
   },
   {
    "duration": 85093,
    "start_time": "2023-03-16T23:30:13.870Z"
   },
   {
    "duration": 33,
    "start_time": "2023-03-16T23:31:38.966Z"
   },
   {
    "duration": 3,
    "start_time": "2023-03-16T23:31:39.001Z"
   },
   {
    "duration": 36,
    "start_time": "2023-03-16T23:31:39.005Z"
   },
   {
    "duration": 18,
    "start_time": "2023-03-16T23:31:39.043Z"
   },
   {
    "duration": 189,
    "start_time": "2023-03-16T23:31:39.063Z"
   },
   {
    "duration": 0,
    "start_time": "2023-03-16T23:31:39.254Z"
   },
   {
    "duration": 0,
    "start_time": "2023-03-16T23:31:39.255Z"
   },
   {
    "duration": 0,
    "start_time": "2023-03-16T23:31:39.256Z"
   },
   {
    "duration": 0,
    "start_time": "2023-03-16T23:31:39.258Z"
   },
   {
    "duration": 1,
    "start_time": "2023-03-16T23:31:39.258Z"
   },
   {
    "duration": 0,
    "start_time": "2023-03-16T23:31:39.259Z"
   },
   {
    "duration": 0,
    "start_time": "2023-03-16T23:31:39.261Z"
   },
   {
    "duration": 0,
    "start_time": "2023-03-16T23:31:39.262Z"
   },
   {
    "duration": 0,
    "start_time": "2023-03-16T23:31:39.278Z"
   },
   {
    "duration": 0,
    "start_time": "2023-03-16T23:31:39.279Z"
   },
   {
    "duration": 0,
    "start_time": "2023-03-16T23:31:39.281Z"
   },
   {
    "duration": 0,
    "start_time": "2023-03-16T23:31:39.282Z"
   },
   {
    "duration": 0,
    "start_time": "2023-03-16T23:31:39.284Z"
   },
   {
    "duration": 0,
    "start_time": "2023-03-16T23:31:39.285Z"
   },
   {
    "duration": 0,
    "start_time": "2023-03-16T23:31:39.287Z"
   },
   {
    "duration": 0,
    "start_time": "2023-03-16T23:31:39.288Z"
   },
   {
    "duration": 1,
    "start_time": "2023-03-16T23:31:39.289Z"
   },
   {
    "duration": 0,
    "start_time": "2023-03-16T23:31:39.291Z"
   },
   {
    "duration": 0,
    "start_time": "2023-03-16T23:31:39.293Z"
   },
   {
    "duration": 3808,
    "start_time": "2023-03-16T23:35:22.316Z"
   },
   {
    "duration": 853,
    "start_time": "2023-03-16T23:35:26.126Z"
   },
   {
    "duration": 36,
    "start_time": "2023-03-16T23:35:26.981Z"
   },
   {
    "duration": 30,
    "start_time": "2023-03-16T23:35:27.020Z"
   },
   {
    "duration": 83,
    "start_time": "2023-03-16T23:35:27.052Z"
   },
   {
    "duration": 44,
    "start_time": "2023-03-16T23:35:27.137Z"
   },
   {
    "duration": 17,
    "start_time": "2023-03-16T23:35:27.184Z"
   },
   {
    "duration": 269,
    "start_time": "2023-03-16T23:35:27.204Z"
   },
   {
    "duration": 84757,
    "start_time": "2023-03-16T23:35:27.475Z"
   },
   {
    "duration": 42,
    "start_time": "2023-03-16T23:36:52.235Z"
   },
   {
    "duration": 4,
    "start_time": "2023-03-16T23:36:52.279Z"
   },
   {
    "duration": 30,
    "start_time": "2023-03-16T23:36:52.285Z"
   },
   {
    "duration": 22,
    "start_time": "2023-03-16T23:36:52.316Z"
   },
   {
    "duration": 211,
    "start_time": "2023-03-16T23:36:52.340Z"
   },
   {
    "duration": 0,
    "start_time": "2023-03-16T23:36:52.553Z"
   },
   {
    "duration": 0,
    "start_time": "2023-03-16T23:36:52.554Z"
   },
   {
    "duration": 0,
    "start_time": "2023-03-16T23:36:52.556Z"
   },
   {
    "duration": 0,
    "start_time": "2023-03-16T23:36:52.557Z"
   },
   {
    "duration": 0,
    "start_time": "2023-03-16T23:36:52.559Z"
   },
   {
    "duration": 0,
    "start_time": "2023-03-16T23:36:52.578Z"
   },
   {
    "duration": 0,
    "start_time": "2023-03-16T23:36:52.579Z"
   },
   {
    "duration": 0,
    "start_time": "2023-03-16T23:36:52.581Z"
   },
   {
    "duration": 0,
    "start_time": "2023-03-16T23:36:52.583Z"
   },
   {
    "duration": 0,
    "start_time": "2023-03-16T23:36:52.584Z"
   },
   {
    "duration": 0,
    "start_time": "2023-03-16T23:36:52.585Z"
   },
   {
    "duration": 0,
    "start_time": "2023-03-16T23:36:52.587Z"
   },
   {
    "duration": 0,
    "start_time": "2023-03-16T23:36:52.589Z"
   },
   {
    "duration": 0,
    "start_time": "2023-03-16T23:36:52.590Z"
   },
   {
    "duration": 0,
    "start_time": "2023-03-16T23:36:52.592Z"
   },
   {
    "duration": 0,
    "start_time": "2023-03-16T23:36:52.594Z"
   },
   {
    "duration": 0,
    "start_time": "2023-03-16T23:36:52.595Z"
   },
   {
    "duration": 0,
    "start_time": "2023-03-16T23:36:52.596Z"
   },
   {
    "duration": 0,
    "start_time": "2023-03-16T23:36:52.598Z"
   },
   {
    "duration": 13,
    "start_time": "2023-03-16T23:39:04.679Z"
   },
   {
    "duration": 13,
    "start_time": "2023-03-16T23:39:15.014Z"
   },
   {
    "duration": 13,
    "start_time": "2023-03-16T23:40:03.571Z"
   },
   {
    "duration": 14,
    "start_time": "2023-03-16T23:41:26.900Z"
   },
   {
    "duration": 2932,
    "start_time": "2023-03-16T23:41:36.845Z"
   },
   {
    "duration": 840,
    "start_time": "2023-03-16T23:41:39.780Z"
   },
   {
    "duration": 33,
    "start_time": "2023-03-16T23:41:40.622Z"
   },
   {
    "duration": 23,
    "start_time": "2023-03-16T23:41:40.657Z"
   },
   {
    "duration": 58,
    "start_time": "2023-03-16T23:41:40.681Z"
   },
   {
    "duration": 40,
    "start_time": "2023-03-16T23:41:40.741Z"
   },
   {
    "duration": 20,
    "start_time": "2023-03-16T23:41:40.783Z"
   },
   {
    "duration": 243,
    "start_time": "2023-03-16T23:41:40.805Z"
   },
   {
    "duration": 84975,
    "start_time": "2023-03-16T23:41:41.050Z"
   },
   {
    "duration": 32,
    "start_time": "2023-03-16T23:43:06.028Z"
   },
   {
    "duration": 2242,
    "start_time": "2023-03-16T23:43:06.061Z"
   },
   {
    "duration": 49,
    "start_time": "2023-03-16T23:43:19.402Z"
   },
   {
    "duration": 7,
    "start_time": "2023-03-16T23:43:26.681Z"
   },
   {
    "duration": 11031,
    "start_time": "2023-03-16T23:49:55.256Z"
   },
   {
    "duration": 1226,
    "start_time": "2023-03-16T23:50:06.289Z"
   },
   {
    "duration": 36,
    "start_time": "2023-03-16T23:50:07.517Z"
   },
   {
    "duration": 12,
    "start_time": "2023-03-16T23:50:07.555Z"
   },
   {
    "duration": 65,
    "start_time": "2023-03-16T23:50:07.569Z"
   },
   {
    "duration": 47,
    "start_time": "2023-03-16T23:50:07.637Z"
   },
   {
    "duration": 7,
    "start_time": "2023-03-16T23:50:07.687Z"
   },
   {
    "duration": 257,
    "start_time": "2023-03-16T23:50:07.696Z"
   },
   {
    "duration": 51,
    "start_time": "2023-03-16T23:50:07.955Z"
   },
   {
    "duration": 0,
    "start_time": "2023-03-16T23:50:08.009Z"
   },
   {
    "duration": 0,
    "start_time": "2023-03-16T23:50:08.011Z"
   },
   {
    "duration": 0,
    "start_time": "2023-03-16T23:50:08.012Z"
   },
   {
    "duration": 0,
    "start_time": "2023-03-16T23:50:08.014Z"
   },
   {
    "duration": 0,
    "start_time": "2023-03-16T23:50:08.016Z"
   },
   {
    "duration": 0,
    "start_time": "2023-03-16T23:50:08.017Z"
   },
   {
    "duration": 0,
    "start_time": "2023-03-16T23:50:08.019Z"
   },
   {
    "duration": 0,
    "start_time": "2023-03-16T23:50:08.021Z"
   },
   {
    "duration": 0,
    "start_time": "2023-03-16T23:50:08.022Z"
   },
   {
    "duration": 0,
    "start_time": "2023-03-16T23:50:08.023Z"
   },
   {
    "duration": 0,
    "start_time": "2023-03-16T23:50:08.025Z"
   },
   {
    "duration": 0,
    "start_time": "2023-03-16T23:50:08.026Z"
   },
   {
    "duration": 0,
    "start_time": "2023-03-16T23:50:08.028Z"
   },
   {
    "duration": 0,
    "start_time": "2023-03-16T23:50:08.029Z"
   },
   {
    "duration": 0,
    "start_time": "2023-03-16T23:50:08.030Z"
   },
   {
    "duration": 0,
    "start_time": "2023-03-16T23:50:08.031Z"
   },
   {
    "duration": 0,
    "start_time": "2023-03-16T23:50:08.033Z"
   },
   {
    "duration": 0,
    "start_time": "2023-03-16T23:50:08.034Z"
   },
   {
    "duration": 0,
    "start_time": "2023-03-16T23:50:08.036Z"
   },
   {
    "duration": 0,
    "start_time": "2023-03-16T23:50:08.037Z"
   },
   {
    "duration": 0,
    "start_time": "2023-03-16T23:50:08.039Z"
   },
   {
    "duration": 0,
    "start_time": "2023-03-16T23:50:08.040Z"
   },
   {
    "duration": 1,
    "start_time": "2023-03-16T23:50:08.041Z"
   },
   {
    "duration": 0,
    "start_time": "2023-03-16T23:50:08.043Z"
   },
   {
    "duration": 0,
    "start_time": "2023-03-16T23:50:08.044Z"
   },
   {
    "duration": 0,
    "start_time": "2023-03-16T23:50:08.046Z"
   },
   {
    "duration": 4,
    "start_time": "2023-03-16T23:52:23.046Z"
   },
   {
    "duration": 85723,
    "start_time": "2023-03-16T23:52:25.530Z"
   },
   {
    "duration": 6,
    "start_time": "2023-03-16T23:54:04.657Z"
   },
   {
    "duration": 868,
    "start_time": "2023-03-16T23:54:04.665Z"
   },
   {
    "duration": 31,
    "start_time": "2023-03-16T23:54:05.535Z"
   },
   {
    "duration": 9,
    "start_time": "2023-03-16T23:54:05.578Z"
   },
   {
    "duration": 79,
    "start_time": "2023-03-16T23:54:05.589Z"
   },
   {
    "duration": 33,
    "start_time": "2023-03-16T23:54:05.670Z"
   },
   {
    "duration": 8,
    "start_time": "2023-03-16T23:54:05.705Z"
   },
   {
    "duration": 149,
    "start_time": "2023-03-16T23:54:05.715Z"
   },
   {
    "duration": 11,
    "start_time": "2023-03-16T23:54:05.866Z"
   },
   {
    "duration": 85000,
    "start_time": "2023-03-16T23:54:30.309Z"
   },
   {
    "duration": 32,
    "start_time": "2023-03-16T23:55:55.312Z"
   },
   {
    "duration": 3,
    "start_time": "2023-03-16T23:55:55.346Z"
   },
   {
    "duration": 8,
    "start_time": "2023-03-16T23:55:55.351Z"
   },
   {
    "duration": 36,
    "start_time": "2023-03-16T23:55:55.361Z"
   },
   {
    "duration": 21,
    "start_time": "2023-03-16T23:55:55.399Z"
   },
   {
    "duration": 228,
    "start_time": "2023-03-16T23:55:55.422Z"
   },
   {
    "duration": 0,
    "start_time": "2023-03-16T23:55:55.653Z"
   },
   {
    "duration": 0,
    "start_time": "2023-03-16T23:55:55.655Z"
   },
   {
    "duration": 0,
    "start_time": "2023-03-16T23:55:55.656Z"
   },
   {
    "duration": 0,
    "start_time": "2023-03-16T23:55:55.658Z"
   },
   {
    "duration": 0,
    "start_time": "2023-03-16T23:55:55.659Z"
   },
   {
    "duration": 0,
    "start_time": "2023-03-16T23:55:55.661Z"
   },
   {
    "duration": 0,
    "start_time": "2023-03-16T23:55:55.662Z"
   },
   {
    "duration": 0,
    "start_time": "2023-03-16T23:55:55.663Z"
   },
   {
    "duration": 0,
    "start_time": "2023-03-16T23:55:55.665Z"
   },
   {
    "duration": 0,
    "start_time": "2023-03-16T23:55:55.666Z"
   },
   {
    "duration": 0,
    "start_time": "2023-03-16T23:55:55.668Z"
   },
   {
    "duration": 0,
    "start_time": "2023-03-16T23:55:55.670Z"
   },
   {
    "duration": 0,
    "start_time": "2023-03-16T23:55:55.671Z"
   },
   {
    "duration": 0,
    "start_time": "2023-03-16T23:55:55.673Z"
   },
   {
    "duration": 0,
    "start_time": "2023-03-16T23:55:55.677Z"
   },
   {
    "duration": 0,
    "start_time": "2023-03-16T23:55:55.679Z"
   },
   {
    "duration": 0,
    "start_time": "2023-03-16T23:55:55.680Z"
   },
   {
    "duration": 0,
    "start_time": "2023-03-16T23:55:55.682Z"
   },
   {
    "duration": 0,
    "start_time": "2023-03-16T23:55:55.683Z"
   },
   {
    "duration": 9,
    "start_time": "2023-03-16T23:56:38.221Z"
   },
   {
    "duration": 7,
    "start_time": "2023-03-16T23:56:39.247Z"
   },
   {
    "duration": 3,
    "start_time": "2023-03-16T23:56:40.886Z"
   },
   {
    "duration": 21,
    "start_time": "2023-03-16T23:56:41.829Z"
   },
   {
    "duration": 13,
    "start_time": "2023-03-16T23:56:44.200Z"
   },
   {
    "duration": 2,
    "start_time": "2023-03-16T23:56:46.975Z"
   },
   {
    "duration": 14,
    "start_time": "2023-03-16T23:56:49.396Z"
   },
   {
    "duration": 7,
    "start_time": "2023-03-16T23:56:58.838Z"
   },
   {
    "duration": 869,
    "start_time": "2023-03-16T23:56:58.848Z"
   },
   {
    "duration": 33,
    "start_time": "2023-03-16T23:56:59.719Z"
   },
   {
    "duration": 9,
    "start_time": "2023-03-16T23:56:59.754Z"
   },
   {
    "duration": 71,
    "start_time": "2023-03-16T23:56:59.777Z"
   },
   {
    "duration": 35,
    "start_time": "2023-03-16T23:56:59.850Z"
   },
   {
    "duration": 14,
    "start_time": "2023-03-16T23:56:59.887Z"
   },
   {
    "duration": 137,
    "start_time": "2023-03-16T23:56:59.903Z"
   },
   {
    "duration": 4,
    "start_time": "2023-03-16T23:57:00.042Z"
   },
   {
    "duration": 84625,
    "start_time": "2023-03-16T23:57:00.048Z"
   },
   {
    "duration": 33,
    "start_time": "2023-03-16T23:58:24.676Z"
   },
   {
    "duration": 6,
    "start_time": "2023-03-16T23:58:24.711Z"
   },
   {
    "duration": 14,
    "start_time": "2023-03-16T23:58:24.719Z"
   },
   {
    "duration": 58,
    "start_time": "2023-03-16T23:58:24.734Z"
   },
   {
    "duration": 3,
    "start_time": "2023-03-16T23:58:24.795Z"
   },
   {
    "duration": 27,
    "start_time": "2023-03-16T23:58:24.799Z"
   },
   {
    "duration": 222,
    "start_time": "2023-03-17T00:01:51.586Z"
   },
   {
    "duration": 12,
    "start_time": "2023-03-17T00:01:56.534Z"
   },
   {
    "duration": 2978,
    "start_time": "2023-03-17T00:02:07.114Z"
   },
   {
    "duration": 878,
    "start_time": "2023-03-17T00:02:10.094Z"
   },
   {
    "duration": 41,
    "start_time": "2023-03-17T00:02:10.974Z"
   },
   {
    "duration": 38,
    "start_time": "2023-03-17T00:02:11.017Z"
   },
   {
    "duration": 89,
    "start_time": "2023-03-17T00:02:11.056Z"
   },
   {
    "duration": 53,
    "start_time": "2023-03-17T00:02:11.147Z"
   },
   {
    "duration": 17,
    "start_time": "2023-03-17T00:02:11.202Z"
   },
   {
    "duration": 257,
    "start_time": "2023-03-17T00:02:11.220Z"
   },
   {
    "duration": 4,
    "start_time": "2023-03-17T00:02:11.479Z"
   },
   {
    "duration": 83223,
    "start_time": "2023-03-17T00:02:11.486Z"
   },
   {
    "duration": 29,
    "start_time": "2023-03-17T00:03:34.711Z"
   },
   {
    "duration": 3,
    "start_time": "2023-03-17T00:03:34.742Z"
   },
   {
    "duration": 8,
    "start_time": "2023-03-17T00:03:34.747Z"
   },
   {
    "duration": 31,
    "start_time": "2023-03-17T00:03:34.757Z"
   },
   {
    "duration": 3,
    "start_time": "2023-03-17T00:03:34.790Z"
   },
   {
    "duration": 6509,
    "start_time": "2023-03-17T00:03:34.795Z"
   },
   {
    "duration": 3,
    "start_time": "2023-03-17T00:03:41.306Z"
   },
   {
    "duration": 9,
    "start_time": "2023-03-17T00:03:41.310Z"
   },
   {
    "duration": 18147,
    "start_time": "2023-03-17T00:03:41.321Z"
   },
   {
    "duration": 0,
    "start_time": "2023-03-17T00:03:59.470Z"
   },
   {
    "duration": 0,
    "start_time": "2023-03-17T00:03:59.472Z"
   },
   {
    "duration": 0,
    "start_time": "2023-03-17T00:03:59.473Z"
   },
   {
    "duration": 0,
    "start_time": "2023-03-17T00:03:59.473Z"
   },
   {
    "duration": 0,
    "start_time": "2023-03-17T00:03:59.475Z"
   },
   {
    "duration": 0,
    "start_time": "2023-03-17T00:03:59.475Z"
   },
   {
    "duration": 0,
    "start_time": "2023-03-17T00:03:59.476Z"
   },
   {
    "duration": 0,
    "start_time": "2023-03-17T00:03:59.477Z"
   },
   {
    "duration": 0,
    "start_time": "2023-03-17T00:03:59.478Z"
   },
   {
    "duration": 0,
    "start_time": "2023-03-17T00:03:59.479Z"
   },
   {
    "duration": 0,
    "start_time": "2023-03-17T00:03:59.480Z"
   },
   {
    "duration": 0,
    "start_time": "2023-03-17T00:03:59.481Z"
   },
   {
    "duration": 0,
    "start_time": "2023-03-17T00:03:59.482Z"
   },
   {
    "duration": 0,
    "start_time": "2023-03-17T00:03:59.483Z"
   },
   {
    "duration": 0,
    "start_time": "2023-03-17T00:03:59.484Z"
   },
   {
    "duration": 0,
    "start_time": "2023-03-17T00:03:59.485Z"
   },
   {
    "duration": 2825,
    "start_time": "2023-03-17T00:04:32.348Z"
   },
   {
    "duration": 808,
    "start_time": "2023-03-17T00:04:35.175Z"
   },
   {
    "duration": 33,
    "start_time": "2023-03-17T00:04:35.985Z"
   },
   {
    "duration": 10,
    "start_time": "2023-03-17T00:04:36.020Z"
   },
   {
    "duration": 71,
    "start_time": "2023-03-17T00:04:36.032Z"
   },
   {
    "duration": 32,
    "start_time": "2023-03-17T00:04:36.105Z"
   },
   {
    "duration": 7,
    "start_time": "2023-03-17T00:04:36.138Z"
   },
   {
    "duration": 247,
    "start_time": "2023-03-17T00:04:36.146Z"
   },
   {
    "duration": 81756,
    "start_time": "2023-03-17T00:04:36.395Z"
   },
   {
    "duration": 3593,
    "start_time": "2023-03-17T00:05:58.153Z"
   },
   {
    "duration": 0,
    "start_time": "2023-03-17T00:06:01.749Z"
   },
   {
    "duration": 0,
    "start_time": "2023-03-17T00:06:01.751Z"
   },
   {
    "duration": 0,
    "start_time": "2023-03-17T00:06:01.752Z"
   },
   {
    "duration": 0,
    "start_time": "2023-03-17T00:06:01.753Z"
   },
   {
    "duration": 0,
    "start_time": "2023-03-17T00:06:01.755Z"
   },
   {
    "duration": 0,
    "start_time": "2023-03-17T00:06:01.756Z"
   },
   {
    "duration": 0,
    "start_time": "2023-03-17T00:06:01.758Z"
   },
   {
    "duration": 0,
    "start_time": "2023-03-17T00:06:01.778Z"
   },
   {
    "duration": 0,
    "start_time": "2023-03-17T00:06:01.780Z"
   },
   {
    "duration": 0,
    "start_time": "2023-03-17T00:06:01.781Z"
   },
   {
    "duration": 0,
    "start_time": "2023-03-17T00:06:01.783Z"
   },
   {
    "duration": 0,
    "start_time": "2023-03-17T00:06:01.784Z"
   },
   {
    "duration": 0,
    "start_time": "2023-03-17T00:06:01.786Z"
   },
   {
    "duration": 0,
    "start_time": "2023-03-17T00:06:01.788Z"
   },
   {
    "duration": 0,
    "start_time": "2023-03-17T00:06:01.789Z"
   },
   {
    "duration": 0,
    "start_time": "2023-03-17T00:06:01.791Z"
   },
   {
    "duration": 0,
    "start_time": "2023-03-17T00:06:01.792Z"
   },
   {
    "duration": 0,
    "start_time": "2023-03-17T00:06:01.794Z"
   },
   {
    "duration": 0,
    "start_time": "2023-03-17T00:06:01.795Z"
   },
   {
    "duration": 0,
    "start_time": "2023-03-17T00:06:01.797Z"
   },
   {
    "duration": 0,
    "start_time": "2023-03-17T00:06:01.799Z"
   },
   {
    "duration": 0,
    "start_time": "2023-03-17T00:06:01.800Z"
   },
   {
    "duration": 0,
    "start_time": "2023-03-17T00:06:01.802Z"
   },
   {
    "duration": 0,
    "start_time": "2023-03-17T00:06:01.804Z"
   },
   {
    "duration": 0,
    "start_time": "2023-03-17T00:06:01.805Z"
   },
   {
    "duration": 2919,
    "start_time": "2023-03-17T00:06:59.809Z"
   },
   {
    "duration": 847,
    "start_time": "2023-03-17T00:07:02.731Z"
   },
   {
    "duration": 32,
    "start_time": "2023-03-17T00:07:03.580Z"
   },
   {
    "duration": 26,
    "start_time": "2023-03-17T00:07:03.614Z"
   },
   {
    "duration": 56,
    "start_time": "2023-03-17T00:07:03.642Z"
   },
   {
    "duration": 35,
    "start_time": "2023-03-17T00:07:03.700Z"
   },
   {
    "duration": 13,
    "start_time": "2023-03-17T00:07:03.737Z"
   },
   {
    "duration": 248,
    "start_time": "2023-03-17T00:07:03.751Z"
   },
   {
    "duration": 82882,
    "start_time": "2023-03-17T00:07:04.001Z"
   },
   {
    "duration": 31,
    "start_time": "2023-03-17T00:08:26.884Z"
   },
   {
    "duration": 3,
    "start_time": "2023-03-17T00:08:26.917Z"
   },
   {
    "duration": 24,
    "start_time": "2023-03-17T00:08:26.921Z"
   },
   {
    "duration": 33,
    "start_time": "2023-03-17T00:08:26.947Z"
   },
   {
    "duration": 26,
    "start_time": "2023-03-17T00:08:26.983Z"
   },
   {
    "duration": 6859,
    "start_time": "2023-03-17T00:08:27.010Z"
   },
   {
    "duration": 7,
    "start_time": "2023-03-17T00:08:33.871Z"
   },
   {
    "duration": 16,
    "start_time": "2023-03-17T00:08:33.880Z"
   },
   {
    "duration": 886689,
    "start_time": "2023-03-17T00:08:33.898Z"
   },
   {
    "duration": 14,
    "start_time": "2023-03-17T00:23:20.678Z"
   },
   {
    "duration": 659361,
    "start_time": "2023-03-17T00:23:20.694Z"
   },
   {
    "duration": 751,
    "start_time": "2023-03-17T00:34:20.058Z"
   },
   {
    "duration": 873,
    "start_time": "2023-03-17T05:44:11.680Z"
   },
   {
    "duration": 3189,
    "start_time": "2023-03-17T05:44:14.853Z"
   },
   {
    "duration": 7,
    "start_time": "2023-03-17T05:45:03.926Z"
   },
   {
    "duration": 1231,
    "start_time": "2023-03-17T05:45:03.935Z"
   },
   {
    "duration": 33,
    "start_time": "2023-03-17T05:45:05.168Z"
   },
   {
    "duration": 12,
    "start_time": "2023-03-17T05:45:05.203Z"
   },
   {
    "duration": 207,
    "start_time": "2023-03-17T05:45:05.217Z"
   },
   {
    "duration": 31,
    "start_time": "2023-03-17T05:45:05.426Z"
   },
   {
    "duration": 40,
    "start_time": "2023-03-17T05:45:05.459Z"
   },
   {
    "duration": 256,
    "start_time": "2023-03-17T05:45:05.500Z"
   },
   {
    "duration": 86706,
    "start_time": "2023-03-17T05:45:05.771Z"
   },
   {
    "duration": 34,
    "start_time": "2023-03-17T05:46:32.481Z"
   },
   {
    "duration": 4,
    "start_time": "2023-03-17T05:46:32.518Z"
   },
   {
    "duration": 9,
    "start_time": "2023-03-17T05:46:32.524Z"
   },
   {
    "duration": 42,
    "start_time": "2023-03-17T05:46:32.535Z"
   },
   {
    "duration": 23,
    "start_time": "2023-03-17T05:46:32.580Z"
   },
   {
    "duration": 7231,
    "start_time": "2023-03-17T05:46:32.605Z"
   },
   {
    "duration": 4,
    "start_time": "2023-03-17T05:46:39.838Z"
   },
   {
    "duration": 37,
    "start_time": "2023-03-17T05:46:39.844Z"
   },
   {
    "duration": 232,
    "start_time": "2023-03-17T05:48:29.523Z"
   },
   {
    "duration": 18,
    "start_time": "2023-03-17T05:49:20.974Z"
   },
   {
    "duration": 6,
    "start_time": "2023-03-17T10:21:51.364Z"
   },
   {
    "duration": 301,
    "start_time": "2023-03-17T10:28:35.951Z"
   },
   {
    "duration": 850,
    "start_time": "2023-03-17T10:28:36.255Z"
   },
   {
    "duration": 33,
    "start_time": "2023-03-17T10:28:37.107Z"
   },
   {
    "duration": 7,
    "start_time": "2023-03-17T10:28:37.143Z"
   },
   {
    "duration": 76,
    "start_time": "2023-03-17T10:28:37.153Z"
   },
   {
    "duration": 46,
    "start_time": "2023-03-17T10:28:37.231Z"
   },
   {
    "duration": 8,
    "start_time": "2023-03-17T10:28:37.279Z"
   },
   {
    "duration": 151,
    "start_time": "2023-03-17T10:28:37.289Z"
   },
   {
    "duration": 4,
    "start_time": "2023-03-17T10:28:37.441Z"
   },
   {
    "duration": 141320,
    "start_time": "2023-03-17T10:28:37.447Z"
   },
   {
    "duration": 41,
    "start_time": "2023-03-17T10:30:58.769Z"
   },
   {
    "duration": 22,
    "start_time": "2023-03-17T10:31:17.300Z"
   },
   {
    "duration": 88894,
    "start_time": "2023-03-17T10:31:51.601Z"
   },
   {
    "duration": 30,
    "start_time": "2023-03-17T10:33:25.146Z"
   },
   {
    "duration": 35,
    "start_time": "2023-03-17T10:33:27.334Z"
   },
   {
    "duration": 44,
    "start_time": "2023-03-17T10:33:30.198Z"
   },
   {
    "duration": 4,
    "start_time": "2023-03-17T10:33:42.105Z"
   },
   {
    "duration": 3,
    "start_time": "2023-03-17T10:33:43.551Z"
   },
   {
    "duration": 78894,
    "start_time": "2023-03-17T10:33:49.237Z"
   },
   {
    "duration": 7034,
    "start_time": "2023-03-17T10:35:27.301Z"
   },
   {
    "duration": 44,
    "start_time": "2023-03-17T10:35:40.711Z"
   },
   {
    "duration": 0,
    "start_time": "2023-03-17T10:35:40.757Z"
   },
   {
    "duration": 0,
    "start_time": "2023-03-17T10:35:40.758Z"
   },
   {
    "duration": 0,
    "start_time": "2023-03-17T10:35:40.759Z"
   },
   {
    "duration": 0,
    "start_time": "2023-03-17T10:35:40.760Z"
   },
   {
    "duration": 0,
    "start_time": "2023-03-17T10:35:40.761Z"
   },
   {
    "duration": 0,
    "start_time": "2023-03-17T10:35:40.762Z"
   },
   {
    "duration": 0,
    "start_time": "2023-03-17T10:35:40.763Z"
   },
   {
    "duration": 0,
    "start_time": "2023-03-17T10:35:40.764Z"
   },
   {
    "duration": 0,
    "start_time": "2023-03-17T10:35:40.765Z"
   },
   {
    "duration": 0,
    "start_time": "2023-03-17T10:35:40.766Z"
   },
   {
    "duration": 0,
    "start_time": "2023-03-17T10:35:40.767Z"
   },
   {
    "duration": 0,
    "start_time": "2023-03-17T10:35:40.768Z"
   },
   {
    "duration": 0,
    "start_time": "2023-03-17T10:35:40.769Z"
   },
   {
    "duration": 0,
    "start_time": "2023-03-17T10:35:40.770Z"
   },
   {
    "duration": 0,
    "start_time": "2023-03-17T10:35:40.771Z"
   },
   {
    "duration": 0,
    "start_time": "2023-03-17T10:35:40.772Z"
   },
   {
    "duration": 0,
    "start_time": "2023-03-17T10:35:40.773Z"
   },
   {
    "duration": 16,
    "start_time": "2023-03-17T10:35:40.778Z"
   },
   {
    "duration": 0,
    "start_time": "2023-03-17T10:35:40.795Z"
   },
   {
    "duration": 88884,
    "start_time": "2023-03-17T10:36:08.989Z"
   },
   {
    "duration": 43,
    "start_time": "2023-03-17T10:37:37.879Z"
   },
   {
    "duration": 24,
    "start_time": "2023-03-17T10:37:37.924Z"
   },
   {
    "duration": 7385,
    "start_time": "2023-03-17T10:37:37.950Z"
   },
   {
    "duration": 4,
    "start_time": "2023-03-17T10:37:45.337Z"
   },
   {
    "duration": 6,
    "start_time": "2023-03-17T10:37:45.342Z"
   },
   {
    "duration": 924529,
    "start_time": "2023-03-17T10:37:45.350Z"
   },
   {
    "duration": 100,
    "start_time": "2023-03-17T10:53:09.885Z"
   },
   {
    "duration": 728672,
    "start_time": "2023-03-17T10:53:09.987Z"
   },
   {
    "duration": 962,
    "start_time": "2023-03-17T11:05:18.662Z"
   },
   {
    "duration": 3955,
    "start_time": "2023-03-17T11:17:23.996Z"
   },
   {
    "duration": 1181,
    "start_time": "2023-03-17T11:17:27.953Z"
   },
   {
    "duration": 33,
    "start_time": "2023-03-17T11:17:29.136Z"
   },
   {
    "duration": 28,
    "start_time": "2023-03-17T11:17:29.171Z"
   },
   {
    "duration": 193,
    "start_time": "2023-03-17T11:17:29.202Z"
   },
   {
    "duration": 0,
    "start_time": "2023-03-17T11:17:29.397Z"
   },
   {
    "duration": 0,
    "start_time": "2023-03-17T11:17:29.398Z"
   },
   {
    "duration": 0,
    "start_time": "2023-03-17T11:17:29.399Z"
   },
   {
    "duration": 0,
    "start_time": "2023-03-17T11:17:29.401Z"
   },
   {
    "duration": 0,
    "start_time": "2023-03-17T11:17:29.402Z"
   },
   {
    "duration": 0,
    "start_time": "2023-03-17T11:17:29.403Z"
   },
   {
    "duration": 0,
    "start_time": "2023-03-17T11:17:29.404Z"
   },
   {
    "duration": 20,
    "start_time": "2023-03-17T11:17:39.960Z"
   },
   {
    "duration": 7,
    "start_time": "2023-03-17T11:18:09.051Z"
   },
   {
    "duration": 868,
    "start_time": "2023-03-17T11:18:09.060Z"
   },
   {
    "duration": 34,
    "start_time": "2023-03-17T11:18:09.930Z"
   },
   {
    "duration": 13,
    "start_time": "2023-03-17T11:18:09.977Z"
   },
   {
    "duration": 58,
    "start_time": "2023-03-17T11:18:09.994Z"
   },
   {
    "duration": 44,
    "start_time": "2023-03-17T11:18:10.054Z"
   },
   {
    "duration": 8,
    "start_time": "2023-03-17T11:18:10.100Z"
   },
   {
    "duration": 258,
    "start_time": "2023-03-17T11:18:10.109Z"
   },
   {
    "duration": 92791,
    "start_time": "2023-03-17T11:18:10.370Z"
   },
   {
    "duration": 0,
    "start_time": "2023-03-17T11:19:43.162Z"
   },
   {
    "duration": 0,
    "start_time": "2023-03-17T11:19:43.164Z"
   },
   {
    "duration": 0,
    "start_time": "2023-03-17T11:19:43.165Z"
   },
   {
    "duration": 0,
    "start_time": "2023-03-17T11:19:43.166Z"
   },
   {
    "duration": 0,
    "start_time": "2023-03-17T11:19:43.167Z"
   },
   {
    "duration": 0,
    "start_time": "2023-03-17T11:19:43.168Z"
   },
   {
    "duration": 0,
    "start_time": "2023-03-17T11:19:43.169Z"
   },
   {
    "duration": 0,
    "start_time": "2023-03-17T11:19:43.170Z"
   },
   {
    "duration": 0,
    "start_time": "2023-03-17T11:19:43.172Z"
   },
   {
    "duration": 0,
    "start_time": "2023-03-17T11:19:43.173Z"
   },
   {
    "duration": 0,
    "start_time": "2023-03-17T11:19:43.174Z"
   },
   {
    "duration": 0,
    "start_time": "2023-03-17T11:19:43.175Z"
   },
   {
    "duration": 0,
    "start_time": "2023-03-17T11:19:43.176Z"
   },
   {
    "duration": 0,
    "start_time": "2023-03-17T11:19:43.178Z"
   },
   {
    "duration": 0,
    "start_time": "2023-03-17T11:19:43.179Z"
   },
   {
    "duration": 0,
    "start_time": "2023-03-17T11:19:43.180Z"
   },
   {
    "duration": 0,
    "start_time": "2023-03-17T11:19:43.181Z"
   },
   {
    "duration": 1,
    "start_time": "2023-03-17T11:19:43.182Z"
   },
   {
    "duration": 0,
    "start_time": "2023-03-17T11:19:43.183Z"
   },
   {
    "duration": 0,
    "start_time": "2023-03-17T11:19:43.184Z"
   },
   {
    "duration": 2977,
    "start_time": "2023-03-17T11:32:08.349Z"
   },
   {
    "duration": 895,
    "start_time": "2023-03-17T11:32:11.328Z"
   },
   {
    "duration": 35,
    "start_time": "2023-03-17T11:32:12.225Z"
   },
   {
    "duration": 24,
    "start_time": "2023-03-17T11:32:12.262Z"
   },
   {
    "duration": 57,
    "start_time": "2023-03-17T11:32:12.288Z"
   },
   {
    "duration": 52,
    "start_time": "2023-03-17T11:32:12.347Z"
   },
   {
    "duration": 9,
    "start_time": "2023-03-17T11:32:12.402Z"
   },
   {
    "duration": 303,
    "start_time": "2023-03-17T11:32:12.413Z"
   },
   {
    "duration": 2516173,
    "start_time": "2023-03-17T11:32:12.718Z"
   },
   {
    "duration": 517,
    "start_time": "2023-03-17T12:14:08.894Z"
   },
   {
    "duration": 0,
    "start_time": "2023-03-17T12:14:09.413Z"
   },
   {
    "duration": 0,
    "start_time": "2023-03-17T12:14:09.414Z"
   },
   {
    "duration": 141,
    "start_time": "2023-03-17T12:17:13.338Z"
   },
   {
    "duration": 75,
    "start_time": "2023-03-17T12:17:24.245Z"
   },
   {
    "duration": 2107,
    "start_time": "2023-03-17T12:17:28.694Z"
   },
   {
    "duration": 229,
    "start_time": "2023-03-17T12:17:57.125Z"
   },
   {
    "duration": 2072,
    "start_time": "2023-03-17T12:18:20.057Z"
   },
   {
    "duration": 123,
    "start_time": "2023-03-17T12:18:34.824Z"
   },
   {
    "duration": 75,
    "start_time": "2023-03-17T12:18:37.059Z"
   },
   {
    "duration": 49,
    "start_time": "2023-03-17T12:19:26.561Z"
   },
   {
    "duration": 9,
    "start_time": "2023-03-17T12:19:34.000Z"
   },
   {
    "duration": 15,
    "start_time": "2023-03-17T12:19:36.680Z"
   },
   {
    "duration": 4997,
    "start_time": "2023-03-17T12:19:55.744Z"
   },
   {
    "duration": 1292,
    "start_time": "2023-03-17T12:20:00.743Z"
   },
   {
    "duration": 41,
    "start_time": "2023-03-17T12:20:02.037Z"
   },
   {
    "duration": 44,
    "start_time": "2023-03-17T12:20:02.081Z"
   },
   {
    "duration": 94,
    "start_time": "2023-03-17T12:20:02.127Z"
   },
   {
    "duration": 61,
    "start_time": "2023-03-17T12:20:02.223Z"
   },
   {
    "duration": 35,
    "start_time": "2023-03-17T12:20:02.287Z"
   },
   {
    "duration": 303,
    "start_time": "2023-03-17T12:20:02.324Z"
   },
   {
    "duration": 2572969,
    "start_time": "2023-03-17T12:20:02.629Z"
   },
   {
    "duration": 151,
    "start_time": "2023-03-17T13:02:55.602Z"
   },
   {
    "duration": 88,
    "start_time": "2023-03-17T13:02:55.756Z"
   },
   {
    "duration": 7295,
    "start_time": "2023-03-17T13:02:55.846Z"
   },
   {
    "duration": 357,
    "start_time": "2023-03-17T13:03:03.143Z"
   },
   {
    "duration": 0,
    "start_time": "2023-03-17T13:03:03.502Z"
   },
   {
    "duration": 0,
    "start_time": "2023-03-17T13:03:03.504Z"
   },
   {
    "duration": 0,
    "start_time": "2023-03-17T13:03:03.505Z"
   },
   {
    "duration": 0,
    "start_time": "2023-03-17T13:03:03.507Z"
   },
   {
    "duration": 0,
    "start_time": "2023-03-17T13:03:03.508Z"
   },
   {
    "duration": 0,
    "start_time": "2023-03-17T13:03:03.510Z"
   },
   {
    "duration": 0,
    "start_time": "2023-03-17T13:03:03.511Z"
   },
   {
    "duration": 0,
    "start_time": "2023-03-17T13:03:03.513Z"
   },
   {
    "duration": 0,
    "start_time": "2023-03-17T13:03:03.515Z"
   },
   {
    "duration": 0,
    "start_time": "2023-03-17T13:03:03.516Z"
   },
   {
    "duration": 0,
    "start_time": "2023-03-17T13:03:03.518Z"
   },
   {
    "duration": 0,
    "start_time": "2023-03-17T13:03:03.519Z"
   },
   {
    "duration": 0,
    "start_time": "2023-03-17T13:03:03.521Z"
   },
   {
    "duration": 0,
    "start_time": "2023-03-17T13:03:03.522Z"
   },
   {
    "duration": 0,
    "start_time": "2023-03-17T13:03:03.523Z"
   },
   {
    "duration": 0,
    "start_time": "2023-03-17T13:03:03.525Z"
   },
   {
    "duration": 3,
    "start_time": "2023-03-17T13:11:03.589Z"
   },
   {
    "duration": 934,
    "start_time": "2023-03-17T13:12:10.359Z"
   },
   {
    "duration": 857,
    "start_time": "2023-03-17T13:12:55.196Z"
   },
   {
    "duration": 27,
    "start_time": "2023-03-17T13:15:01.310Z"
   },
   {
    "duration": 20,
    "start_time": "2023-03-17T13:23:09.044Z"
   },
   {
    "duration": 74,
    "start_time": "2023-03-17T13:23:14.103Z"
   },
   {
    "duration": 20,
    "start_time": "2023-03-17T13:23:16.161Z"
   },
   {
    "duration": 125,
    "start_time": "2023-03-17T13:23:31.084Z"
   },
   {
    "duration": 127,
    "start_time": "2023-03-17T13:23:59.890Z"
   },
   {
    "duration": 59,
    "start_time": "2023-03-17T13:24:04.401Z"
   },
   {
    "duration": 26,
    "start_time": "2023-03-17T13:24:06.471Z"
   },
   {
    "duration": 2877,
    "start_time": "2023-03-17T13:24:25.044Z"
   },
   {
    "duration": 821,
    "start_time": "2023-03-17T13:24:27.923Z"
   },
   {
    "duration": 35,
    "start_time": "2023-03-17T13:24:28.746Z"
   },
   {
    "duration": 23,
    "start_time": "2023-03-17T13:24:28.783Z"
   },
   {
    "duration": 60,
    "start_time": "2023-03-17T13:24:28.808Z"
   },
   {
    "duration": 38,
    "start_time": "2023-03-17T13:24:28.869Z"
   },
   {
    "duration": 5,
    "start_time": "2023-03-17T13:24:28.910Z"
   },
   {
    "duration": 249,
    "start_time": "2023-03-17T13:24:28.917Z"
   },
   {
    "duration": 2149800,
    "start_time": "2023-03-17T13:24:29.168Z"
   },
   {
    "duration": 0,
    "start_time": "2023-03-17T14:00:18.978Z"
   },
   {
    "duration": 0,
    "start_time": "2023-03-17T14:00:18.981Z"
   },
   {
    "duration": 0,
    "start_time": "2023-03-17T14:00:18.982Z"
   },
   {
    "duration": 0,
    "start_time": "2023-03-17T14:00:18.983Z"
   },
   {
    "duration": 0,
    "start_time": "2023-03-17T14:00:18.984Z"
   },
   {
    "duration": 0,
    "start_time": "2023-03-17T14:00:18.989Z"
   },
   {
    "duration": 0,
    "start_time": "2023-03-17T14:00:18.990Z"
   },
   {
    "duration": 0,
    "start_time": "2023-03-17T14:00:18.991Z"
   },
   {
    "duration": 0,
    "start_time": "2023-03-17T14:00:18.993Z"
   },
   {
    "duration": 0,
    "start_time": "2023-03-17T14:00:18.995Z"
   },
   {
    "duration": 0,
    "start_time": "2023-03-17T14:00:18.998Z"
   },
   {
    "duration": 0,
    "start_time": "2023-03-17T14:00:19.000Z"
   },
   {
    "duration": 0,
    "start_time": "2023-03-17T14:00:19.002Z"
   },
   {
    "duration": 0,
    "start_time": "2023-03-17T14:00:19.003Z"
   },
   {
    "duration": 0,
    "start_time": "2023-03-17T14:00:19.005Z"
   },
   {
    "duration": 0,
    "start_time": "2023-03-17T14:00:19.006Z"
   },
   {
    "duration": 0,
    "start_time": "2023-03-17T14:00:19.009Z"
   },
   {
    "duration": 0,
    "start_time": "2023-03-17T14:00:19.011Z"
   },
   {
    "duration": 0,
    "start_time": "2023-03-17T14:00:19.013Z"
   },
   {
    "duration": 0,
    "start_time": "2023-03-17T14:00:19.015Z"
   },
   {
    "duration": 0,
    "start_time": "2023-03-17T14:00:19.017Z"
   },
   {
    "duration": 2767218,
    "start_time": "2023-03-17T14:00:32.710Z"
   },
   {
    "duration": 128,
    "start_time": "2023-03-17T15:56:10.026Z"
   },
   {
    "duration": 64,
    "start_time": "2023-03-17T15:56:10.156Z"
   },
   {
    "duration": 7289,
    "start_time": "2023-03-17T15:56:10.222Z"
   },
   {
    "duration": 2,
    "start_time": "2023-03-17T15:56:17.514Z"
   },
   {
    "duration": 30,
    "start_time": "2023-03-17T15:56:17.518Z"
   },
   {
    "duration": 0,
    "start_time": "2023-03-17T15:56:17.550Z"
   },
   {
    "duration": 0,
    "start_time": "2023-03-17T15:56:17.551Z"
   },
   {
    "duration": 0,
    "start_time": "2023-03-17T15:56:17.553Z"
   },
   {
    "duration": 0,
    "start_time": "2023-03-17T15:56:17.554Z"
   },
   {
    "duration": 0,
    "start_time": "2023-03-17T15:56:17.555Z"
   },
   {
    "duration": 0,
    "start_time": "2023-03-17T15:56:17.577Z"
   },
   {
    "duration": 0,
    "start_time": "2023-03-17T15:56:17.579Z"
   },
   {
    "duration": 0,
    "start_time": "2023-03-17T15:56:17.580Z"
   },
   {
    "duration": 0,
    "start_time": "2023-03-17T15:56:17.581Z"
   },
   {
    "duration": 1,
    "start_time": "2023-03-17T15:56:17.582Z"
   },
   {
    "duration": 0,
    "start_time": "2023-03-17T15:56:17.584Z"
   },
   {
    "duration": 0,
    "start_time": "2023-03-17T15:56:17.586Z"
   },
   {
    "duration": 0,
    "start_time": "2023-03-17T15:56:17.587Z"
   },
   {
    "duration": 0,
    "start_time": "2023-03-17T15:56:17.588Z"
   },
   {
    "duration": 0,
    "start_time": "2023-03-17T15:56:17.589Z"
   },
   {
    "duration": 0,
    "start_time": "2023-03-17T15:56:17.590Z"
   },
   {
    "duration": 5,
    "start_time": "2023-03-17T15:58:47.047Z"
   },
   {
    "duration": 4,
    "start_time": "2023-03-17T15:58:57.041Z"
   },
   {
    "duration": 7,
    "start_time": "2023-03-17T16:01:25.122Z"
   },
   {
    "duration": 6,
    "start_time": "2023-03-17T16:01:45.454Z"
   },
   {
    "duration": 3037,
    "start_time": "2023-03-17T16:07:17.339Z"
   },
   {
    "duration": 891,
    "start_time": "2023-03-17T16:07:20.378Z"
   },
   {
    "duration": 38,
    "start_time": "2023-03-17T16:07:21.271Z"
   },
   {
    "duration": 15,
    "start_time": "2023-03-17T16:07:21.311Z"
   },
   {
    "duration": 68,
    "start_time": "2023-03-17T16:07:21.328Z"
   },
   {
    "duration": 41,
    "start_time": "2023-03-17T16:07:21.398Z"
   },
   {
    "duration": 18,
    "start_time": "2023-03-17T16:07:21.441Z"
   },
   {
    "duration": 280,
    "start_time": "2023-03-17T16:07:21.461Z"
   },
   {
    "duration": 2583268,
    "start_time": "2023-03-17T16:07:21.743Z"
   },
   {
    "duration": 176,
    "start_time": "2023-03-17T16:50:25.014Z"
   },
   {
    "duration": 61,
    "start_time": "2023-03-17T16:50:25.201Z"
   },
   {
    "duration": 8132,
    "start_time": "2023-03-17T16:50:25.264Z"
   },
   {
    "duration": 3,
    "start_time": "2023-03-17T16:50:33.397Z"
   },
   {
    "duration": 410,
    "start_time": "2023-03-17T16:50:33.402Z"
   },
   {
    "duration": 0,
    "start_time": "2023-03-17T16:50:33.814Z"
   },
   {
    "duration": 0,
    "start_time": "2023-03-17T16:50:33.816Z"
   },
   {
    "duration": 0,
    "start_time": "2023-03-17T16:50:33.818Z"
   },
   {
    "duration": 0,
    "start_time": "2023-03-17T16:50:33.819Z"
   },
   {
    "duration": 0,
    "start_time": "2023-03-17T16:50:33.821Z"
   },
   {
    "duration": 0,
    "start_time": "2023-03-17T16:50:33.823Z"
   },
   {
    "duration": 0,
    "start_time": "2023-03-17T16:50:33.824Z"
   },
   {
    "duration": 0,
    "start_time": "2023-03-17T16:50:33.826Z"
   },
   {
    "duration": 0,
    "start_time": "2023-03-17T16:50:33.827Z"
   },
   {
    "duration": 0,
    "start_time": "2023-03-17T16:50:33.828Z"
   },
   {
    "duration": 0,
    "start_time": "2023-03-17T16:50:33.830Z"
   },
   {
    "duration": 1,
    "start_time": "2023-03-17T16:50:33.831Z"
   },
   {
    "duration": 0,
    "start_time": "2023-03-17T16:50:33.833Z"
   },
   {
    "duration": 0,
    "start_time": "2023-03-17T16:50:33.834Z"
   },
   {
    "duration": 0,
    "start_time": "2023-03-17T16:50:33.836Z"
   },
   {
    "duration": 0,
    "start_time": "2023-03-17T16:50:33.837Z"
   },
   {
    "duration": 3,
    "start_time": "2023-03-17T17:20:01.593Z"
   },
   {
    "duration": 24,
    "start_time": "2023-03-17T17:29:20.593Z"
   },
   {
    "duration": 111,
    "start_time": "2023-03-17T17:29:38.589Z"
   },
   {
    "duration": 58,
    "start_time": "2023-03-17T17:29:40.736Z"
   },
   {
    "duration": 4,
    "start_time": "2023-03-17T17:29:42.756Z"
   },
   {
    "duration": 28,
    "start_time": "2023-03-17T17:29:44.563Z"
   },
   {
    "duration": 2948,
    "start_time": "2023-03-17T17:30:17.113Z"
   },
   {
    "duration": 862,
    "start_time": "2023-03-17T17:30:20.063Z"
   },
   {
    "duration": 34,
    "start_time": "2023-03-17T17:30:20.927Z"
   },
   {
    "duration": 22,
    "start_time": "2023-03-17T17:30:20.963Z"
   },
   {
    "duration": 57,
    "start_time": "2023-03-17T17:30:20.987Z"
   },
   {
    "duration": 42,
    "start_time": "2023-03-17T17:30:21.046Z"
   },
   {
    "duration": 23,
    "start_time": "2023-03-17T17:30:21.090Z"
   },
   {
    "duration": 251,
    "start_time": "2023-03-17T17:30:21.115Z"
   },
   {
    "duration": 2446263,
    "start_time": "2023-03-17T17:30:21.368Z"
   },
   {
    "duration": 147,
    "start_time": "2023-03-17T18:11:07.634Z"
   },
   {
    "duration": 56,
    "start_time": "2023-03-17T18:11:07.783Z"
   },
   {
    "duration": 3,
    "start_time": "2023-03-17T18:11:07.841Z"
   },
   {
    "duration": 565,
    "start_time": "2023-03-17T18:11:07.845Z"
   },
   {
    "duration": 3,
    "start_time": "2023-03-17T18:11:08.412Z"
   },
   {
    "duration": 376,
    "start_time": "2023-03-17T18:11:08.417Z"
   },
   {
    "duration": 0,
    "start_time": "2023-03-17T18:11:08.796Z"
   },
   {
    "duration": 0,
    "start_time": "2023-03-17T18:11:08.797Z"
   },
   {
    "duration": 0,
    "start_time": "2023-03-17T18:11:08.798Z"
   },
   {
    "duration": 0,
    "start_time": "2023-03-17T18:11:08.800Z"
   },
   {
    "duration": 0,
    "start_time": "2023-03-17T18:11:08.801Z"
   },
   {
    "duration": 0,
    "start_time": "2023-03-17T18:11:08.803Z"
   },
   {
    "duration": 0,
    "start_time": "2023-03-17T18:11:08.805Z"
   },
   {
    "duration": 0,
    "start_time": "2023-03-17T18:11:08.806Z"
   },
   {
    "duration": 0,
    "start_time": "2023-03-17T18:11:08.808Z"
   },
   {
    "duration": 0,
    "start_time": "2023-03-17T18:11:08.809Z"
   },
   {
    "duration": 0,
    "start_time": "2023-03-17T18:11:08.811Z"
   },
   {
    "duration": 0,
    "start_time": "2023-03-17T18:11:08.812Z"
   },
   {
    "duration": 0,
    "start_time": "2023-03-17T18:11:08.814Z"
   },
   {
    "duration": 0,
    "start_time": "2023-03-17T18:11:08.815Z"
   },
   {
    "duration": 0,
    "start_time": "2023-03-17T18:11:08.816Z"
   },
   {
    "duration": 0,
    "start_time": "2023-03-17T18:11:08.818Z"
   },
   {
    "duration": 105,
    "start_time": "2023-03-17T18:37:17.148Z"
   },
   {
    "duration": 4,
    "start_time": "2023-03-17T18:37:20.057Z"
   },
   {
    "duration": 6,
    "start_time": "2023-03-17T18:37:23.389Z"
   },
   {
    "duration": 19,
    "start_time": "2023-03-17T18:37:25.455Z"
   },
   {
    "duration": 7217,
    "start_time": "2023-03-17T18:37:27.709Z"
   },
   {
    "duration": 4,
    "start_time": "2023-03-17T18:37:40.261Z"
   },
   {
    "duration": 2931,
    "start_time": "2023-03-17T18:38:34.036Z"
   },
   {
    "duration": 872,
    "start_time": "2023-03-17T18:38:36.970Z"
   },
   {
    "duration": 41,
    "start_time": "2023-03-17T18:38:37.843Z"
   },
   {
    "duration": 87,
    "start_time": "2023-03-17T18:38:37.887Z"
   },
   {
    "duration": 110,
    "start_time": "2023-03-17T18:38:37.976Z"
   },
   {
    "duration": 49,
    "start_time": "2023-03-17T18:38:38.089Z"
   },
   {
    "duration": 7,
    "start_time": "2023-03-17T18:38:38.140Z"
   },
   {
    "duration": 244,
    "start_time": "2023-03-17T18:38:38.149Z"
   },
   {
    "duration": 2514214,
    "start_time": "2023-03-17T18:38:38.395Z"
   },
   {
    "duration": 139,
    "start_time": "2023-03-17T19:20:32.612Z"
   },
   {
    "duration": 5,
    "start_time": "2023-03-17T19:20:32.752Z"
   },
   {
    "duration": 7,
    "start_time": "2023-03-17T19:20:32.759Z"
   },
   {
    "duration": 25,
    "start_time": "2023-03-17T19:20:32.768Z"
   },
   {
    "duration": 7,
    "start_time": "2023-03-17T19:20:32.795Z"
   },
   {
    "duration": 7817,
    "start_time": "2023-03-17T19:20:32.803Z"
   },
   {
    "duration": 409,
    "start_time": "2023-03-17T19:20:40.621Z"
   },
   {
    "duration": 0,
    "start_time": "2023-03-17T19:20:41.032Z"
   },
   {
    "duration": 0,
    "start_time": "2023-03-17T19:20:41.033Z"
   },
   {
    "duration": 0,
    "start_time": "2023-03-17T19:20:41.034Z"
   },
   {
    "duration": 0,
    "start_time": "2023-03-17T19:20:41.035Z"
   },
   {
    "duration": 0,
    "start_time": "2023-03-17T19:20:41.036Z"
   },
   {
    "duration": 0,
    "start_time": "2023-03-17T19:20:41.037Z"
   },
   {
    "duration": 0,
    "start_time": "2023-03-17T19:20:41.039Z"
   },
   {
    "duration": 0,
    "start_time": "2023-03-17T19:20:41.040Z"
   },
   {
    "duration": 0,
    "start_time": "2023-03-17T19:20:41.041Z"
   },
   {
    "duration": 0,
    "start_time": "2023-03-17T19:20:41.042Z"
   },
   {
    "duration": 0,
    "start_time": "2023-03-17T19:20:41.043Z"
   },
   {
    "duration": 0,
    "start_time": "2023-03-17T19:20:41.044Z"
   },
   {
    "duration": 0,
    "start_time": "2023-03-17T19:20:41.045Z"
   },
   {
    "duration": 0,
    "start_time": "2023-03-17T19:20:41.046Z"
   },
   {
    "duration": 0,
    "start_time": "2023-03-17T19:20:41.047Z"
   },
   {
    "duration": 0,
    "start_time": "2023-03-17T19:20:41.077Z"
   },
   {
    "duration": 0,
    "start_time": "2023-03-17T19:20:41.078Z"
   },
   {
    "duration": 0,
    "start_time": "2023-03-17T19:20:41.078Z"
   },
   {
    "duration": 0,
    "start_time": "2023-03-17T19:20:41.079Z"
   },
   {
    "duration": 4,
    "start_time": "2023-03-17T19:49:27.053Z"
   },
   {
    "duration": 69,
    "start_time": "2023-03-17T19:49:49.349Z"
   },
   {
    "duration": 66,
    "start_time": "2023-03-17T19:50:26.403Z"
   },
   {
    "duration": 62,
    "start_time": "2023-03-17T19:50:54.875Z"
   },
   {
    "duration": 5,
    "start_time": "2023-03-17T20:21:25.020Z"
   },
   {
    "duration": 21,
    "start_time": "2023-03-17T20:21:46.962Z"
   },
   {
    "duration": 3,
    "start_time": "2023-03-17T20:21:50.732Z"
   },
   {
    "duration": 26,
    "start_time": "2023-03-17T20:21:52.409Z"
   },
   {
    "duration": 21,
    "start_time": "2023-03-17T20:22:14.000Z"
   },
   {
    "duration": 58,
    "start_time": "2023-03-17T20:22:35.574Z"
   },
   {
    "duration": 25,
    "start_time": "2023-03-17T20:22:40.522Z"
   },
   {
    "duration": 4,
    "start_time": "2023-03-17T20:22:57.992Z"
   },
   {
    "duration": 23,
    "start_time": "2023-03-17T20:23:03.285Z"
   },
   {
    "duration": 1007676,
    "start_time": "2023-03-17T20:23:13.004Z"
   },
   {
    "duration": 65,
    "start_time": "2023-03-17T20:51:42.243Z"
   },
   {
    "duration": 4408,
    "start_time": "2023-03-17T20:51:59.065Z"
   },
   {
    "duration": 1323,
    "start_time": "2023-03-17T20:52:03.475Z"
   },
   {
    "duration": 34,
    "start_time": "2023-03-17T20:52:04.800Z"
   },
   {
    "duration": 14,
    "start_time": "2023-03-17T20:52:04.837Z"
   },
   {
    "duration": 71,
    "start_time": "2023-03-17T20:52:04.853Z"
   },
   {
    "duration": 36,
    "start_time": "2023-03-17T20:52:04.926Z"
   },
   {
    "duration": 7,
    "start_time": "2023-03-17T20:52:04.977Z"
   },
   {
    "duration": 263,
    "start_time": "2023-03-17T20:52:04.985Z"
   },
   {
    "duration": 1165610,
    "start_time": "2023-03-17T20:52:05.250Z"
   },
   {
    "duration": 0,
    "start_time": "2023-03-17T21:11:30.862Z"
   },
   {
    "duration": 0,
    "start_time": "2023-03-17T21:11:30.863Z"
   },
   {
    "duration": 0,
    "start_time": "2023-03-17T21:11:30.865Z"
   },
   {
    "duration": 81978,
    "start_time": "2023-03-17T21:13:21.227Z"
   },
   {
    "duration": 105,
    "start_time": "2023-03-17T21:14:55.672Z"
   },
   {
    "duration": 22,
    "start_time": "2023-03-17T21:15:01.915Z"
   },
   {
    "duration": 995,
    "start_time": "2023-03-17T21:15:23.855Z"
   },
   {
    "duration": 36,
    "start_time": "2023-03-17T21:18:50.491Z"
   },
   {
    "duration": 9,
    "start_time": "2023-03-17T21:19:15.730Z"
   },
   {
    "duration": 7,
    "start_time": "2023-03-17T21:19:35.214Z"
   },
   {
    "duration": 82,
    "start_time": "2023-03-17T21:21:56.184Z"
   },
   {
    "duration": 74,
    "start_time": "2023-03-17T21:22:41.502Z"
   },
   {
    "duration": 26,
    "start_time": "2023-03-17T21:22:52.213Z"
   },
   {
    "duration": 25,
    "start_time": "2023-03-17T21:22:54.232Z"
   },
   {
    "duration": 903,
    "start_time": "2023-03-17T21:23:12.419Z"
   },
   {
    "duration": 7,
    "start_time": "2023-03-17T21:25:38.011Z"
   },
   {
    "duration": 802,
    "start_time": "2023-03-17T21:25:38.020Z"
   },
   {
    "duration": 30,
    "start_time": "2023-03-17T21:25:38.824Z"
   },
   {
    "duration": 7,
    "start_time": "2023-03-17T21:25:38.856Z"
   },
   {
    "duration": 48,
    "start_time": "2023-03-17T21:25:38.877Z"
   },
   {
    "duration": 30,
    "start_time": "2023-03-17T21:25:38.927Z"
   },
   {
    "duration": 22,
    "start_time": "2023-03-17T21:25:38.959Z"
   },
   {
    "duration": 134,
    "start_time": "2023-03-17T21:25:38.982Z"
   },
   {
    "duration": 82528,
    "start_time": "2023-03-17T21:25:39.118Z"
   },
   {
    "duration": 113,
    "start_time": "2023-03-17T21:27:01.648Z"
   },
   {
    "duration": 16,
    "start_time": "2023-03-17T21:27:01.763Z"
   },
   {
    "duration": 33,
    "start_time": "2023-03-17T21:27:33.903Z"
   },
   {
    "duration": 34,
    "start_time": "2023-03-17T21:28:47.000Z"
   },
   {
    "duration": 28,
    "start_time": "2023-03-17T21:30:27.196Z"
   },
   {
    "duration": 15,
    "start_time": "2023-03-17T21:32:14.780Z"
   },
   {
    "duration": 16,
    "start_time": "2023-03-17T21:33:54.217Z"
   },
   {
    "duration": 4,
    "start_time": "2023-03-17T21:34:33.279Z"
   },
   {
    "duration": 3,
    "start_time": "2023-03-17T21:36:11.476Z"
   },
   {
    "duration": 4,
    "start_time": "2023-03-17T21:36:13.125Z"
   },
   {
    "duration": 3746,
    "start_time": "2023-03-17T21:36:14.926Z"
   },
   {
    "duration": 20,
    "start_time": "2023-03-17T21:36:19.899Z"
   },
   {
    "duration": 20,
    "start_time": "2023-03-17T21:36:21.939Z"
   },
   {
    "duration": 3960,
    "start_time": "2023-03-17T21:36:43.603Z"
   },
   {
    "duration": 5,
    "start_time": "2023-03-17T21:36:48.913Z"
   },
   {
    "duration": 2,
    "start_time": "2023-03-17T21:37:17.558Z"
   },
   {
    "duration": 189,
    "start_time": "2023-03-17T21:37:20.962Z"
   },
   {
    "duration": 990,
    "start_time": "2023-03-17T21:38:27.490Z"
   },
   {
    "duration": 655,
    "start_time": "2023-03-17T21:38:51.400Z"
   },
   {
    "duration": 55,
    "start_time": "2023-03-17T21:39:29.826Z"
   },
   {
    "duration": 20319,
    "start_time": "2023-03-17T21:42:13.110Z"
   },
   {
    "duration": 45247,
    "start_time": "2023-03-17T21:42:41.651Z"
   },
   {
    "duration": 2773,
    "start_time": "2023-03-17T21:59:16.949Z"
   },
   {
    "duration": 853,
    "start_time": "2023-03-17T21:59:19.724Z"
   },
   {
    "duration": 33,
    "start_time": "2023-03-17T21:59:20.579Z"
   },
   {
    "duration": 10,
    "start_time": "2023-03-17T21:59:20.614Z"
   },
   {
    "duration": 71,
    "start_time": "2023-03-17T21:59:20.625Z"
   },
   {
    "duration": 33,
    "start_time": "2023-03-17T21:59:20.698Z"
   },
   {
    "duration": 6,
    "start_time": "2023-03-17T21:59:20.732Z"
   },
   {
    "duration": 265,
    "start_time": "2023-03-17T21:59:20.740Z"
   },
   {
    "duration": 84664,
    "start_time": "2023-03-17T21:59:21.007Z"
   },
   {
    "duration": 103,
    "start_time": "2023-03-17T22:00:45.676Z"
   },
   {
    "duration": 22,
    "start_time": "2023-03-17T22:00:45.781Z"
   },
   {
    "duration": 12,
    "start_time": "2023-03-17T22:00:45.804Z"
   },
   {
    "duration": 26,
    "start_time": "2023-03-17T22:00:45.818Z"
   },
   {
    "duration": 20,
    "start_time": "2023-03-17T22:00:45.846Z"
   },
   {
    "duration": 35,
    "start_time": "2023-03-17T22:00:45.868Z"
   },
   {
    "duration": 22,
    "start_time": "2023-03-17T22:00:45.905Z"
   },
   {
    "duration": 3933,
    "start_time": "2023-03-17T22:00:45.928Z"
   },
   {
    "duration": 5,
    "start_time": "2023-03-17T22:00:49.862Z"
   },
   {
    "duration": 201,
    "start_time": "2023-03-17T22:00:49.868Z"
   },
   {
    "duration": 0,
    "start_time": "2023-03-17T22:00:50.071Z"
   },
   {
    "duration": 3,
    "start_time": "2023-03-17T22:01:36.100Z"
   },
   {
    "duration": 2789,
    "start_time": "2023-03-17T23:14:53.659Z"
   },
   {
    "duration": 816,
    "start_time": "2023-03-17T23:14:56.450Z"
   },
   {
    "duration": 33,
    "start_time": "2023-03-17T23:14:57.268Z"
   },
   {
    "duration": 10,
    "start_time": "2023-03-17T23:14:57.304Z"
   },
   {
    "duration": 69,
    "start_time": "2023-03-17T23:14:57.315Z"
   },
   {
    "duration": 30,
    "start_time": "2023-03-17T23:14:57.386Z"
   },
   {
    "duration": 6,
    "start_time": "2023-03-17T23:14:57.418Z"
   },
   {
    "duration": 248,
    "start_time": "2023-03-17T23:14:57.425Z"
   },
   {
    "duration": 82679,
    "start_time": "2023-03-17T23:14:57.676Z"
   },
   {
    "duration": 106,
    "start_time": "2023-03-17T23:16:20.358Z"
   },
   {
    "duration": 30,
    "start_time": "2023-03-17T23:16:20.466Z"
   },
   {
    "duration": 13,
    "start_time": "2023-03-17T23:16:20.498Z"
   },
   {
    "duration": 12,
    "start_time": "2023-03-17T23:16:20.513Z"
   },
   {
    "duration": 19,
    "start_time": "2023-03-17T23:16:20.527Z"
   },
   {
    "duration": 17,
    "start_time": "2023-03-17T23:16:20.548Z"
   },
   {
    "duration": 21,
    "start_time": "2023-03-17T23:16:20.567Z"
   },
   {
    "duration": 3912,
    "start_time": "2023-03-17T23:16:20.590Z"
   },
   {
    "duration": 6,
    "start_time": "2023-03-17T23:16:24.504Z"
   },
   {
    "duration": 6,
    "start_time": "2023-03-17T23:16:24.512Z"
   },
   {
    "duration": 385458,
    "start_time": "2023-03-17T23:16:24.520Z"
   },
   {
    "duration": 273,
    "start_time": "2023-03-17T23:22:49.981Z"
   },
   {
    "duration": 0,
    "start_time": "2023-03-17T23:22:50.256Z"
   },
   {
    "duration": 0,
    "start_time": "2023-03-17T23:22:50.256Z"
   },
   {
    "duration": 0,
    "start_time": "2023-03-17T23:22:50.257Z"
   },
   {
    "duration": 0,
    "start_time": "2023-03-17T23:22:50.258Z"
   },
   {
    "duration": 0,
    "start_time": "2023-03-17T23:22:50.259Z"
   },
   {
    "duration": 0,
    "start_time": "2023-03-17T23:22:50.260Z"
   },
   {
    "duration": 0,
    "start_time": "2023-03-17T23:22:50.261Z"
   },
   {
    "duration": 0,
    "start_time": "2023-03-17T23:22:50.262Z"
   },
   {
    "duration": 0,
    "start_time": "2023-03-17T23:22:50.263Z"
   },
   {
    "duration": 0,
    "start_time": "2023-03-17T23:22:50.264Z"
   },
   {
    "duration": 0,
    "start_time": "2023-03-17T23:22:50.265Z"
   },
   {
    "duration": 0,
    "start_time": "2023-03-17T23:22:50.266Z"
   },
   {
    "duration": 0,
    "start_time": "2023-03-17T23:22:50.277Z"
   },
   {
    "duration": 0,
    "start_time": "2023-03-17T23:22:50.278Z"
   },
   {
    "duration": 0,
    "start_time": "2023-03-17T23:22:50.279Z"
   },
   {
    "duration": 6,
    "start_time": "2023-03-17T23:25:34.607Z"
   },
   {
    "duration": 133794,
    "start_time": "2023-03-17T23:27:17.577Z"
   },
   {
    "duration": 211,
    "start_time": "2023-03-17T23:29:31.376Z"
   },
   {
    "duration": 5280021,
    "start_time": "2023-03-17T23:29:31.589Z"
   },
   {
    "duration": 385,
    "start_time": "2023-03-18T00:57:31.612Z"
   },
   {
    "duration": 23096,
    "start_time": "2023-03-18T00:57:31.999Z"
   },
   {
    "duration": 85,
    "start_time": "2023-03-18T00:57:55.097Z"
   },
   {
    "duration": 4,
    "start_time": "2023-03-18T00:57:55.184Z"
   },
   {
    "duration": 33,
    "start_time": "2023-03-18T00:57:55.189Z"
   },
   {
    "duration": 176,
    "start_time": "2023-03-18T00:57:55.224Z"
   },
   {
    "duration": 494,
    "start_time": "2023-03-18T00:57:55.402Z"
   },
   {
    "duration": 18,
    "start_time": "2023-03-18T00:57:55.898Z"
   },
   {
    "duration": 2,
    "start_time": "2023-03-18T00:57:55.918Z"
   },
   {
    "duration": 18,
    "start_time": "2023-03-18T00:57:55.922Z"
   },
   {
    "duration": 235,
    "start_time": "2023-03-18T00:57:55.942Z"
   },
   {
    "duration": 603,
    "start_time": "2023-03-18T00:57:56.178Z"
   },
   {
    "duration": 35,
    "start_time": "2023-03-18T01:03:02.834Z"
   },
   {
    "duration": 20,
    "start_time": "2023-03-18T01:03:14.980Z"
   },
   {
    "duration": 6,
    "start_time": "2023-03-18T01:03:17.109Z"
   },
   {
    "duration": 6,
    "start_time": "2023-03-18T01:03:23.676Z"
   },
   {
    "duration": 12,
    "start_time": "2023-03-18T01:03:27.115Z"
   },
   {
    "duration": 2700,
    "start_time": "2023-03-18T01:03:40.272Z"
   },
   {
    "duration": 803,
    "start_time": "2023-03-18T01:03:42.976Z"
   },
   {
    "duration": 30,
    "start_time": "2023-03-18T01:03:43.781Z"
   },
   {
    "duration": 27,
    "start_time": "2023-03-18T01:03:43.813Z"
   },
   {
    "duration": 82,
    "start_time": "2023-03-18T01:03:43.842Z"
   },
   {
    "duration": 39,
    "start_time": "2023-03-18T01:03:43.926Z"
   },
   {
    "duration": 27,
    "start_time": "2023-03-18T01:03:43.967Z"
   },
   {
    "duration": 227,
    "start_time": "2023-03-18T01:03:43.995Z"
   },
   {
    "duration": 81605,
    "start_time": "2023-03-18T01:03:44.224Z"
   },
   {
    "duration": 108,
    "start_time": "2023-03-18T01:05:05.832Z"
   },
   {
    "duration": 45,
    "start_time": "2023-03-18T01:05:05.941Z"
   },
   {
    "duration": 20,
    "start_time": "2023-03-18T01:05:05.988Z"
   },
   {
    "duration": 27,
    "start_time": "2023-03-18T01:05:06.009Z"
   },
   {
    "duration": 18,
    "start_time": "2023-03-18T01:05:06.038Z"
   },
   {
    "duration": 26,
    "start_time": "2023-03-18T01:05:06.058Z"
   },
   {
    "duration": 22,
    "start_time": "2023-03-18T01:05:06.085Z"
   },
   {
    "duration": 11117,
    "start_time": "2023-03-18T01:05:06.109Z"
   },
   {
    "duration": 5,
    "start_time": "2023-03-18T01:05:17.228Z"
   },
   {
    "duration": 8,
    "start_time": "2023-03-18T01:05:17.235Z"
   },
   {
    "duration": 1035933,
    "start_time": "2023-03-18T01:05:17.245Z"
   },
   {
    "duration": 106,
    "start_time": "2023-03-18T01:22:33.181Z"
   },
   {
    "duration": 2099019,
    "start_time": "2023-03-18T01:22:33.289Z"
   },
   {
    "duration": 1831,
    "start_time": "2023-03-18T01:57:32.310Z"
   },
   {
    "duration": 53,
    "start_time": "2023-03-18T08:02:36.319Z"
   },
   {
    "duration": 4880,
    "start_time": "2023-03-18T08:02:58.928Z"
   },
   {
    "duration": 1291,
    "start_time": "2023-03-18T08:03:03.810Z"
   },
   {
    "duration": 31,
    "start_time": "2023-03-18T08:03:05.103Z"
   },
   {
    "duration": 28,
    "start_time": "2023-03-18T08:03:05.137Z"
   },
   {
    "duration": 83,
    "start_time": "2023-03-18T08:03:05.167Z"
   },
   {
    "duration": 37,
    "start_time": "2023-03-18T08:03:05.252Z"
   },
   {
    "duration": 31,
    "start_time": "2023-03-18T08:03:05.292Z"
   },
   {
    "duration": 267,
    "start_time": "2023-03-18T08:03:05.324Z"
   },
   {
    "duration": 95053,
    "start_time": "2023-03-18T08:03:05.597Z"
   },
   {
    "duration": 98,
    "start_time": "2023-03-18T08:04:40.653Z"
   },
   {
    "duration": 47,
    "start_time": "2023-03-18T08:04:40.754Z"
   },
   {
    "duration": 17,
    "start_time": "2023-03-18T08:04:40.803Z"
   },
   {
    "duration": 42,
    "start_time": "2023-03-18T08:04:40.821Z"
   },
   {
    "duration": 7,
    "start_time": "2023-03-18T08:04:40.865Z"
   },
   {
    "duration": 23,
    "start_time": "2023-03-18T08:04:40.874Z"
   },
   {
    "duration": 22,
    "start_time": "2023-03-18T08:04:40.898Z"
   },
   {
    "duration": 12607,
    "start_time": "2023-03-18T08:04:40.922Z"
   },
   {
    "duration": 4,
    "start_time": "2023-03-18T08:04:53.531Z"
   },
   {
    "duration": 33,
    "start_time": "2023-03-18T08:04:53.537Z"
   },
   {
    "duration": 10,
    "start_time": "2023-03-18T08:34:32.639Z"
   },
   {
    "duration": 896,
    "start_time": "2023-03-18T08:34:32.652Z"
   },
   {
    "duration": 37,
    "start_time": "2023-03-18T08:34:33.550Z"
   },
   {
    "duration": 17,
    "start_time": "2023-03-18T08:34:33.589Z"
   },
   {
    "duration": 52,
    "start_time": "2023-03-18T08:34:33.608Z"
   },
   {
    "duration": 40,
    "start_time": "2023-03-18T08:34:33.662Z"
   },
   {
    "duration": 7,
    "start_time": "2023-03-18T08:34:33.704Z"
   },
   {
    "duration": 156,
    "start_time": "2023-03-18T08:34:33.712Z"
   },
   {
    "duration": 105210,
    "start_time": "2023-03-18T08:34:33.870Z"
   },
   {
    "duration": 121,
    "start_time": "2023-03-18T08:36:19.085Z"
   },
   {
    "duration": 44,
    "start_time": "2023-03-18T08:36:19.208Z"
   },
   {
    "duration": 23,
    "start_time": "2023-03-18T08:36:19.254Z"
   },
   {
    "duration": 35,
    "start_time": "2023-03-18T08:36:19.278Z"
   },
   {
    "duration": 7,
    "start_time": "2023-03-18T08:36:19.315Z"
   },
   {
    "duration": 37,
    "start_time": "2023-03-18T08:36:19.324Z"
   },
   {
    "duration": 59,
    "start_time": "2023-03-18T08:36:19.363Z"
   },
   {
    "duration": 13710,
    "start_time": "2023-03-18T08:36:19.424Z"
   },
   {
    "duration": 6,
    "start_time": "2023-03-18T08:36:33.135Z"
   },
   {
    "duration": 11,
    "start_time": "2023-03-18T08:36:33.143Z"
   },
   {
    "duration": 530277,
    "start_time": "2023-03-18T08:54:35.875Z"
   },
   {
    "duration": 10,
    "start_time": "2023-03-18T09:22:57.145Z"
   },
   {
    "duration": 50,
    "start_time": "2023-03-18T09:25:17.622Z"
   },
   {
    "duration": 46,
    "start_time": "2023-03-18T09:25:23.167Z"
   },
   {
    "duration": 133,
    "start_time": "2023-03-18T09:25:55.622Z"
   },
   {
    "duration": 14,
    "start_time": "2023-03-18T09:26:34.373Z"
   },
   {
    "duration": 15,
    "start_time": "2023-03-18T09:27:01.855Z"
   },
   {
    "duration": 410,
    "start_time": "2023-03-18T09:27:18.494Z"
   },
   {
    "duration": 4,
    "start_time": "2023-03-18T09:28:07.587Z"
   },
   {
    "duration": 16176,
    "start_time": "2023-03-18T09:28:52.171Z"
   },
   {
    "duration": 954778,
    "start_time": "2023-03-18T09:29:17.207Z"
   },
   {
    "duration": 1514439,
    "start_time": "2023-03-18T09:59:43.097Z"
   },
   {
    "duration": 14,
    "start_time": "2023-03-18T10:27:02.689Z"
   },
   {
    "duration": 936136,
    "start_time": "2023-03-18T10:27:34.279Z"
   },
   {
    "duration": 914941,
    "start_time": "2023-03-18T10:44:21.322Z"
   },
   {
    "duration": 256281,
    "start_time": "2023-03-18T13:39:59.418Z"
   },
   {
    "duration": 51,
    "start_time": "2023-03-18T14:05:18.720Z"
   },
   {
    "duration": 5068,
    "start_time": "2023-03-18T14:05:39.652Z"
   },
   {
    "duration": 1549,
    "start_time": "2023-03-18T14:05:44.723Z"
   },
   {
    "duration": 46,
    "start_time": "2023-03-18T14:05:46.274Z"
   },
   {
    "duration": 11,
    "start_time": "2023-03-18T14:05:46.322Z"
   },
   {
    "duration": 78,
    "start_time": "2023-03-18T14:05:46.336Z"
   },
   {
    "duration": 39,
    "start_time": "2023-03-18T14:05:46.417Z"
   },
   {
    "duration": 13,
    "start_time": "2023-03-18T14:05:46.459Z"
   },
   {
    "duration": 290,
    "start_time": "2023-03-18T14:05:46.474Z"
   },
   {
    "duration": 3205,
    "start_time": "2023-03-18T14:05:57.315Z"
   },
   {
    "duration": 950,
    "start_time": "2023-03-18T14:06:00.522Z"
   },
   {
    "duration": 43,
    "start_time": "2023-03-18T14:06:01.474Z"
   },
   {
    "duration": 15,
    "start_time": "2023-03-18T14:06:01.520Z"
   },
   {
    "duration": 83,
    "start_time": "2023-03-18T14:06:01.536Z"
   },
   {
    "duration": 39,
    "start_time": "2023-03-18T14:06:01.621Z"
   },
   {
    "duration": 57,
    "start_time": "2023-03-18T14:06:01.663Z"
   },
   {
    "duration": 295,
    "start_time": "2023-03-18T14:06:01.722Z"
   },
   {
    "duration": 114144,
    "start_time": "2023-03-18T14:06:02.019Z"
   },
   {
    "duration": 146,
    "start_time": "2023-03-18T14:07:56.166Z"
   },
   {
    "duration": 20,
    "start_time": "2023-03-18T14:07:56.317Z"
   },
   {
    "duration": 35,
    "start_time": "2023-03-18T14:07:56.340Z"
   },
   {
    "duration": 51,
    "start_time": "2023-03-18T14:07:56.376Z"
   },
   {
    "duration": 9,
    "start_time": "2023-03-18T14:07:56.429Z"
   },
   {
    "duration": 23,
    "start_time": "2023-03-18T14:07:56.442Z"
   },
   {
    "duration": 62,
    "start_time": "2023-03-18T14:07:56.467Z"
   },
   {
    "duration": 36,
    "start_time": "2023-03-18T14:07:56.532Z"
   },
   {
    "duration": 21347,
    "start_time": "2023-03-18T14:07:56.571Z"
   },
   {
    "duration": 6,
    "start_time": "2023-03-18T14:08:17.920Z"
   },
   {
    "duration": 23,
    "start_time": "2023-03-18T14:08:17.928Z"
   },
   {
    "duration": 292311,
    "start_time": "2023-03-18T14:08:45.009Z"
   },
   {
    "duration": 29,
    "start_time": "2023-03-18T14:24:28.199Z"
   },
   {
    "duration": 200,
    "start_time": "2023-03-18T14:26:19.735Z"
   },
   {
    "duration": 5,
    "start_time": "2023-03-18T14:26:37.609Z"
   },
   {
    "duration": 10,
    "start_time": "2023-03-18T14:27:00.883Z"
   },
   {
    "duration": 18966,
    "start_time": "2023-03-18T14:28:42.521Z"
   },
   {
    "duration": 3076,
    "start_time": "2023-03-18T14:29:11.746Z"
   },
   {
    "duration": 878,
    "start_time": "2023-03-18T14:29:14.824Z"
   },
   {
    "duration": 34,
    "start_time": "2023-03-18T14:29:15.704Z"
   },
   {
    "duration": 14,
    "start_time": "2023-03-18T14:29:15.740Z"
   },
   {
    "duration": 77,
    "start_time": "2023-03-18T14:29:15.756Z"
   },
   {
    "duration": 47,
    "start_time": "2023-03-18T14:29:15.835Z"
   },
   {
    "duration": 9,
    "start_time": "2023-03-18T14:29:15.890Z"
   },
   {
    "duration": 269,
    "start_time": "2023-03-18T14:29:15.900Z"
   },
   {
    "duration": 97191,
    "start_time": "2023-03-18T14:29:16.171Z"
   },
   {
    "duration": 102,
    "start_time": "2023-03-18T14:30:53.365Z"
   },
   {
    "duration": 24,
    "start_time": "2023-03-18T14:30:53.469Z"
   },
   {
    "duration": 25,
    "start_time": "2023-03-18T14:30:53.496Z"
   },
   {
    "duration": 12,
    "start_time": "2023-03-18T14:30:53.522Z"
   },
   {
    "duration": 14,
    "start_time": "2023-03-18T14:30:53.536Z"
   },
   {
    "duration": 11,
    "start_time": "2023-03-18T14:30:53.552Z"
   },
   {
    "duration": 29,
    "start_time": "2023-03-18T14:30:53.576Z"
   },
   {
    "duration": 15,
    "start_time": "2023-03-18T14:30:53.608Z"
   },
   {
    "duration": 10383,
    "start_time": "2023-03-18T14:30:53.625Z"
   },
   {
    "duration": 4,
    "start_time": "2023-03-18T14:31:04.010Z"
   },
   {
    "duration": 27,
    "start_time": "2023-03-18T14:31:04.016Z"
   },
   {
    "duration": 224,
    "start_time": "2023-03-18T14:31:04.045Z"
   },
   {
    "duration": 0,
    "start_time": "2023-03-18T14:31:04.271Z"
   },
   {
    "duration": 0,
    "start_time": "2023-03-18T14:31:04.272Z"
   },
   {
    "duration": 0,
    "start_time": "2023-03-18T14:31:04.273Z"
   },
   {
    "duration": 0,
    "start_time": "2023-03-18T14:31:04.274Z"
   },
   {
    "duration": 0,
    "start_time": "2023-03-18T14:31:04.278Z"
   },
   {
    "duration": 0,
    "start_time": "2023-03-18T14:31:04.279Z"
   },
   {
    "duration": 0,
    "start_time": "2023-03-18T14:31:04.280Z"
   },
   {
    "duration": 0,
    "start_time": "2023-03-18T14:31:04.280Z"
   },
   {
    "duration": 0,
    "start_time": "2023-03-18T14:31:04.283Z"
   },
   {
    "duration": 0,
    "start_time": "2023-03-18T14:31:04.284Z"
   },
   {
    "duration": 0,
    "start_time": "2023-03-18T14:31:04.284Z"
   },
   {
    "duration": 0,
    "start_time": "2023-03-18T14:31:04.285Z"
   },
   {
    "duration": 0,
    "start_time": "2023-03-18T14:31:04.288Z"
   },
   {
    "duration": 0,
    "start_time": "2023-03-18T14:31:04.289Z"
   },
   {
    "duration": 0,
    "start_time": "2023-03-18T14:31:04.290Z"
   },
   {
    "duration": 0,
    "start_time": "2023-03-18T14:31:04.291Z"
   },
   {
    "duration": 3198,
    "start_time": "2023-03-18T14:33:49.568Z"
   },
   {
    "duration": 919,
    "start_time": "2023-03-18T14:33:52.768Z"
   },
   {
    "duration": 33,
    "start_time": "2023-03-18T14:33:53.688Z"
   },
   {
    "duration": 11,
    "start_time": "2023-03-18T14:33:53.722Z"
   },
   {
    "duration": 70,
    "start_time": "2023-03-18T14:33:53.736Z"
   },
   {
    "duration": 33,
    "start_time": "2023-03-18T14:33:53.807Z"
   },
   {
    "duration": 7,
    "start_time": "2023-03-18T14:33:53.842Z"
   },
   {
    "duration": 281,
    "start_time": "2023-03-18T14:33:53.851Z"
   },
   {
    "duration": 96316,
    "start_time": "2023-03-18T14:33:54.134Z"
   },
   {
    "duration": 109,
    "start_time": "2023-03-18T14:35:30.451Z"
   },
   {
    "duration": 19,
    "start_time": "2023-03-18T14:35:30.562Z"
   },
   {
    "duration": 76,
    "start_time": "2023-03-18T14:35:30.587Z"
   },
   {
    "duration": 55,
    "start_time": "2023-03-18T14:35:30.665Z"
   },
   {
    "duration": 35,
    "start_time": "2023-03-18T14:35:30.723Z"
   },
   {
    "duration": 57,
    "start_time": "2023-03-18T14:35:30.760Z"
   },
   {
    "duration": 37,
    "start_time": "2023-03-18T14:35:30.819Z"
   },
   {
    "duration": 64,
    "start_time": "2023-03-18T14:35:30.858Z"
   },
   {
    "duration": 10747,
    "start_time": "2023-03-18T14:35:30.923Z"
   },
   {
    "duration": 12,
    "start_time": "2023-03-18T14:35:41.672Z"
   },
   {
    "duration": 39,
    "start_time": "2023-03-18T14:35:41.685Z"
   },
   {
    "duration": 1036274,
    "start_time": "2023-03-18T14:35:41.726Z"
   },
   {
    "duration": 12,
    "start_time": "2023-03-18T14:52:58.077Z"
   },
   {
    "duration": 1054514,
    "start_time": "2023-03-18T14:52:58.095Z"
   },
   {
    "duration": 255,
    "start_time": "2023-03-18T15:10:32.612Z"
   },
   {
    "duration": 6341299,
    "start_time": "2023-03-18T15:10:32.870Z"
   },
   {
    "duration": 611,
    "start_time": "2023-03-18T16:56:14.186Z"
   },
   {
    "duration": 452605,
    "start_time": "2023-03-18T16:56:14.799Z"
   },
   {
    "duration": 490,
    "start_time": "2023-03-18T17:03:47.405Z"
   },
   {
    "duration": 7,
    "start_time": "2023-03-18T17:03:47.900Z"
   },
   {
    "duration": 20,
    "start_time": "2023-03-18T17:03:47.909Z"
   },
   {
    "duration": 215,
    "start_time": "2023-03-18T17:03:47.931Z"
   },
   {
    "duration": 748,
    "start_time": "2023-03-18T17:03:48.149Z"
   },
   {
    "duration": 26,
    "start_time": "2023-03-18T17:03:48.899Z"
   },
   {
    "duration": 15,
    "start_time": "2023-03-18T17:03:48.927Z"
   },
   {
    "duration": 12,
    "start_time": "2023-03-18T17:03:48.944Z"
   },
   {
    "duration": 268,
    "start_time": "2023-03-18T17:03:48.958Z"
   },
   {
    "duration": 893,
    "start_time": "2023-03-18T17:03:49.228Z"
   },
   {
    "duration": 20,
    "start_time": "2023-03-18T17:14:15.052Z"
   },
   {
    "duration": 207,
    "start_time": "2023-03-18T17:20:11.119Z"
   },
   {
    "duration": 17,
    "start_time": "2023-03-18T17:20:19.629Z"
   },
   {
    "duration": 536,
    "start_time": "2023-03-18T17:20:35.650Z"
   },
   {
    "duration": 16,
    "start_time": "2023-03-18T17:21:32.948Z"
   },
   {
    "duration": 7321370,
    "start_time": "2023-03-18T17:25:09.442Z"
   },
   {
    "duration": 4,
    "start_time": "2023-03-18T19:27:30.119Z"
   },
   {
    "duration": 1742586,
    "start_time": "2023-03-18T19:31:31.292Z"
   },
   {
    "duration": 52,
    "start_time": "2023-03-18T20:22:27.065Z"
   },
   {
    "duration": 2908,
    "start_time": "2023-03-18T20:23:48.956Z"
   },
   {
    "duration": 1051,
    "start_time": "2023-03-18T20:23:51.866Z"
   },
   {
    "duration": 145,
    "start_time": "2023-03-18T20:23:52.919Z"
   },
   {
    "duration": 15,
    "start_time": "2023-03-18T20:23:53.067Z"
   },
   {
    "duration": 58,
    "start_time": "2023-03-18T20:23:53.084Z"
   },
   {
    "duration": 53,
    "start_time": "2023-03-18T20:23:53.144Z"
   },
   {
    "duration": 7,
    "start_time": "2023-03-18T20:23:53.199Z"
   },
   {
    "duration": 166,
    "start_time": "2023-03-18T20:23:53.208Z"
   },
   {
    "duration": 95654,
    "start_time": "2023-03-18T20:23:53.378Z"
   },
   {
    "duration": 118,
    "start_time": "2023-03-18T20:25:29.036Z"
   },
   {
    "duration": 10,
    "start_time": "2023-03-18T20:25:29.156Z"
   },
   {
    "duration": 33,
    "start_time": "2023-03-18T20:25:29.179Z"
   },
   {
    "duration": 10,
    "start_time": "2023-03-18T20:25:29.214Z"
   },
   {
    "duration": 11,
    "start_time": "2023-03-18T20:25:29.226Z"
   },
   {
    "duration": 14,
    "start_time": "2023-03-18T20:25:29.238Z"
   },
   {
    "duration": 28,
    "start_time": "2023-03-18T20:25:29.254Z"
   },
   {
    "duration": 10550,
    "start_time": "2023-03-18T20:25:29.284Z"
   },
   {
    "duration": 4,
    "start_time": "2023-03-18T20:25:39.836Z"
   },
   {
    "duration": 17,
    "start_time": "2023-03-18T20:25:39.842Z"
   },
   {
    "duration": 24,
    "start_time": "2023-03-18T20:25:39.860Z"
   },
   {
    "duration": 1098903,
    "start_time": "2023-03-18T20:25:39.886Z"
   },
   {
    "duration": 86,
    "start_time": "2023-03-18T20:43:58.791Z"
   },
   {
    "duration": 17,
    "start_time": "2023-03-18T20:43:58.880Z"
   },
   {
    "duration": 1001284,
    "start_time": "2023-03-18T20:43:58.900Z"
   },
   {
    "duration": 228,
    "start_time": "2023-03-18T21:00:40.187Z"
   },
   {
    "duration": 5732431,
    "start_time": "2023-03-18T21:00:40.416Z"
   },
   {
    "duration": 596,
    "start_time": "2023-03-18T22:36:12.850Z"
   },
   {
    "duration": 307089,
    "start_time": "2023-03-18T22:36:13.451Z"
   },
   {
    "duration": 576,
    "start_time": "2023-03-18T22:41:20.542Z"
   },
   {
    "duration": 4,
    "start_time": "2023-03-18T22:41:21.120Z"
   },
   {
    "duration": 63,
    "start_time": "2023-03-18T22:41:21.126Z"
   },
   {
    "duration": 207,
    "start_time": "2023-03-18T22:41:21.192Z"
   },
   {
    "duration": 746,
    "start_time": "2023-03-18T22:41:21.401Z"
   },
   {
    "duration": 19,
    "start_time": "2023-03-18T22:41:22.149Z"
   },
   {
    "duration": 7,
    "start_time": "2023-03-18T22:41:22.176Z"
   },
   {
    "duration": 18,
    "start_time": "2023-03-18T22:41:22.185Z"
   },
   {
    "duration": 303,
    "start_time": "2023-03-18T22:41:22.206Z"
   },
   {
    "duration": 27,
    "start_time": "2023-03-18T22:41:22.512Z"
   }
  ],
  "kernelspec": {
   "display_name": "Python 3 (ipykernel)",
   "language": "python",
   "name": "python3"
  },
  "language_info": {
   "codemirror_mode": {
    "name": "ipython",
    "version": 3
   },
   "file_extension": ".py",
   "mimetype": "text/x-python",
   "name": "python",
   "nbconvert_exporter": "python",
   "pygments_lexer": "ipython3",
   "version": "3.10.9"
  },
  "toc": {
   "base_numbering": 1,
   "nav_menu": {},
   "number_sections": true,
   "sideBar": true,
   "skip_h1_title": true,
   "title_cell": "Содержание",
   "title_sidebar": "Contents",
   "toc_cell": true,
   "toc_position": {
    "height": "calc(100% - 180px)",
    "left": "10px",
    "top": "150px",
    "width": "302.391px"
   },
   "toc_section_display": true,
   "toc_window_display": false
  }
 },
 "nbformat": 4,
 "nbformat_minor": 2
}
